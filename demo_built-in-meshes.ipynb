{
 "cells": [
  {
   "cell_type": "markdown",
   "metadata": {},
   "source": [
    "Built-in meshes\n",
    "===============\n",
    "\n",
    "This demo is implemented in a single Python file,\n",
    "demo\\_built-in-meshes.py, and demonstrates use of the built-in meshes in\n",
    "DOLFIN.\n",
    "\n",
    "This demo illustrates:\n",
    "\n",
    "-   How to define some of the different built-in meshes in DOLFIN\n",
    "\n",
    "Problem definition\n",
    "------------------\n",
    "\n",
    "The demo focuses on the built-in meshes. We will look at the following\n",
    "meshes:\n",
    "\n",
    "-   :pyUnitIntervalMesh &lt;dolfin.cpp.mesh.UnitIntervalMesh&gt;\n",
    "-   :pyUnitSquareMesh &lt;dolfin.cpp.mesh.UnitSquareMesh&gt;\n",
    "-   :pyRectangleMesh &lt;dolfin.cpp.mesh.RectangleMesh&gt;\n",
    "-   :pyUnitCubeMesh &lt;dolfin.cpp.mesh.UnitCubeMesh&gt;\n",
    "-   :pyBoxMesh &lt;dolfin.cpp.mesh.BoxMesh&gt;\n",
    "\n",
    "Implementation\n",
    "--------------\n",
    "\n",
    "First, the :pydolfin module is imported:"
   ]
  },
  {
   "cell_type": "code",
   "execution_count": null,
   "metadata": {},
   "outputs": [],
   "source": [
    "from dolfin import *"
   ]
  },
  {
   "cell_type": "markdown",
   "metadata": {},
   "source": [
    "Specifying matplotlib as backend:"
   ]
  },
  {
   "cell_type": "code",
   "execution_count": null,
   "metadata": {},
   "outputs": [],
   "source": [
    "%matplotlib inline\n",
    "import matplotlib.pyplot as plt\n",
    "parameters[\"plotting_backend\"]=\"matplotlib\""
   ]
  },
  {
   "cell_type": "markdown",
   "metadata": {},
   "source": [
    "The first mesh we make is a mesh over the unit interval $(0,1)$.\n",
    ":pyUnitIntervalMesh\n",
    "&lt;dolfin.cpp.mesh.UnitIntervalMesh&gt; takes the number of intervals\n",
    "$(n_x)$ as input argument, and the total number of vertices is therefore\n",
    "$(n_x+1)$. :"
   ]
  },
  {
   "cell_type": "code",
   "execution_count": null,
   "metadata": {},
   "outputs": [],
   "source": [
    "mesh = UnitIntervalMesh(10)\n",
    "print(\"Plotting a UnitIntervalMesh\")\n",
    "plt.figure()\n",
    "plot(mesh, title=\"Unit interval\")"
   ]
  },
  {
   "cell_type": "markdown",
   "metadata": {},
   "source": [
    "This produces a mesh looking as follows:\n",
    "\n",
    "![image](unitintervalmesh.png)\n",
    "\n",
    "We then make our first version of a mesh on the unit square\n",
    "$[0,1] \\times [0,1]$. We must give the number of cells in the horizontal\n",
    "and vertical directions as the first two arguments to :pyUnitSquareMesh\n",
    "&lt;dolfin.cpp.generation.UnitSquareMesh&gt;. There is a third optional\n",
    "argument that indicates the direction of the diagonals. This can be set\n",
    "to \"left\", \"right\", \"right/left\", \"left/right\", or \"crossed\". We can\n",
    "also omit this argument and thereby use the default direction \"right\". :"
   ]
  },
  {
   "cell_type": "code",
   "execution_count": null,
   "metadata": {},
   "outputs": [],
   "source": [
    "mesh = UnitSquareMesh(10, 10)\n",
    "print(\"Plotting a UnitSquareMesh\")\n",
    "plt.figure()\n",
    "plot(mesh, title=\"Unit square\")"
   ]
  },
  {
   "cell_type": "markdown",
   "metadata": {},
   "source": [
    "![image](unitsquaremesh.png)\n",
    "\n",
    "Our second version of a mesh on the unit square has diagonals to the\n",
    "left, the third version has crossed diagonals and our final version has\n",
    "diagonals to both left and right:"
   ]
  },
  {
   "cell_type": "code",
   "execution_count": null,
   "metadata": {},
   "outputs": [],
   "source": [
    "mesh = UnitSquareMesh(10, 10, \"left\")\n",
    "print(\"Plotting a UnitSquareMesh\")\n",
    "plt.figure()\n",
    "plot(mesh, title=\"Unit square (left)\")\n",
    "\n",
    "mesh = UnitSquareMesh(10, 10, \"crossed\")\n",
    "print(\"Plotting a UnitSquareMesh\")\n",
    "plt.figure()\n",
    "plot(mesh, title=\"Unit square (crossed)\")\n",
    "\n",
    "mesh = UnitSquareMesh(10, 10, \"right/left\")\n",
    "print(\"Plotting a UnitSquareMesh\")\n",
    "plt.figure()\n",
    "plot(mesh, title=\"Unit square (right/left)\")"
   ]
  },
  {
   "cell_type": "markdown",
   "metadata": {},
   "source": [
    "![image](unitsquaremesh_left.png)\n",
    "\n",
    "![image](unitsquaremesh_crossed.png)\n",
    "\n",
    "![image](unitsquaremesh_left_right.png)\n",
    "\n",
    "The class :pyRectangleMesh\n",
    "&lt;dolfin.cpp.generation.RectangleMesh&gt; creates a mesh of a 2D\n",
    "rectangle spanned by two points (opposing corners) of the rectangle.\n",
    "Three additional arguments specify the number of divisions in the $x$-\n",
    "and $y$-directions, and as above the direction of the diagonals is given\n",
    "as a final optional argument (\"left\", \"right\", \"left/right\", or\n",
    "\"crossed\"). In the first mesh we use the default direction (\"right\") of\n",
    "the diagonal, and in the second mesh we use diagonals to both left and\n",
    "right. :"
   ]
  },
  {
   "cell_type": "code",
   "execution_count": null,
   "metadata": {},
   "outputs": [],
   "source": [
    "mesh = RectangleMesh(Point(0.0, 0.0), Point(10.0, 4.0), 10, 10)\n",
    "print(\"Plotting a RectangleMesh\")\n",
    "plt.figure()\n",
    "plot(mesh, title=\"Rectangle\")\n",
    "\n",
    "mesh = RectangleMesh(Point(-3.0, 2.0), Point(7.0, 6.0), 10, 10, \"right/left\")\n",
    "print(\"Plotting a RectangleMesh\")\n",
    "plt.figure()\n",
    "plot(mesh, title=\"Rectangle (right/left)\")"
   ]
  },
  {
   "cell_type": "markdown",
   "metadata": {},
   "source": [
    "![image](rectanglemesh.png)\n",
    "\n",
    "![image](rectanglemesh_left_right.png)\n",
    "\n",
    "To make a mesh of the 3D unit cube $[0,1] \\times [0,1] \\times\n",
    "[0,1]$, we use :pyUnitCubeMesh\n",
    "&lt;dolfin.cpp.generation.UnitCubeMesh&gt;. :pyUnitCubeMesh\n",
    "&lt;dolfin.cpp.generation.UnitCubeMesh&gt; takes the number of cells in\n",
    "the $x$-, $y$- and $z$-direction as the only three arguments. :"
   ]
  },
  {
   "cell_type": "code",
   "execution_count": null,
   "metadata": {},
   "outputs": [],
   "source": [
    "mesh = UnitCubeMesh(10, 10, 10)\n",
    "print(\"Plotting a UnitCubeMesh\")\n",
    "plt.figure()\n",
    "plot(mesh, title=\"Unit cube\")"
   ]
  },
  {
   "cell_type": "markdown",
   "metadata": {},
   "source": [
    "![image](unitcubemesh.png)\n",
    "\n",
    "Finally we will demonstrate a mesh on a rectangular prism in 3D. The\n",
    "prism is specified by two points (opposing corners) of the prism. Three\n",
    "additional arguments specify the number of divisions in the $x$-, $y$-\n",
    "and $z$-directions.\n",
    "\n",
    "Meshes for more complex geometries may be created using the mshr\n",
    "library, which functions as a plugin to DOLFIN, providing support for\n",
    "Constructive Solid Geometry (CSG) and mesh generation. For more details,\n",
    "refer to the mshr documentation. :"
   ]
  },
  {
   "cell_type": "code",
   "execution_count": null,
   "metadata": {},
   "outputs": [],
   "source": [
    "mesh = BoxMesh(Point(0.0, 0.0, 0.0), Point(10.0, 4.0, 2.0), 10, 10, 10)\n",
    "print(\"Plotting a BoxMesh\")\n",
    "plt.figure()\n",
    "plot(mesh, title=\"Box\")"
   ]
  },
  {
   "cell_type": "markdown",
   "metadata": {},
   "source": [
    "![image](boxmesh.png)\n",
    "\n",
    "By calling :pyinteractive\n",
    "&lt;dolfin.cpp.io.VTKPlotter.interactive&gt; we are allowed to resize,\n",
    "move and rotate the plots. :"
   ]
  },
  {
   "cell_type": "code",
   "execution_count": null,
   "metadata": {},
   "outputs": [],
   "source": [
    "interactive()"
   ]
  }
 ],
 "metadata": {},
 "nbformat": 4,
 "nbformat_minor": 1
}
