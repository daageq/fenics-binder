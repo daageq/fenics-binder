{
 "cells": [
  {
   "cell_type": "markdown",
   "metadata": {},
   "source": [
    "Dual-mixed formulation for Poisson equation\n",
    "======================================\n",
    "\n",
    "This demo is implemented in a single Python file,\n",
    "demo\\_mixed-poisson-dual.py, which contains both the variational forms\n",
    "and the solver.\n",
    "\n",
    "# Implementation\n",
    "\n",
    "This demo is implemented in the demo\\_mixed-poisson-dual.py file.\n",
    "\n",
    "First, the :pydolfin module is imported:"
   ]
  },
  {
   "cell_type": "code",
   "execution_count": null,
   "metadata": {
    "attributes": {
     "classes": [
      "sourceCode"
     ],
     "id": ""
    }
   },
   "outputs": [],
   "source": [
    "from dolfin import *"
   ]
  },
  {
   "cell_type": "markdown",
   "metadata": {},
   "source": [
    "Then, we need to create a :pyMesh &lt;dolfin.cpp.Mesh&gt; covering the\n",
    "unit square. In this example, we will let the mesh consist of 32 x 32\n",
    "squares with each square divided into two triangles:"
   ]
  },
  {
   "cell_type": "code",
   "execution_count": null,
   "metadata": {
    "attributes": {
     "classes": [
      "sourceCode"
     ],
     "id": ""
    }
   },
   "outputs": [],
   "source": [
    "# Create mesh\n",
    "mesh = UnitSquareMesh(32, 32)"
   ]
  },
  {
   "cell_type": "markdown",
   "metadata": {},
   "source": [
    "Next, we need to define the function spaces. We define the two function\n",
    "spaces $\\Sigma_h = DRT$ and $V_h = CG$ separately, before combining\n",
    "these into a mixed function space:"
   ]
  },
  {
   "cell_type": "code",
   "execution_count": null,
   "metadata": {
    "attributes": {
     "classes": [
      "sourceCode"
     ],
     "id": ""
    }
   },
   "outputs": [],
   "source": [
    "# Define function spaces and mixed (product) space\n",
    "DRT = FunctionSpace(mesh, \"DRT\", 2)\n",
    "CG = FunctionSpace(mesh, \"CG\", 3)\n",
    "W = DRT * CG"
   ]
  },
  {
   "cell_type": "markdown",
   "metadata": {},
   "source": [
    "The second argument to :pyFunctionSpace\n",
    "&lt;dolfin.functions.functionspace.FunctionSpace&gt; specifies the type\n",
    "of finite element family, while the third argument specifies the\n",
    "polynomial degree. The UFL user manual contains a list of all available\n",
    "finite element families and more details. The \\* operator creates a\n",
    "mixed (product) space `W` from the two separate spaces `DRT` and `CG`.\n",
    "Hence,\n",
    "\n",
    "$$W = \\{ (\\tau, v) \\ \\text{such that} \\ \\tau \\in DRT, v \\in CG \\}.$$\n",
    "\n",
    "Next, we need to specify the trial functions (the unknowns) and the test\n",
    "functions on this space. This can be done as follows"
   ]
  },
  {
   "cell_type": "code",
   "execution_count": null,
   "metadata": {
    "attributes": {
     "classes": [
      "sourceCode"
     ],
     "id": ""
    }
   },
   "outputs": [],
   "source": [
    "# Define trial and test functions\n",
    "(sigma, u) = TrialFunctions(W)\n",
    "(tau, v) = TestFunctions(W)"
   ]
  },
  {
   "cell_type": "markdown",
   "metadata": {},
   "source": [
    "In order to define the variational form, it only remains to define the\n",
    "source functions $f$ and $g$. This is done just as for the\n",
    "mixed Poisson demo\n",
    "&lt;demo\\_pde\\_mixed-poisson\\_python\\_documentation&gt;:"
   ]
  },
  {
   "cell_type": "code",
   "execution_count": null,
   "metadata": {
    "attributes": {
     "classes": [
      "sourceCode"
     ],
     "id": ""
    }
   },
   "outputs": [],
   "source": [
    "# Define source functions\n",
    "f = Expression(\"10*exp(-(pow(x[0] - 0.5, 2) + pow(x[1] - 0.5, 2)) / 0.02)\")\n",
    "g = Expression(\"sin(5.0*x[0])\")"
   ]
  },
  {
   "cell_type": "markdown",
   "metadata": {},
   "source": [
    "We are now ready to define the variational forms a and L."
   ]
  },
  {
   "cell_type": "code",
   "execution_count": null,
   "metadata": {
    "attributes": {
     "classes": [
      "sourceCode"
     ],
     "id": ""
    }
   },
   "outputs": [],
   "source": [
    "# Define variational form\n",
    "a = (dot(sigma, tau) + dot(grad(u), tau) + dot(sigma, grad(v)))*dx\n",
    "L = - f*v*dx - g*v*ds"
   ]
  },
  {
   "cell_type": "markdown",
   "metadata": {},
   "source": [
    "It only remains to prescribe the Dirichlet boundary condition for $u$.\n",
    "Essential boundary conditions are specified through the class\n",
    ":pyDirichletBC &lt;dolfin.fem.bcs.DirichletBC&gt; which takes three\n",
    "arguments: the function space the boundary condition is supposed to be\n",
    "applied to, the data for the boundary condition, and the relevant part\n",
    "of the boundary.\n",
    "\n",
    "We want to apply the boundary condition to the second subspace of the\n",
    "mixed space. Subspaces of a :pyMixedFunctionSpace\n",
    "&lt;dolfin.functions.functionspace.MixedFunctionSpace&gt; can be\n",
    "accessed by the method :pysub\n",
    "&lt;dolfin.functions.functionspace.FunctionSpaceBase.sub&gt;. In our\n",
    "case, this reads `W.sub(1)`. (Do *not* use the separate space `CG` as\n",
    "this would mess up the numbering.)\n",
    "\n",
    "Specifying the relevant part of the boundary can be done as for the\n",
    "Poisson demo:"
   ]
  },
  {
   "cell_type": "code",
   "execution_count": null,
   "metadata": {
    "attributes": {
     "classes": [
      "sourceCode"
     ],
     "id": ""
    }
   },
   "outputs": [],
   "source": [
    "# Define Dirichlet BC\n",
    "def boundary(x):\n",
    "    return x[0] < DOLFIN_EPS or x[0] > 1.0 - DOLFIN_EPS"
   ]
  },
  {
   "cell_type": "markdown",
   "metadata": {},
   "source": [
    "Now, all the pieces are in place for the construction of the essential\n",
    "boundary condition:"
   ]
  },
  {
   "cell_type": "code",
   "execution_count": null,
   "metadata": {
    "attributes": {
     "classes": [
      "sourceCode"
     ],
     "id": ""
    }
   },
   "outputs": [],
   "source": [
    "bc = DirichletBC(W.sub(1), 0.0, boundary)"
   ]
  },
  {
   "cell_type": "markdown",
   "metadata": {},
   "source": [
    "To compute the solution we use the bilinear and linear forms, and the\n",
    "boundary condition, but we also need to create a :pyFunction\n",
    "&lt;dolfin.functions.function.Function&gt; to store the solution(s). The\n",
    "(full) solution will be stored in the `w`, which we initialise using the\n",
    ":pyFunctionSpace\n",
    "&lt;dolfin.functions.functionspace.FunctionSpace&gt; `W`. The actual\n",
    "computation is performed by calling :pysolve\n",
    "&lt;dolfin.fem.solving.solve&gt;. The separate components `sigma` and\n",
    "`u` of the solution can be extracted by calling the :pysplit\n",
    "&lt;dolfin.functions.function.Function.split&gt; function. Finally, we\n",
    "plot the solutions to examine the result."
   ]
  },
  {
   "cell_type": "code",
   "execution_count": null,
   "metadata": {
    "attributes": {
     "classes": [
      "sourceCode"
     ],
     "id": ""
    }
   },
   "outputs": [],
   "source": [
    "# Compute solution\n",
    "w = Function(W)\n",
    "solve(a == L, w, bc)\n",
    "(sigma, u) = w.split()\n",
    "\n",
    "# Plot sigma and u\n",
    "plot(sigma)\n",
    "plot(u)\n",
    "interactive()"
   ]
  },
  {
   "cell_type": "markdown",
   "metadata": {},
   "source": [
    "# Complete code"
   ]
  }
 ],
 "metadata": {
  "kernelspec": {
   "display_name": "Python 2 (fenics)",
   "language": "python",
   "name": "fenics"
  }
 },
 "nbformat": 4,
 "nbformat_minor": 0
}
