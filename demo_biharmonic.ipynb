{
 "cells": [
  {
   "cell_type": "markdown",
   "metadata": {},
   "source": [
    "Biharmonic equation\n",
    "===================\n",
    "\n",
    "This demo is implemented in a single Python file, demo\\_biharmonic.py,\n",
    "which contains both the variational forms and the solver.\n",
    "\n",
    "This demo illustrates how to:\n",
    "\n",
    "-   Solve a linear partial differential equation\n",
    "-   Use a discontinuous Galerkin method\n",
    "-   Solve a fourth-order differential equation\n",
    "\n",
    "The solution for $u$ in this demo will look as follows:\n",
    "\n",
    "![image](../biharmonic_u.png)\n",
    "\n",
    "Equation and problem definition\n",
    "-------------------------------\n",
    "\n",
    "The biharmonic equation is a fourth-order elliptic equation. On the\n",
    "domain $\\Omega \\subset \\mathbb{R}^{d}$, $1 \\le d \\le 3$, it reads\n",
    "\n",
    "$$\\nabla^{4} u = f \\quad {\\rm in} \\ \\Omega,$$\n",
    "\n",
    "where $\\nabla^{4} \\equiv \\nabla^{2} \\nabla^{2}$ is the biharmonic\n",
    "operator and $f$ is a prescribed source term. To formulate a complete\n",
    "boundary value problem, the biharmonic equation must be complemented by\n",
    "suitable boundary conditions.\n",
    "\n",
    "Multiplying the biharmonic equation by a test function and integrating\n",
    "by parts twice leads to a problem second-order derivatives, which would\n",
    "requires $H^{2}$ conforming (roughly $C^{1}$ continuous) basis\n",
    "functions. To solve the biharmonic equation using Lagrange finite\n",
    "element basis functions, the biharmonic equation can be split into two\n",
    "second-order equations (see the Mixed Poisson demo for a mixed method\n",
    "for the Poisson equation), or a variational formulation can be\n",
    "constructed that imposes weak continuity of normal derivatives between\n",
    "finite element cells. The demo uses a discontinuous Galerkin approach to\n",
    "impose continuity of the normal derivative weakly.\n",
    "\n",
    "Consider a triangulation $\\mathcal{T}$ of the domain $\\Omega$, where the\n",
    "set of interior facets is denoted by $\\mathcal{E}_h^{\\rm int}$.\n",
    "Functions evaluated on opposite sides of a facet are indicated by the\n",
    "subscripts '$+$' and '$-$'. Using the standard continuous Lagrange\n",
    "finite element space\n",
    "\n",
    "$$V = \\left\\{v \\in H^{1}_{0}(\\Omega)\\,:\\, v \\in P_{k}(K) \\ \\forall \\ K \\in \\mathcal{T} \\right\\}$$\n",
    "\n",
    "and considering the boundary conditions\n",
    "\n",
    "$$u            &= 0 \\quad {\\rm on} \\ \\partial\\Omega \\\\\n",
    "\\nabla^{2} u &= 0 \\quad {\\rm on} \\ \\partial\\Omega$$\n",
    "\n",
    "a weak formulation of the biharmonic problem reads: find $u \\in\n",
    "V$ such that\n",
    "\n",
    "> a(u,v)=L(v) quad forall v in V,\n",
    "\n",
    "where the bilinear form is\n",
    "\n",
    "$$a(u, v) = \\sum_{K \\in \\mathcal{T}} \\int_{K} \\nabla^{2} u \\nabla^{2} v \\, {\\rm d}x \\$$\n",
    "\n",
    "> +sum\\_{E in mathcal{E}\\_h\\^{rm int}}left(int\\_{E} frac{alpha}{h\\_E}\n",
    "> \\[!!\\[ nabla u \\]!!\\] \\[!!\\[ nabla v \\]!!\\] , {rm d}s - int\\_{E}\n",
    "> left&lt;nabla\\^{2} u right&gt;\\[!!\\[ nabla v \\]!!\\] , {rm d}s -\n",
    "> int\\_{E} \\[!!\\[ nabla u \\]!!\\] left&lt;nabla\\^{2} v right&gt; , {rm\n",
    "> d}sright)\n",
    "\n",
    "and the linear form is\n",
    "\n",
    "> L(v) = int\\_{Omega} fv , {rm d}x\n",
    "\n",
    "Furthermore, $\\left< u \\right> = \\frac{1}{2} (u_{+} + u_{-})$,\n",
    "$[\\!\\![ w ]\\!\\!]  = w_{+} \\cdot n_{+} + w_{-} \\cdot n_{-}$,\n",
    "$\\alpha \\ge 0$ is a penalty parameter and $h_E$ is a measure of the cell\n",
    "size.\n",
    "\n",
    "The input parameters for this demo are defined as follows:\n",
    "\n",
    "-   $\\Omega = [0,1] \\times [0,1]$ (a unit square)\n",
    "-   $\\alpha = 8.0$ (penalty parameter)\n",
    "-   $f = 4.0 \\pi^4\\sin(\\pi x)\\sin(\\pi y)$ (source term)\n",
    "\n",
    "Implementation\n",
    "--------------\n",
    "\n",
    "This demo is implemented in the demo\\_biharmonic.py file.\n",
    "\n",
    "First, the :pydolfin module is imported:"
   ]
  },
  {
   "cell_type": "code",
   "execution_count": null,
   "metadata": {},
   "outputs": [],
   "source": [
    "from dolfin import *"
   ]
  },
  {
   "cell_type": "markdown",
   "metadata": {},
   "source": [
    "Specifying matplotlib as backend:"
   ]
  },
  {
   "cell_type": "code",
   "execution_count": null,
   "metadata": {},
   "outputs": [],
   "source": [
    "%matplotlib inline\n",
    "import matplotlib.pyplot as plt\n",
    "parameters[\"plotting_backend\"]=\"matplotlib\""
   ]
  },
  {
   "cell_type": "markdown",
   "metadata": {},
   "source": [
    "Next, some parameters for the form compiler are set:"
   ]
  },
  {
   "cell_type": "code",
   "execution_count": null,
   "metadata": {},
   "outputs": [],
   "source": [
    "# Optimization options for the form compiler\n",
    "parameters[\"form_compiler\"][\"cpp_optimize\"] = True\n",
    "parameters[\"form_compiler\"][\"optimize\"] = True"
   ]
  },
  {
   "cell_type": "markdown",
   "metadata": {},
   "source": [
    "A mesh is created, and a quadratic finite element function space:"
   ]
  },
  {
   "cell_type": "code",
   "execution_count": null,
   "metadata": {},
   "outputs": [],
   "source": [
    "# Make mesh ghosted for evaluation of DG terms\n",
    "parameters[\"ghost_mode\"] = \"shared_facet\"\n",
    "\n",
    "# Create mesh and define function space\n",
    "mesh = UnitSquareMesh(32, 32)\n",
    "V = FunctionSpace(mesh, \"CG\", 2)"
   ]
  },
  {
   "cell_type": "markdown",
   "metadata": {},
   "source": [
    "A subclass of :pySubDomain &lt;dolfin.cpp.SubDomain&gt;,\n",
    "`DirichletBoundary` is created for later defining the boundary of the\n",
    "domain:"
   ]
  },
  {
   "cell_type": "code",
   "execution_count": null,
   "metadata": {},
   "outputs": [],
   "source": [
    "# Define Dirichlet boundary\n",
    "class DirichletBoundary(SubDomain):\n",
    "    def inside(self, x, on_boundary):\n",
    "        return on_boundary"
   ]
  },
  {
   "cell_type": "markdown",
   "metadata": {},
   "source": [
    "A subclass of :pyExpression\n",
    "&lt;dolfin.functions.expression.Expression&gt;, `Source` is created for\n",
    "the source term $f$:"
   ]
  },
  {
   "cell_type": "code",
   "execution_count": null,
   "metadata": {},
   "outputs": [],
   "source": [
    "class Source(Expression):\n",
    "    def eval(self, values, x):\n",
    "        values[0] = 4.0*pi**4*sin(pi*x[0])*sin(pi*x[1])"
   ]
  },
  {
   "cell_type": "markdown",
   "metadata": {},
   "source": [
    "The Dirichlet boundary condition is created:"
   ]
  },
  {
   "cell_type": "code",
   "execution_count": null,
   "metadata": {},
   "outputs": [],
   "source": [
    "# Define boundary condition\n",
    "u0 = Constant(0.0)\n",
    "bc = DirichletBC(V, u0, DirichletBoundary())"
   ]
  },
  {
   "cell_type": "markdown",
   "metadata": {},
   "source": [
    "On the finite element space `V`, trial and test functions are created:"
   ]
  },
  {
   "cell_type": "code",
   "execution_count": null,
   "metadata": {},
   "outputs": [],
   "source": [
    "# Define trial and test functions\n",
    "u = TrialFunction(V)\n",
    "v = TestFunction(V)"
   ]
  },
  {
   "cell_type": "markdown",
   "metadata": {},
   "source": [
    "A function for the cell size $h$ is created, as is a function for the\n",
    "average size of cells that share a facet (`h_avg`). The UFL syntax\n",
    "`('+')` and `('-')` restricts a function to the `('+')` and `('-')`\n",
    "sides of a facet, respectively. The unit outward normal to cell\n",
    "boundaries (`n`) is created, as is the source term `f` and the penalty\n",
    "parameter `alpha`. The penalty parameters is made a\n",
    ":pyConstant &lt;dolfin.functions.constant.Constant&gt; so that it can be\n",
    "changed without needing to regenerate code. :"
   ]
  },
  {
   "cell_type": "code",
   "execution_count": null,
   "metadata": {},
   "outputs": [],
   "source": [
    "# Define normal component, mesh size and right-hand side\n",
    "h = CellSize(mesh)\n",
    "h_avg = (h('+') + h('-'))/2.0\n",
    "n = FacetNormal(mesh)\n",
    "f = Source(degree=2)\n",
    "\n",
    "# Penalty parameter\n",
    "alpha = Constant(8.0)"
   ]
  },
  {
   "cell_type": "markdown",
   "metadata": {},
   "source": [
    "The bilinear and linear forms are defined:"
   ]
  },
  {
   "cell_type": "code",
   "execution_count": null,
   "metadata": {},
   "outputs": [],
   "source": [
    "# Define bilinear form\n",
    "a = inner(div(grad(u)), div(grad(v)))*dx \\\n",
    "  - inner(avg(div(grad(u))), jump(grad(v), n))*dS \\\n",
    "  - inner(jump(grad(u), n), avg(div(grad(v))))*dS \\\n",
    "  + alpha/h_avg*inner(jump(grad(u),n), jump(grad(v),n))*dS\n",
    "\n",
    "# Define linear form\n",
    "L = f*v*dx"
   ]
  },
  {
   "cell_type": "markdown",
   "metadata": {},
   "source": [
    "A :pyFunction &lt;dolfin.functions.function.Function&gt; is created to\n",
    "store the solution and the variational problem is solved:"
   ]
  },
  {
   "cell_type": "code",
   "execution_count": null,
   "metadata": {},
   "outputs": [],
   "source": [
    "# Solve variational problem\n",
    "u = Function(V)\n",
    "solve(a == L, u, bc)"
   ]
  },
  {
   "cell_type": "markdown",
   "metadata": {},
   "source": [
    "The computed solution is written to a file in VTK format and plotted to\n",
    "the screen. :"
   ]
  },
  {
   "cell_type": "code",
   "execution_count": null,
   "metadata": {},
   "outputs": [],
   "source": [
    "# Save solution to file\n",
    "file = File(\"biharmonic.pvd\")\n",
    "file << u\n",
    "\n",
    "# Plot solution\n",
    "plt.figure()\n",
    "plot(u, interactive=True)"
   ]
  }
 ],
 "metadata": {},
 "nbformat": 4,
 "nbformat_minor": 1
}
