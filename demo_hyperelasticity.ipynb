{
 "cells": [
  {
   "cell_type": "markdown",
   "metadata": {},
   "source": [
    "Hyperelasticity\n",
    "===============\n",
    "\n",
    "This demo is implemented in a single Python file,\n",
    "demo\\_hyperelasticity.py, which contains both the variational forms and\n",
    "the solver.\n",
    "\n",
    "Implementation\n",
    "--------------\n",
    "\n",
    "This demo is implemented in the demo\\_hyperelasticity.py file.\n",
    "\n",
    "First, the :pydolfin module is imported :"
   ]
  },
  {
   "cell_type": "code",
   "execution_count": null,
   "metadata": {},
   "outputs": [],
   "source": [
    "from dolfin import *"
   ]
  },
  {
   "cell_type": "markdown",
   "metadata": {},
   "source": [
    "Specifying matplotlib as backend:"
   ]
  },
  {
   "cell_type": "code",
   "execution_count": null,
   "metadata": {},
   "outputs": [],
   "source": [
    "%matplotlib inline\n",
    "import matplotlib.pyplot as plt\n",
    "parameters[\"plotting_backend\"]=\"matplotlib\""
   ]
  },
  {
   "cell_type": "markdown",
   "metadata": {},
   "source": [
    "The behavior of the form compiler FFC can be adjusted by prescribing\n",
    "various parameters. Here, we want to use some of the optimization\n",
    "features. :"
   ]
  },
  {
   "cell_type": "code",
   "execution_count": null,
   "metadata": {},
   "outputs": [],
   "source": [
    "# Optimization options for the form compiler\n",
    "parameters[\"form_compiler\"][\"cpp_optimize\"] = True\n",
    "ffc_options = {\"optimize\": True, \\\n",
    "               \"eliminate_zeros\": True, \\\n",
    "               \"precompute_basis_const\": True, \\\n",
    "               \"precompute_ip_const\": True}"
   ]
  },
  {
   "cell_type": "markdown",
   "metadata": {},
   "source": [
    "The first line tells the form compiler to use C++ compiler optimizations\n",
    "when compiling the generated code. The remainder is a dictionary of\n",
    "options which will be passed to the form compiler. It lists the\n",
    "optimizations strategies that we wish the form compiler to use when\n",
    "generating code.\n",
    "\n",
    "First, we need a tetrahedral mesh of the domain and a function space on\n",
    "this mesh. Here, we choose to create a unit cube mesh with 25 ( = 24 +\n",
    "1) vertices in one direction and 17 ( = 16 + 1) vertices in the other\n",
    "two direction. On this mesh, we define a function space of continuous\n",
    "piecewise linear vector polynomials (a Lagrange vector element space) :"
   ]
  },
  {
   "cell_type": "code",
   "execution_count": null,
   "metadata": {},
   "outputs": [],
   "source": [
    "# Create mesh and define function space\n",
    "mesh = UnitCubeMesh(24, 16, 16)\n",
    "V = VectorFunctionSpace(mesh, \"Lagrange\", 1)"
   ]
  },
  {
   "cell_type": "markdown",
   "metadata": {},
   "source": [
    "Note that :pyVectorFunctionSpace\n",
    "&lt;dolfin.functions.functionspace.VectorFunctionSpace&gt; creates a\n",
    "function space of vector fields. The dimension of the vector field (the\n",
    "number of components) is assumed to be the same as the spatial\n",
    "dimension, unless otherwise specified.\n",
    "\n",
    "The portions of the boundary on which Dirichlet boundary conditions will\n",
    "be applied are now defined :"
   ]
  },
  {
   "cell_type": "code",
   "execution_count": null,
   "metadata": {},
   "outputs": [],
   "source": [
    "# Mark boundary subdomians\n",
    "left =  CompiledSubDomain(\"near(x[0], side) && on_boundary\", side = 0.0)\n",
    "right = CompiledSubDomain(\"near(x[0], side) && on_boundary\", side = 1.0)"
   ]
  },
  {
   "cell_type": "markdown",
   "metadata": {},
   "source": [
    "The boundary subdomain `left` corresponds to the part of the boundary on\n",
    "which $x=0$ and the boundary subdomain `right` corresponds to the part\n",
    "of the boundary on which $x=1$. Note that C++ syntax is used in the\n",
    ":pyCompiledSubDomain\n",
    "&lt;dolfin.compilemodules.subdomains.CompiledSubDomain&gt;\\` function\n",
    "since the function will be automatically compiled into C++ code for\n",
    "efficiency. The (built-in) variable `on_boundary` is true for points on\n",
    "the boundary of a domain, and false otherwise.\n",
    "\n",
    "The Dirichlet boundary values are defined using compiled expressions :"
   ]
  },
  {
   "cell_type": "code",
   "execution_count": null,
   "metadata": {},
   "outputs": [],
   "source": [
    "# Define Dirichlet boundary (x = 0 or x = 1)\n",
    "c = Constant((0.0, 0.0, 0.0))\n",
    "r = Expression((\"scale*0.0\",\n",
    "                \"scale*(y0 + (x[1] - y0)*cos(theta) - (x[2] - z0)*sin(theta) - x[1])\",\n",
    "                \"scale*(z0 + (x[1] - y0)*sin(theta) + (x[2] - z0)*cos(theta) - x[2])\"),\n",
    "                scale = 0.5, y0 = 0.5, z0 = 0.5, theta = pi/3, degree=2)"
   ]
  },
  {
   "cell_type": "markdown",
   "metadata": {},
   "source": [
    "Note the use of setting named parameters in the :pyExpression\n",
    "&lt;dolfin.functions.expression.Expression&gt; for `r`.\n",
    "\n",
    "The boundary subdomains and the boundary condition expressions are\n",
    "collected together in two :pyDirichletBC\n",
    "&lt;dolfin.fem.bcs.DirichletBC&gt; objects, one for each part of the\n",
    "Dirichlet boundary :"
   ]
  },
  {
   "cell_type": "code",
   "execution_count": null,
   "metadata": {},
   "outputs": [],
   "source": [
    "bcl = DirichletBC(V, c, left)\n",
    "bcr = DirichletBC(V, r, right)\n",
    "bcs = [bcl, bcr]"
   ]
  },
  {
   "cell_type": "markdown",
   "metadata": {},
   "source": [
    "The Dirichlet (essential) boundary conditions are constraints on the\n",
    "function space $V$. The function space is therefore required as an\n",
    "argument to :pyDirichletBC &lt;dolfin.fem.bcs.DirichletBC&gt;.\n",
    "\n",
    "Trial and test functions, and the most recent approximate displacement\n",
    "`u` are defined on the finite element space `V`, and two objects of type\n",
    ":pyConstant &lt;dolfin.functions.constant.Constant&gt; are declared for\n",
    "the body force (`B`) and traction (`T`) terms :"
   ]
  },
  {
   "cell_type": "code",
   "execution_count": null,
   "metadata": {},
   "outputs": [],
   "source": [
    "# Define functions\n",
    "du = TrialFunction(V)            # Incremental displacement\n",
    "v  = TestFunction(V)             # Test function\n",
    "u  = Function(V)                 # Displacement from previous iteration\n",
    "B  = Constant((0.0, -0.5, 0.0))  # Body force per unit volume\n",
    "T  = Constant((0.1,  0.0, 0.0))  # Traction force on the boundary"
   ]
  },
  {
   "cell_type": "markdown",
   "metadata": {},
   "source": [
    "In place of :pyConstant &lt;dolfin.functions.constant.Constant&gt;, it\n",
    "is also possible to use `as_vector`, e.g.\n",
    "`B = as_vector( [0.0, -0.5, 0.0] )`. The advantage of Constant is that\n",
    "its values can be changed without requiring re-generation and\n",
    "re-compilation of C++ code. On the other hand, using `as_vector` can\n",
    "eliminate some function calls during assembly.\n",
    "\n",
    "With the functions defined, the kinematic quantities involved in the\n",
    "model are defined using UFL syntax :"
   ]
  },
  {
   "cell_type": "code",
   "execution_count": null,
   "metadata": {},
   "outputs": [],
   "source": [
    "# Kinematics\n",
    "d = len(u)\n",
    "I = Identity(d)             # Identity tensor\n",
    "F = I + grad(u)             # Deformation gradient\n",
    "C = F.T*F                   # Right Cauchy-Green tensor\n",
    "\n",
    "# Invariants of deformation tensors\n",
    "Ic = tr(C)\n",
    "J  = det(F)"
   ]
  },
  {
   "cell_type": "markdown",
   "metadata": {},
   "source": [
    "Next, the material parameters are set and the strain energy density and\n",
    "the total potential energy are defined, again using UFL syntax :"
   ]
  },
  {
   "cell_type": "code",
   "execution_count": null,
   "metadata": {},
   "outputs": [],
   "source": [
    "# Elasticity parameters\n",
    "E, nu = 10.0, 0.3\n",
    "mu, lmbda = Constant(E/(2*(1 + nu))), Constant(E*nu/((1 + nu)*(1 - 2*nu)))\n",
    "\n",
    "# Stored strain energy density (compressible neo-Hookean model)\n",
    "psi = (mu/2)*(Ic - 3) - mu*ln(J) + (lmbda/2)*(ln(J))**2\n",
    "\n",
    "# Total potential energy\n",
    "Pi = psi*dx - dot(B, u)*dx - dot(T, u)*ds"
   ]
  },
  {
   "cell_type": "markdown",
   "metadata": {},
   "source": [
    "Just as for the body force and traction vectors, :pyConstant\n",
    "&lt;dolfin.functions.constant.Constant&gt; has been used for the model\n",
    "parameters `mu` and `lmbda` to avoid re-generation of C++ code when\n",
    "changing model parameters. Note that `lambda` is a reserved keyword in\n",
    "Python, hence the misspelling `lmbda`.\n",
    "\n",
    "Directional derivatives are now computed of $\\Pi$ and $L$ (see\n",
    "first\\_variation and second\\_variation) :"
   ]
  },
  {
   "cell_type": "code",
   "execution_count": null,
   "metadata": {},
   "outputs": [],
   "source": [
    "# Compute first variation of Pi (directional derivative about u in the direction of v)\n",
    "F = derivative(Pi, u, v)\n",
    "\n",
    "# Compute Jacobian of F\n",
    "J = derivative(F, u, du)"
   ]
  },
  {
   "cell_type": "markdown",
   "metadata": {},
   "source": [
    "The complete variational problem can now be solved by a single call to\n",
    ":pysolve &lt;dolfin.fem.solving.solve&gt; :"
   ]
  },
  {
   "cell_type": "code",
   "execution_count": null,
   "metadata": {},
   "outputs": [],
   "source": [
    "# Solve variational problem\n",
    "solve(F == 0, u, bcs, J=J,\n",
    "      form_compiler_parameters=ffc_options)"
   ]
  },
  {
   "cell_type": "markdown",
   "metadata": {},
   "source": [
    "The dictionary of form compiler options, which were defined initially,\n",
    "is supplied using `form_compiler_parameters = ffc_options`.\n",
    "\n",
    "Finally, the solution `u` is saved to a file named `displacement.pvd` in\n",
    "VTK format, and the deformed mesh is plotted to the screen :"
   ]
  },
  {
   "cell_type": "code",
   "execution_count": null,
   "metadata": {},
   "outputs": [],
   "source": [
    "# Save solution in VTK format\n",
    "file = File(\"displacement.pvd\");\n",
    "file << u;\n",
    "\n",
    "# Plot and hold solution\n",
    "plt.figure()\n",
    "plot(u, mode = \"displacement\", interactive = True)"
   ]
  }
 ],
 "metadata": {},
 "nbformat": 4,
 "nbformat_minor": 1
}
