{
 "cells": [
  {
   "cell_type": "markdown",
   "metadata": {},
   "source": [
    "Auto adaptive Poisson equation\n",
    "==============================\n",
    "\n",
    "This demo is implemented in a single Python file,\n",
    "demo\\_auto-adaptive-poisson.py, which contains both the variational\n",
    "forms and the solver.\n",
    "\n",
    "In this demo we will use goal oriented adaptivity and error control\n",
    "which applies a duality technique to derive error estimates taken\n",
    "directly from the computed solution which then are used to weight local\n",
    "residuals. To this end, we derive an $\\textit{a\n",
    "posteriori}$ error estimate and error indicators. We define a goal\n",
    "functional $\\mathcal{M} : V \\rightarrow \\mathbb{R}$, which expresses the\n",
    "localized physical properties of the solution of a simulation. The\n",
    "objective of goal oriented adaptive error control is to minimize\n",
    "computational work to obtain a given level of accuracy in $\\mathcal{M}$.\n",
    "\n",
    "We will thus illustrate how to:\n",
    "\n",
    "-   Solve a linear partial differential equation with automatic adaptive\n",
    "    mesh refinement\n",
    "-   Define a goal functional\n",
    "-   Use :pyAdaptiveLinearVariationalSolver\n",
    "    &lt;dolfin.cpp.fem.AdaptiveLinearVariationalSolver&gt;\n",
    "\n",
    "The two solutions for u in this demo will look as follows, where the\n",
    "first is the unrefined while the second is the refined solution:\n",
    "\n",
    "![image](../u_unrefined.png)\n",
    "\n",
    "![image](../u_refined.png)\n",
    "\n",
    "Equation and problem definition\n",
    "-------------------------------\n",
    "\n",
    "The Poisson equation is the canonical elliptic partial differential\n",
    "equation. For a domain $\\Omega \\subset \\mathbb{R}^n$ with boundary\n",
    "$\\partial \\Omega = \\Gamma_{D} \\cup \\Gamma_{N}$, the Poisson equation\n",
    "with particular boundary conditions reads:\n",
    "\n",
    "$$- \\nabla^{2} u &= f \\quad {\\rm in} \\ \\Omega, \\\\\n",
    "u &= 0 \\quad {\\rm on} \\ \\Gamma_{D}, \\\\\n",
    "\\nabla u \\cdot n &= g \\quad {\\rm on} \\ \\Gamma_{N}. \\\\$$\n",
    "\n",
    "Here, $f$ and $g$ are input data and n denotes the outward directed\n",
    "boundary normal. The variational form of Poisson equation reads: find\n",
    "$u \\in V$ such that\n",
    "\n",
    "$$a(u, v) = L(v) \\quad \\forall \\ v \\in \\hat{V},$$\n",
    "\n",
    "which we will call the continous primal problem, where $V$, $\\hat{V}$\n",
    "are the trial- and test spaces and\n",
    "\n",
    "$$a(u, v) &= \\int_{\\Omega} \\nabla u \\cdot \\nabla v \\, {\\rm d} x, \\\\\n",
    "L(v)    &= \\int_{\\Omega} f v \\, {\\rm d} x + \\int_{\\Gamma_{N}} g v \\, {\\rm d} s.$$\n",
    "\n",
    "The expression $a(u, v)$ is the bilinear form and $L(v)$ is the linear\n",
    "form. It is assumed that all functions in $V$ satisfy the Dirichlet\n",
    "boundary conditions ($u = 0 \\ {\\rm on} \\\n",
    "\\Gamma_{D}$).\n",
    "\n",
    "The above definitions is that of the continuous problem. In the actual\n",
    "computer implementation we use a descrete formulation which reads: find\n",
    "$u \\in V_h$ such that\n",
    "\n",
    "$$a(u_h, v) = L(v) \\quad \\forall \\ v \\in \\hat{V}_h.$$\n",
    "\n",
    "We will refer to the above equation as the discrete primal problem.\n",
    "Here, $V_h$ and $\\hat{V_h}$ are finite dimensional subspaces.\n",
    "\n",
    "The weak residual is defined as\n",
    "\n",
    "$$r(v) = L(v) - a(u_h, v).$$\n",
    "\n",
    "By the Galerkin orthogonality, we have\n",
    "\n",
    "$$r(v) = L(v) - a(u_h, v) = a(u_h, v) -  a(u_h, v) = 0\\,\\, \\forall v \\in \\hat{V}_{h},$$\n",
    "\n",
    "which means that the residual vanishes for all functions in\n",
    "$\\hat{V}_{h}$. This property is used further in the derivation of the\n",
    "error estimates. wish to compute a solution $u_h$ to the discrete primal\n",
    "problem defined above such that for a given tolerance $\\mathrm{TOL}$ we\n",
    "have\n",
    "\n",
    "$$\\eta = \\left| \\mathcal{M}(u_h) - \\mathcal{u_h} \\right| \\leq \\mathrm{TOL}.$$\n",
    "\n",
    "Next we derive an $\\textit{a posteriori}$ error estimate by defining the\n",
    "discrete dual variational problem: find $z_h \\in\n",
    "V_h^*$ such that\n",
    "\n",
    "Here $V^*, \\hat{V}_h^*$ are the dual trial- and test spaces and\n",
    "$a^* : V^* \\times \\hat{V}^* \\rightarrow \\mathbb{R}$ is the adjoint of\n",
    "$a$ such that $a^*(v,w) = a(w,v)$. We find that\n",
    "\n",
    "$$\\mathcal{M}(u - \\mathcal{u_h}) = a^*(z, u - u_h) = a(u - u_h, z) = a(u,z) - a(u_h,z) = L(z) - a(u_h,z) = r(z)$$\n",
    "\n",
    "and by Galerkin orthogonality we have $r(z) = r(z - v_h)\\,\\,\n",
    "\\forall v_h \\in \\hat{V}_h$. Note that the residual vanishes if\n",
    "$z \\in \\hat{V}_h^*$ and has to either be approximated in a higher order\n",
    "element space or one may use an extrapolation. The choice of goal\n",
    "functional depends on what quantity you are interested in. Here, we take\n",
    "the goal functional to be defined as\n",
    "\n",
    "$$\\mathcal{M}(u) = \\int_{\\Omega}  u dx.$$\n",
    "\n",
    "We use $D\\ddot{o}rfler$ marking as the mesh marking procedure.\n",
    "\n",
    "In this demo, we shall consider the following definitions of the input\n",
    "functions, the domain, and the boundaries:\n",
    "\n",
    "-   $\\Omega = [0,1] \\times [0,1]\\,$ (a unit square)\n",
    "-   $\\Gamma_{D} = \\{(0, y) \\cup (1, y) \\subset \\partial \\Omega\\}\\,$\n",
    "    (Dirichlet boundary)\n",
    "-   $\\Gamma_{N} = \\{(x, 0) \\cup (x, 1) \\subset \\partial \\Omega\\}\\,$\n",
    "    (Neumann boundary)\n",
    "-   $g = \\sin(5x)\\,$ (normal derivative)\n",
    "-   $f = 10\\exp(-((x - 0.5)^2 + (y - 0.5)^2) / 0.02)\\,$ (source term)\n",
    "\n",
    "Implementation\n",
    "--------------\n",
    "\n",
    "This description goes through the implementation (in\n",
    "demo\\_auto-adaptive-poisson.py) of a solver for the above described\n",
    "Poisson equation step-by-step.\n",
    "\n",
    "First, the dolfin module is imported:"
   ]
  },
  {
   "cell_type": "code",
   "execution_count": null,
   "metadata": {},
   "outputs": [],
   "source": [
    "from dolfin import *"
   ]
  },
  {
   "cell_type": "markdown",
   "metadata": {},
   "source": [
    "Specifying matplotlib as backend:"
   ]
  },
  {
   "cell_type": "code",
   "execution_count": null,
   "metadata": {},
   "outputs": [],
   "source": [
    "%matplotlib inline\n",
    "import matplotlib.pyplot as plt\n",
    "parameters[\"plotting_backend\"]=\"matplotlib\""
   ]
  },
  {
   "cell_type": "markdown",
   "metadata": {},
   "source": [
    "We begin by defining a mesh of the domain and a finite element function\n",
    "space V relative to this mesh. We used the built-in mesh provided by the\n",
    "class :pyUnitSquareMesh\n",
    "&lt;dolfin.cpp.mesh.UnitSquareMesh&gt;. In order to create a mesh\n",
    "consisting of 8 x 8 squares with each square divided into two triangles,\n",
    "we do as follows:"
   ]
  },
  {
   "cell_type": "code",
   "execution_count": null,
   "metadata": {},
   "outputs": [],
   "source": [
    "# Create mesh and define function space\n",
    "mesh = UnitSquareMesh(8, 8)\n",
    "V = FunctionSpace(mesh, \"Lagrange\", 1)"
   ]
  },
  {
   "cell_type": "markdown",
   "metadata": {},
   "source": [
    "The second argument to :pyFunctionSpace\n",
    "&lt;dolfin.cpp.function.FunctionSpace&gt;, \"Lagrange\", is the finite\n",
    "element family, while the third argument specifies the polynomial\n",
    "degree. Thus, in this case, our space V consists of first-order,\n",
    "continuous Lagrange finite element functions (or in order words,\n",
    "continuous piecewise linear polynomials).\n",
    "\n",
    "Next, we want to consider the Dirichlet boundary condition. In our case,\n",
    "we want to say that the points (x, y) such that x = 0 or x = 1 are\n",
    "inside on the inside of $\\Gamma_D$. (Note that because of rounding-off\n",
    "errors, it is often wise to instead specify $x <\n",
    "\\epsilon$ or $x > 1 - \\epsilon$ where $\\epsilon$ is a small number (such\n",
    "as machine precision).) :"
   ]
  },
  {
   "cell_type": "code",
   "execution_count": null,
   "metadata": {},
   "outputs": [],
   "source": [
    "# Define boundary condition\n",
    "u0 = Function(V)\n",
    "bc = DirichletBC(V, u0, \"x[0] < DOLFIN_EPS || x[0] > 1.0 - DOLFIN_EPS\")"
   ]
  },
  {
   "cell_type": "markdown",
   "metadata": {},
   "source": [
    "Next, we want to express the variational problem. First, we need to\n",
    "specify the trial function u and the test function v, both living in the\n",
    "function space V. We do this by defining a\n",
    ":pyTrialFunction &lt;dolfin.functions.function.TrialFunction&gt; and a\n",
    ":pyTestFunction\n",
    "&lt;dolfin.functions.function.TestFunction&gt; on the previously defined\n",
    ":pyFunctionSpace &lt;dolfin.cpp.function.FunctionSpace&gt; V.\n",
    "\n",
    "Further, the source f and the boundary normal derivative g are involved\n",
    "in the variational forms, and hence we must specify these. Both f and g\n",
    "are given by simple mathematical formulas, and can be easily declared\n",
    "using the :pyExpression\n",
    "&lt;dolfin.cpp.function.Expression&gt; class. Note that the strings\n",
    "defining f and g use C++ syntax since, for efficiency, DOLFIN will\n",
    "generate and compile C++ code for these expressions at run-time.\n",
    "\n",
    "With these ingredients, we can write down the bilinear form a and the\n",
    "linear form L (using UFL operators). In summary, this reads:"
   ]
  },
  {
   "cell_type": "code",
   "execution_count": null,
   "metadata": {},
   "outputs": [],
   "source": [
    "# Define variational problem\n",
    "u = TrialFunction(V)\n",
    "v = TestFunction(V)\n",
    "f = Expression(\"10*exp(-(pow(x[0] - 0.5, 2) + pow(x[1] - 0.5, 2)) / 0.02)\",\n",
    "               degree=1)\n",
    "g = Expression(\"sin(5*x[0])\", degree=1)\n",
    "a = inner(grad(u), grad(v))*dx()\n",
    "L = f*v*dx() + g*v*ds()"
   ]
  },
  {
   "cell_type": "markdown",
   "metadata": {},
   "source": [
    "Now, we have specified the variational forms and can consider the\n",
    "solution of the variational problem. First, we need to define a\n",
    ":pyFunction &lt;dolfin.cpp.function.Function&gt; u to represent the\n",
    "solution. (Upon initialization, it is simply set to the zero function.)\n",
    "A Function represents a function living in a finite element function\n",
    "space. :"
   ]
  },
  {
   "cell_type": "code",
   "execution_count": null,
   "metadata": {},
   "outputs": [],
   "source": [
    "# Define function for the solution\n",
    "u = Function(V)"
   ]
  },
  {
   "cell_type": "markdown",
   "metadata": {},
   "source": [
    "Then define the goal functional:"
   ]
  },
  {
   "cell_type": "code",
   "execution_count": null,
   "metadata": {},
   "outputs": [],
   "source": [
    "# Define goal functional (quantity of interest)\n",
    "M = u*dx()"
   ]
  },
  {
   "cell_type": "markdown",
   "metadata": {},
   "source": [
    "Next we specify the error tolerance for when the refinement shall stop:"
   ]
  },
  {
   "cell_type": "code",
   "execution_count": null,
   "metadata": {},
   "outputs": [],
   "source": [
    "# Define error tolerance\n",
    "tol = 1.e-5"
   ]
  },
  {
   "cell_type": "markdown",
   "metadata": {},
   "source": [
    "Now, we have specified the variational forms and can consider the\n",
    "solution of the variational problem. First, we define the\n",
    ":pyLinearVariationalProblem\n",
    "&lt;dolfin.cpp.fem.LinearVariationalProblem&gt; function with the\n",
    "arguments a, L, u and bc. Next we send this problem to the\n",
    ":pyAdaptiveLinearVariationalSolver\n",
    "&lt;dolfin.cpp.fem.AdaptiveLinearVariationalSolver&gt; together with the\n",
    "goal functional. Note that one may also choose several adaptations in\n",
    "the error control. At last we solve the problem with the defined\n",
    "tolerance:"
   ]
  },
  {
   "cell_type": "code",
   "execution_count": null,
   "metadata": {},
   "outputs": [],
   "source": [
    "# Solve equation a = L with respect to u and the given boundary\n",
    "# conditions, such that the estimated error (measured in M) is less\n",
    "# than tol\n",
    "problem = LinearVariationalProblem(a, L, u, bc)\n",
    "solver = AdaptiveLinearVariationalSolver(problem, M)\n",
    "solver.parameters[\"error_control\"][\"dual_variational_solver\"][\"linear_solver\"] = \"cg\"\n",
    "solver.parameters[\"error_control\"][\"dual_variational_solver\"][\"symmetric\"] = True\n",
    "solver.solve(tol)\n",
    "\n",
    "solver.summary()\n",
    "\n",
    "# Plot solution(s)\n",
    "plt.figure()\n",
    "plot(u.root_node(), title=\"Solution on initial mesh\")\n",
    "plt.figure()\n",
    "plot(u.leaf_node(), title=\"Solution on final mesh\")\n",
    "interactive()"
   ]
  }
 ],
 "metadata": {},
 "nbformat": 4,
 "nbformat_minor": 1
}
