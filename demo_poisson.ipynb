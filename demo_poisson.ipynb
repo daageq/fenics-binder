{
 "cells": [
  {
   "cell_type": "markdown",
   "metadata": {},
   "source": [
    "Poisson equation\n",
    "================\n",
    "\n",
    "This demo is implemented in a single Python file, demo\\_poisson.py,\n",
    "which contains both the variational forms and the solver.\n",
    "\n",
    "This demo illustrates how to:\n",
    "\n",
    "-   Solve a linear partial differential equation\n",
    "-   Create and apply Dirichlet boundary conditions\n",
    "-   Define Expressions\n",
    "-   Define a FunctionSpace\n",
    "-   Create a SubDomain\n",
    "\n",
    "The solution for $u$ in this demo will look as follows:\n",
    "\n",
    "![image](poisson_u.png)\n",
    "\n",
    "Equation and problem definition\n",
    "-------------------------------\n",
    "\n",
    "The Poisson equation is the canonical elliptic partial differential\n",
    "equation. For a domain $\\Omega \\subset \\mathbb{R}^n$ with boundary\n",
    "$\\partial \\Omega = \\Gamma_{D} \\cup \\Gamma_{N}$, the Poisson equation\n",
    "with particular boundary conditions reads:\n",
    "\n",
    "$$- \\nabla^{2} u &= f \\quad {\\rm in} \\ \\Omega, \\\\\n",
    "             u &= 0 \\quad {\\rm on} \\ \\Gamma_{D}, \\\\\n",
    "             \\nabla u \\cdot n &= g \\quad {\\rm on} \\ \\Gamma_{N}. \\\\$$\n",
    "\n",
    "Here, $f$ and $g$ are input data and $n$ denotes the outward directed\n",
    "boundary normal. The most standard variational form of Poisson equation\n",
    "reads: find $u \\in V$ such that\n",
    "\n",
    "$$a(u, v) = L(v) \\quad \\forall \\ v \\in V,$$\n",
    "\n",
    "where $V$ is a suitable function space and\n",
    "\n",
    "$$a(u, v) &= \\int_{\\Omega} \\nabla u \\cdot \\nabla v \\, {\\rm d} x, \\\\\n",
    "L(v)    &= \\int_{\\Omega} f v \\, {\\rm d} x\n",
    "+ \\int_{\\Gamma_{N}} g v \\, {\\rm d} s.$$\n",
    "\n",
    "The expression $a(u, v)$ is the bilinear form and $L(v)$ is the linear\n",
    "form. It is assumed that all functions in $V$ satisfy the Dirichlet\n",
    "boundary conditions ($u = 0 \\ {\\rm on} \\\n",
    "\\Gamma_{D}$).\n",
    "\n",
    "In this demo, we shall consider the following definitions of the input\n",
    "functions, the domain, and the boundaries:\n",
    "\n",
    "-   $\\Omega = [0,1] \\times [0,1]$ (a unit square)\n",
    "-   $\\Gamma_{D} = \\{(0, y) \\cup (1, y) \\subset \\partial \\Omega\\}$\n",
    "    (Dirichlet boundary)\n",
    "-   $\\Gamma_{N} = \\{(x, 0) \\cup (x, 1) \\subset \\partial \\Omega\\}$\n",
    "    (Neumann boundary)\n",
    "-   $g = \\sin(5x)$ (normal derivative)\n",
    "-   $f = 10\\exp(-((x - 0.5)^2 + (y - 0.5)^2) / 0.02)$ (source term)\n",
    "\n",
    "Implementation\n",
    "--------------\n",
    "\n",
    "This description goes through the implementation (in demo\\_poisson.py)\n",
    "of a solver for the above described Poisson equation step-by-step.\n",
    "\n",
    "First, the :pydolfin module is imported: :"
   ]
  },
  {
   "cell_type": "code",
   "execution_count": null,
   "metadata": {},
   "outputs": [],
   "source": [
    "from dolfin import *"
   ]
  },
  {
   "cell_type": "markdown",
   "metadata": {},
   "source": [
    "Specifying matplotlib as backend:"
   ]
  },
  {
   "cell_type": "code",
   "execution_count": null,
   "metadata": {},
   "outputs": [],
   "source": [
    "%matplotlib inline\n",
    "import matplotlib.pyplot as plt\n",
    "parameters[\"plotting_backend\"]=\"matplotlib\""
   ]
  },
  {
   "cell_type": "markdown",
   "metadata": {},
   "source": [
    "We begin by defining a mesh of the domain and a finite element function\n",
    "space $V$ relative to this mesh. As the unit square is a very standard\n",
    "domain, we can use a built-in mesh provided by the class\n",
    ":pyUnitSquareMesh &lt;dolfin.cpp.UnitSquareMesh&gt;. In order to create\n",
    "a mesh consisting of 32 x 32 squares with each square divided into two\n",
    "triangles, we do as follows :"
   ]
  },
  {
   "cell_type": "code",
   "execution_count": null,
   "metadata": {},
   "outputs": [],
   "source": [
    "# Create mesh and define function space\n",
    "mesh = UnitSquareMesh(32, 32)\n",
    "V = FunctionSpace(mesh, \"Lagrange\", 1)"
   ]
  },
  {
   "cell_type": "markdown",
   "metadata": {},
   "source": [
    "The second argument to :pyFunctionSpace\n",
    "&lt;dolfin.functions.functionspace.FunctionSpace&gt; is the finite\n",
    "element family, while the third argument specifies the polynomial\n",
    "degree. Thus, in this case, our space `V` consists of first-order,\n",
    "continuous Lagrange finite element functions (or in order words,\n",
    "continuous piecewise linear polynomials).\n",
    "\n",
    "Next, we want to consider the Dirichlet boundary condition. A simple\n",
    "Python function, returning a boolean, can be used to define the\n",
    "subdomain for the Dirichlet boundary condition ($\\Gamma_D$). The\n",
    "function should return `True` for those points inside the subdomain and\n",
    "`False` for the points outside. In our case, we want to say that the\n",
    "points $(x, y)$ such that $x = 0$ or $x = 1$ are inside on the inside of\n",
    "$\\Gamma_D$. (Note that because of rounding-off errors, it is often wise\n",
    "to instead specify $x <\n",
    "\\epsilon$ or $x > 1 - \\epsilon$ where $\\epsilon$ is a small number (such\n",
    "as machine precision).) :"
   ]
  },
  {
   "cell_type": "code",
   "execution_count": null,
   "metadata": {},
   "outputs": [],
   "source": [
    "# Define Dirichlet boundary (x = 0 or x = 1)\n",
    "def boundary(x):\n",
    "    return x[0] < DOLFIN_EPS or x[0] > 1.0 - DOLFIN_EPS"
   ]
  },
  {
   "cell_type": "markdown",
   "metadata": {},
   "source": [
    "Now, the Dirichlet boundary condition can be created using the class\n",
    ":pyDirichletBC &lt;dolfin.fem.bcs.DirichletBC&gt;. A\n",
    ":pyDirichletBC &lt;dolfin.fem.bcs.DirichletBC&gt; takes three arguments:\n",
    "the function space the boundary condition applies to, the value of the\n",
    "boundary condition, and the part of the boundary on which the condition\n",
    "applies. In our example, the function space is `V`, the value of the\n",
    "boundary condition (0.0) can represented using a\n",
    ":pyConstant &lt;dolfin.functions.constant.Constant&gt; and the Dirichlet\n",
    "boundary is defined immediately above. The definition of the Dirichlet\n",
    "boundary condition then looks as follows: :"
   ]
  },
  {
   "cell_type": "code",
   "execution_count": null,
   "metadata": {},
   "outputs": [],
   "source": [
    "# Define boundary condition\n",
    "u0 = Constant(0.0)\n",
    "bc = DirichletBC(V, u0, boundary)"
   ]
  },
  {
   "cell_type": "markdown",
   "metadata": {},
   "source": [
    "Next, we want to express the variational problem. First, we need to\n",
    "specify the trial function $u$ and the test function $v$, both living in\n",
    "the function space $V$. We do this by defining a\n",
    ":pyTrialFunction &lt;dolfin.functions.function.TrialFunction&gt; and a\n",
    ":pyTestFunction\n",
    "&lt;dolfin.functions.function.TrialFunction&gt; on the previously\n",
    "defined :pyFunctionSpace\n",
    "&lt;dolfin.functions.functionspace.FunctionSpace&gt; `V`.\n",
    "\n",
    "Further, the source $f$ and the boundary normal derivative $g$ are\n",
    "involved in the variational forms, and hence we must specify these. Both\n",
    "$f$ and $g$ are given by simple mathematical formulas, and can be easily\n",
    "declared using the\n",
    ":pyExpression &lt;dolfin.functions.expression.Expression&gt; class. Note\n",
    "that the strings defining `f` and `g` use C++ syntax since, for\n",
    "efficiency, DOLFIN will generate and compile C++ code for these\n",
    "expressions at run-time.\n",
    "\n",
    "With these ingredients, we can write down the bilinear form `a` and the\n",
    "linear form `L` (using UFL operators). In summary, this reads :"
   ]
  },
  {
   "cell_type": "code",
   "execution_count": null,
   "metadata": {},
   "outputs": [],
   "source": [
    "# Define variational problem\n",
    "u = TrialFunction(V)\n",
    "v = TestFunction(V)\n",
    "f = Expression(\"10*exp(-(pow(x[0] - 0.5, 2) + pow(x[1] - 0.5, 2)) / 0.02)\", degree=2)\n",
    "g = Expression(\"sin(5*x[0])\", degree=2)\n",
    "a = inner(grad(u), grad(v))*dx\n",
    "L = f*v*dx + g*v*ds"
   ]
  },
  {
   "cell_type": "markdown",
   "metadata": {},
   "source": [
    "Now, we have specified the variational forms and can consider the\n",
    "solution of the variational problem. First, we need to define a\n",
    ":pyFunction &lt;dolfin.functions.function.Function&gt; `u` to represent\n",
    "the solution. (Upon initialization, it is simply set to the zero\n",
    "function.) A :pyFunction\n",
    "&lt;dolfin.functions.function.Function&gt; represents a function living\n",
    "in a finite element function space. Next, we can call the :pysolve\n",
    "&lt;dolfin.fem.solving.solve&gt; function with the arguments `a == L`,\n",
    "`u` and `bc` as follows: :"
   ]
  },
  {
   "cell_type": "code",
   "execution_count": null,
   "metadata": {},
   "outputs": [],
   "source": [
    "# Compute solution\n",
    "u = Function(V)\n",
    "solve(a == L, u, bc)"
   ]
  },
  {
   "cell_type": "markdown",
   "metadata": {},
   "source": [
    "The function `u` will be modified during the call to solve. The default\n",
    "settings for solving a variational problem have been used. However, the\n",
    "solution process can be controlled in much more detail if desired.\n",
    "\n",
    "A :pyFunction &lt;dolfin.functions.function.Function&gt; can be\n",
    "manipulated in various ways, in particular, it can be plotted and saved\n",
    "to file. Here, we output the solution to a `VTK` file (using the suffix\n",
    "`.pvd`) for later visualization and also plot it using the\n",
    ":pyplot &lt;dolfin.common.plot.plot&gt; command: :"
   ]
  },
  {
   "cell_type": "code",
   "execution_count": null,
   "metadata": {},
   "outputs": [],
   "source": [
    "# Save solution in VTK format\n",
    "file = File(\"poisson.pvd\")\n",
    "file << u\n",
    "\n",
    "# Plot solution\n",
    "plt.figure()\n",
    "plot(u, interactive=True)"
   ]
  }
 ],
 "metadata": {},
 "nbformat": 4,
 "nbformat_minor": 1
}
