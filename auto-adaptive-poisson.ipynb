{
 "cells": [
  {
   "cell_type": "markdown",
   "metadata": {},
   "source": [
    "# Auto adaptive Poisson equation\n",
    "\n",
    "This demo is implemented in a single Python file,\n",
    "demo\\_auto-adaptive-poisson.py, which contains both the variational\n",
    "forms and the solver.\n",
    "\n",
    "## Implementation\n",
    "\n",
    "This description goes through the implementation (in\n",
    "demo\\_auto-adaptive-poisson.py) of a solver for the above described\n",
    "Poisson equation step-by-step.\n",
    "\n",
    "First, the dolfin module is imported:"
   ]
  },
  {
   "cell_type": "code",
   "execution_count": null,
   "metadata": {
    "attributes": {
     "classes": [
      "sourceCode"
     ],
     "id": ""
    }
   },
   "outputs": [],
   "source": [
    "from dolfin import *"
   ]
  },
  {
   "cell_type": "markdown",
   "metadata": {},
   "source": [
    "We begin by defining a mesh of the domain and a finite element function\n",
    "space V relative to this mesh. We used the built-in mesh provided by the\n",
    "class :pyUnitSquareMesh\n",
    "&lt;dolfin.cpp.mesh.UnitSquareMesh&gt;. In order to create a mesh\n",
    "consisting of 8 x 8 squares with each square divided into two triangles,\n",
    "we do as follows:"
   ]
  },
  {
   "cell_type": "code",
   "execution_count": null,
   "metadata": {
    "attributes": {
     "classes": [
      "sourceCode"
     ],
     "id": ""
    }
   },
   "outputs": [],
   "source": [
    "# Create mesh and define function space\n",
    "mesh = UnitSquareMesh(8, 8)\n",
    "V = FunctionSpace(mesh, \"Lagrange\", 1)"
   ]
  },
  {
   "cell_type": "markdown",
   "metadata": {},
   "source": [
    "The second argument to :pyFunctionSpace\n",
    "&lt;dolfin.cpp.function.FunctionSpace&gt;, \"Lagrange\", is the finite\n",
    "element family, while the third argument specifies the polynomial\n",
    "degree. Thus, in this case, our space V consists of first-order,\n",
    "continuous Lagrange finite element functions (or in order words,\n",
    "continuous piecewise linear polynomials).\n",
    "\n",
    "Next, we want to consider the Dirichlet boundary condition. In our case,\n",
    "we want to say that the points (x, y) such that x = 0 or x = 1 are\n",
    "inside on the inside of $\\Gamma_D$. (Note that because of rounding-off\n",
    "errors, it is often wise to instead specify $x <\n",
    "\\epsilon$ or $x > 1 - \\epsilon$ where $\\epsilon$ is a small number (such\n",
    "as machine precision).)"
   ]
  },
  {
   "cell_type": "code",
   "execution_count": null,
   "metadata": {
    "attributes": {
     "classes": [
      "sourceCode"
     ],
     "id": ""
    }
   },
   "outputs": [],
   "source": [
    "# Define boundary condition\n",
    "u0 = Function(V)\n",
    "bc = DirichletBC(V, u0, \"x[0] < DOLFIN_EPS || x[0] > 1.0 - DOLFIN_EPS\")"
   ]
  },
  {
   "cell_type": "markdown",
   "metadata": {},
   "source": [
    "Next, we want to express the variational problem. First, we need to\n",
    "specify the trial function u and the test function v, both living in the\n",
    "function space V. We do this by defining a\n",
    ":pyTrialFunction &lt;dolfin.functions.function.TrialFunction&gt; and a\n",
    ":pyTestFunction\n",
    "&lt;dolfin.functions.function.TestFunction&gt; on the previously defined\n",
    ":pyFunctionSpace &lt;dolfin.cpp.function.FunctionSpace&gt; V.\n",
    "\n",
    "Further, the source f and the boundary normal derivative g are involved\n",
    "in the variational forms, and hence we must specify these. Both f and g\n",
    "are given by simple mathematical formulas, and can be easily declared\n",
    "using the :pyExpression\n",
    "&lt;dolfin.cpp.function.Expression&gt; class. Note that the strings\n",
    "defining f and g use C++ syntax since, for efficiency, DOLFIN will\n",
    "generate and compile C++ code for these expressions at run-time.\n",
    "\n",
    "With these ingredients, we can write down the bilinear form a and the\n",
    "linear form L (using UFL operators). In summary, this reads"
   ]
  },
  {
   "cell_type": "code",
   "execution_count": null,
   "metadata": {
    "attributes": {
     "classes": [
      "sourceCode"
     ],
     "id": ""
    }
   },
   "outputs": [],
   "source": [
    "# Define variational problem\n",
    "u = TrialFunction(V)\n",
    "v = TestFunction(V)\n",
    "f = Expression(\"10*exp(-(pow(x[0] - 0.5, 2) + pow(x[1] - 0.5, 2)) / 0.02)\",\n",
    "               degree=1)\n",
    "g = Expression(\"sin(5*x[0])\", degree=1)\n",
    "a = inner(grad(u), grad(v))*dx()\n",
    "L = f*v*dx() + g*v*ds()"
   ]
  },
  {
   "cell_type": "markdown",
   "metadata": {},
   "source": [
    "Now, we have specified the variational forms and can consider the\n",
    "solution of the variational problem. First, we need to define a\n",
    ":pyFunction &lt;dolfin.cpp.function.Function&gt; u to represent the\n",
    "solution. (Upon initialization, it is simply set to the zero function.)\n",
    "A Function represents a function living in a finite element function\n",
    "space."
   ]
  },
  {
   "cell_type": "code",
   "execution_count": null,
   "metadata": {
    "attributes": {
     "classes": [
      "sourceCode"
     ],
     "id": ""
    }
   },
   "outputs": [],
   "source": [
    "# Define function for the solution\n",
    "u = Function(V)"
   ]
  },
  {
   "cell_type": "markdown",
   "metadata": {},
   "source": [
    "Then define the goal functional:"
   ]
  },
  {
   "cell_type": "code",
   "execution_count": null,
   "metadata": {
    "attributes": {
     "classes": [
      "sourceCode"
     ],
     "id": ""
    }
   },
   "outputs": [],
   "source": [
    "# Define goal functional (quantity of interest)\n",
    "M = u*dx()"
   ]
  },
  {
   "cell_type": "markdown",
   "metadata": {},
   "source": [
    "Next we specify the error tolerance for when the refinement shall stop:"
   ]
  },
  {
   "cell_type": "code",
   "execution_count": null,
   "metadata": {
    "attributes": {
     "classes": [
      "sourceCode"
     ],
     "id": ""
    }
   },
   "outputs": [],
   "source": [
    "# Define error tolerance\n",
    "tol = 1.e-5"
   ]
  },
  {
   "cell_type": "markdown",
   "metadata": {},
   "source": [
    "Now, we have specified the variational forms and can consider the\n",
    "solution of the variational problem. First, we define the\n",
    ":pyLinearVariationalProblem\n",
    "&lt;dolfin.cpp.fem.LinearVariationalProblem&gt; function with the\n",
    "arguments a, L, u and bc. Next we send this problem to the\n",
    ":pyAdaptiveLinearVariationalSolver\n",
    "&lt;dolfin.cpp.fem.AdaptiveLinearVariationalSolver&gt; together with the\n",
    "goal functional. Note that one may also choose several adaptations in\n",
    "the error control. At last we solve the problem with the defined\n",
    "tolerance:"
   ]
  },
  {
   "cell_type": "code",
   "execution_count": null,
   "metadata": {
    "attributes": {
     "classes": [
      "sourceCode"
     ],
     "id": ""
    }
   },
   "outputs": [],
   "source": [
    "# Solve equation a = L with respect to u and the given boundary\n",
    "# conditions, such that the estimated error (measured in M) is less\n",
    "# than tol\n",
    "problem = LinearVariationalProblem(a, L, u, bc)\n",
    "solver = AdaptiveLinearVariationalSolver(problem, M)\n",
    "solver.parameters[\"error_control\"][\"dual_variational_solver\"][\"linear_solver\"] = \"cg\"\n",
    "solver.parameters[\"error_control\"][\"dual_variational_solver\"][\"symmetric\"] = True\n",
    "solver.solve(tol)\n",
    "\n",
    "solver.summary()\n",
    "\n",
    "# Plot solution(s)\n",
    "plot(u.root_node(), title=\"Solution on initial mesh\")\n",
    "plot(u.leaf_node(), title=\"Solution on final mesh\")\n",
    "interactive()"
   ]
  },
  {
   "cell_type": "markdown",
   "metadata": {},
   "source": [
    "## Complete code"
   ]
  }
 ],
 "metadata": {
  "kernelspec": {
   "display_name": "Python 2 (fenics)",
   "language": "python",
   "name": "python3"
  }
 },
 "nbformat": 4,
 "nbformat_minor": 0
}
