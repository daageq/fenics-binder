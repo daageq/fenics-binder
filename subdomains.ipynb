{
 "cells": [
  {
   "cell_type": "markdown",
   "metadata": {},
   "source": [
    "# Marking subdomains of a mesh\n",
    "\n",
    "This demo is implemented in a single Python file, demo\\_subdomains.py.\n",
    "\n",
    "## Implementation\n",
    "\n",
    "First, the :pydolfin module is imported:"
   ]
  },
  {
   "cell_type": "code",
   "execution_count": null,
   "metadata": {
    "attributes": {
     "classes": [
      "sourceCode"
     ],
     "id": ""
    }
   },
   "outputs": [],
   "source": [
    "from dolfin import *"
   ]
  },
  {
   "cell_type": "markdown",
   "metadata": {},
   "source": [
    "It may be useful to get information about what is going on behind the\n",
    "scenes when the program is running. In DOLFIN, we can control which\n",
    "messages routed through the logging system will be printed. By calling\n",
    "the function :pyset\\_log\\_level()\n",
    "&lt;dolfin.cpp.common.set\\_log\\_level&gt; we specify the log level. An\n",
    "optional integer argument may be given to specify the level, the default\n",
    "level is 20. Only messages on a level higher than or equal to the\n",
    "current log level will be printed. To get as much information as\n",
    "possible we will set the log level to 1:"
   ]
  },
  {
   "cell_type": "code",
   "execution_count": null,
   "metadata": {
    "attributes": {
     "classes": [
      "sourceCode"
     ],
     "id": ""
    }
   },
   "outputs": [],
   "source": [
    "set_log_level(1)"
   ]
  },
  {
   "cell_type": "markdown",
   "metadata": {},
   "source": [
    "Before we can mark the boundaries, we must specify the boundary\n",
    "conditions. We do this by defining three classes, one for each boundary\n",
    "condition. We start by defining the whole boundary as a noslip boundary,\n",
    "and then overwrite the parts of the boundary that is inflow and outflow."
   ]
  },
  {
   "cell_type": "code",
   "execution_count": null,
   "metadata": {
    "attributes": {
     "classes": [
      "sourceCode"
     ],
     "id": ""
    }
   },
   "outputs": [],
   "source": [
    "# Sub domain for no-slip (mark whole boundary, inflow and outflow will overwrite)\n",
    "class Noslip(SubDomain):\n",
    "    def inside(self, x, on_boundary):\n",
    "        return on_boundary\n",
    "\n",
    "# Sub domain for inflow (right)\n",
    "class Inflow(SubDomain):\n",
    "    def inside(self, x, on_boundary):\n",
    "        return x[0] > 1.0 - DOLFIN_EPS and on_boundary\n",
    "\n",
    "# Sub domain for outflow (left)\n",
    "class Outflow(SubDomain):\n",
    "    def inside(self, x, on_boundary):\n",
    "        return x[0] < DOLFIN_EPS and on_boundary"
   ]
  },
  {
   "cell_type": "markdown",
   "metadata": {},
   "source": [
    "Then, we import the mesh:"
   ]
  },
  {
   "cell_type": "code",
   "execution_count": null,
   "metadata": {
    "attributes": {
     "classes": [
      "sourceCode"
     ],
     "id": ""
    }
   },
   "outputs": [],
   "source": [
    "# Read mesh\n",
    "mesh = Mesh(\"dolfin-2.xml.gz\")"
   ]
  },
  {
   "cell_type": "markdown",
   "metadata": {},
   "source": [
    "We create a :pyMeshFunction &lt;dolfin.cpp.MeshFunction&gt; to store the\n",
    "numbering of the subdomains. When creating a MeshFunction an argument\n",
    "specifying the type of the MeshFunction must be given. Allowed types are\n",
    "\u2018int\u2019, \u2018size\\_t\u2019, \u2018double\u2019 and \u2018bool\u2019. To illustrate the difference of\n",
    "these we will use both \u2018size\\_t\u2019, \u2018double\u2019 and \u2018bool\u2019:"
   ]
  },
  {
   "cell_type": "code",
   "execution_count": null,
   "metadata": {
    "attributes": {
     "classes": [
      "sourceCode"
     ],
     "id": ""
    }
   },
   "outputs": [],
   "source": [
    "# Create mesh functions over the cell facets\n",
    "sub_domains = MeshFunction(\"size_t\", mesh, mesh.topology().dim() - 1)\n",
    "sub_domains_bool = MeshFunction(\"bool\", mesh, mesh.topology().dim() - 1)\n",
    "sub_domains_double = MeshFunction(\"double\", mesh, mesh.topology().dim() - 1)"
   ]
  },
  {
   "cell_type": "markdown",
   "metadata": {},
   "source": [
    "The second and third arguments are optional. The second argument\n",
    "specifies our mesh, while the third argument gives the topological\n",
    "dimension of the :pyMeshFunction &lt;dolfin.cpp.MeshFunction&gt;, which\n",
    "is the topological dimension of our mesh minus 1.\n",
    "\n",
    "We are now ready to mark the mesh. We will create four subdomains of the\n",
    "mesh; one subdomain for each boundary condition and a fourth subdomain\n",
    "for the interior. First, we mark all facets in the mesh as part of\n",
    "subdomain 3. Since we want to illustrate the possible types of mesh\n",
    "functions, this is done in three different ways. The first type, the\n",
    ":pyMeshFunction &lt;dolfin.cpp.MeshFunctionSizet&gt;, takes an integer\n",
    "argument and all facets will be given this index. The second type, the\n",
    ":pyMeshFunction\n",
    "&lt;dolfin.cpp.MeshFunctionBool&gt;, takes a boolean as argument and all\n",
    "facets will be marked by this boolean. The third type , the\n",
    ":pyMeshFunction &lt;dolfin.cpp.MeshFunctionDouble&gt;, takes a floating\n",
    "point number as argument and this number will be the index of all the\n",
    "facets."
   ]
  },
  {
   "cell_type": "code",
   "execution_count": null,
   "metadata": {
    "attributes": {
     "classes": [
      "sourceCode"
     ],
     "id": ""
    }
   },
   "outputs": [],
   "source": [
    "# Mark all facets as sub domain 3\n",
    "sub_domains.set_all(3)\n",
    "sub_domains_bool.set_all(False)\n",
    "sub_domains_double.set_all(0.3)"
   ]
  },
  {
   "cell_type": "markdown",
   "metadata": {},
   "source": [
    "When all facets are marked, we mark only the boundary facets. We give\n",
    "the noslip boundary the index 0. To mark the facets of the noslip\n",
    "boundary, we first make an instance of the class `Noslip`, and then mark\n",
    "these facets with the correct value (either an integer, boolean or\n",
    "double)."
   ]
  },
  {
   "cell_type": "code",
   "execution_count": null,
   "metadata": {
    "attributes": {
     "classes": [
      "sourceCode"
     ],
     "id": ""
    }
   },
   "outputs": [],
   "source": [
    "# Mark no-slip facets as sub domain 0, 0.0\n",
    "noslip = Noslip()\n",
    "noslip.mark(sub_domains, 0)\n",
    "noslip.mark(sub_domains_double, 0.0)"
   ]
  },
  {
   "cell_type": "markdown",
   "metadata": {},
   "source": [
    "The same must be done for the inflow and outflow boundaries. The inflow\n",
    "is marked as subdomain 1 and the outflow is marked as subdomain 2:"
   ]
  },
  {
   "cell_type": "code",
   "execution_count": null,
   "metadata": {
    "attributes": {
     "classes": [
      "sourceCode"
     ],
     "id": ""
    }
   },
   "outputs": [],
   "source": [
    "# Mark inflow as sub domain 1, 01\n",
    "inflow = Inflow()\n",
    "inflow.mark(sub_domains, 1)\n",
    "inflow.mark(sub_domains_double, 0.1)\n",
    "\n",
    "# Mark outflow as sub domain 2, 0.2, True\n",
    "outflow = Outflow()\n",
    "outflow.mark(sub_domains, 2)\n",
    "outflow.mark(sub_domains_double, 0.2)\n",
    "outflow.mark(sub_domains_bool, True)"
   ]
  },
  {
   "cell_type": "markdown",
   "metadata": {},
   "source": [
    "Finally, to be able to use these subdomains together with the mesh in\n",
    "other programs, we save the subdomains to file, both as XML and VTK\n",
    "files:"
   ]
  },
  {
   "cell_type": "code",
   "execution_count": null,
   "metadata": {
    "attributes": {
     "classes": [
      "sourceCode"
     ],
     "id": ""
    }
   },
   "outputs": [],
   "source": [
    "# Save sub domains to file\n",
    "file = File(\"subdomains.xml\")\n",
    "file << sub_domains\n",
    "\n",
    "# FIXME: Not implemented\n",
    "#file_bool = File(\"subdomains_bool.xml\")\n",
    "#file_bool << sub_domains_bool\n",
    "\n",
    "file_double = File(\"subdomains_double.xml\")\n",
    "file_double << sub_domains_double\n",
    "\n",
    "# Save sub domains to VTK files\n",
    "file = File(\"subdomains.pvd\")\n",
    "file << sub_domains\n",
    "\n",
    "file = File(\"subdomains_double.pvd\")\n",
    "file << sub_domains_double"
   ]
  },
  {
   "cell_type": "markdown",
   "metadata": {},
   "source": [
    "## Complete code"
   ]
  }
 ],
 "metadata": {
  "kernelspec": {
   "display_name": "Python 2 (fenics)",
   "language": "python",
   "name": "fenics"
  }
 },
 "nbformat": 4,
 "nbformat_minor": 0
}
