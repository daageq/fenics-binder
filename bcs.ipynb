{
 "cells": [
  {
   "cell_type": "markdown",
   "metadata": {},
   "source": [
    "# Set boundary conditions for meshes that include boundary indicators\n",
    "\n",
    "This demo is implemented in a single python file, demo\\_bcs.py, which\n",
    "contains both the variational form and the solver.\n",
    "\n",
    "## Implementation\n",
    "\n",
    "This description goes through the implementation (in demo\\_bcs.py) of a\n",
    "solver for the above described Poisson equation and how to set boundary\n",
    "conditions for a mesh that includes boundary indicators.\n",
    "\n",
    "First, the :pydolfin module is imported:"
   ]
  },
  {
   "cell_type": "code",
   "execution_count": null,
   "metadata": {
    "attributes": {
     "classes": [
      "sourceCode"
     ],
     "id": ""
    }
   },
   "outputs": [],
   "source": [
    "from dolfin import *"
   ]
  },
  {
   "cell_type": "markdown",
   "metadata": {},
   "source": [
    "Then, we import the mesh and create a finite element function space $V$\n",
    "relative to this mesh. In this case we create a\n",
    ":pyFunctionSpace&lt;dolfin.functions.functionspace.FunctionSpace&gt; `V`\n",
    "consisting of continuous piecewise linear polynomials."
   ]
  },
  {
   "cell_type": "code",
   "execution_count": null,
   "metadata": {
    "attributes": {
     "classes": [
      "sourceCode"
     ],
     "id": ""
    }
   },
   "outputs": [],
   "source": [
    "# Create mesh and define function space\n",
    "mesh = Mesh(\"../aneurysm.xml.gz\")\n",
    "V = FunctionSpace(mesh, \"CG\", 1)"
   ]
  },
  {
   "cell_type": "markdown",
   "metadata": {},
   "source": [
    "Now, we define the trial function u and the test function v, both living\n",
    "in the function space `V`. We also define our variational problem, a and\n",
    "L. u and v are defined using the classes\n",
    ":pyTrialFunction &lt;dolfin.functions.function.TrialFunction&gt; and\n",
    ":pyTestFunction&lt;dolfin.functions.function.TrialFunction&gt;,\n",
    "respetively, on the\n",
    ":pyFunctionSpace&lt;dolfin.functions.functionspace.FunctionSpace&gt;\n",
    "`V`. The source $f$ may be defined as a\n",
    ":pyConstant &lt;dolfin.functions.constant.Constant&gt;. The bilinear and\n",
    "linear forms, `a` and `L` respectively, are defined using UFL operators.\n",
    "Thus, the definition of the variational problem reads:"
   ]
  },
  {
   "cell_type": "code",
   "execution_count": null,
   "metadata": {
    "attributes": {
     "classes": [
      "sourceCode"
     ],
     "id": ""
    }
   },
   "outputs": [],
   "source": [
    "# Define variational problem\n",
    "u = TrialFunction(V)\n",
    "v = TestFunction(V)\n",
    "f = Constant(0.0)\n",
    "a = dot(grad(u), grad(v))*dx\n",
    "L = f*v*dx"
   ]
  },
  {
   "cell_type": "markdown",
   "metadata": {},
   "source": [
    "Before we can solve the problem we must specify the boundary conditions.\n",
    "We begin with specifying the values of the boundary conditions as\n",
    ":pyConstant &lt;dolfin.functions.constant.Constant&gt;s. Then we use the\n",
    "class :pyDirichletBC &lt;dolfin.fem.bcs.DirichletBC&gt; to define the\n",
    "Dirichlet boundary conditions:"
   ]
  },
  {
   "cell_type": "code",
   "execution_count": null,
   "metadata": {
    "attributes": {
     "classes": [
      "sourceCode"
     ],
     "id": ""
    }
   },
   "outputs": [],
   "source": [
    "# Define boundary condition values\n",
    "u0 = Constant(0.0)\n",
    "u1 = Constant(1.0)\n",
    "u2 = Constant(2.0)\n",
    "u3 = Constant(3.0)\n",
    "\n",
    "# Define boundary conditions\n",
    "bc0 = DirichletBC(V, u0, 0)\n",
    "bc1 = DirichletBC(V, u1, 1)\n",
    "bc2 = DirichletBC(V, u2, 2)\n",
    "bc3 = DirichletBC(V, u3, 3)"
   ]
  },
  {
   "cell_type": "markdown",
   "metadata": {},
   "source": [
    ":pyDirichletBC &lt;dolfin.fem.bcs.DirichletBC&gt; takes three arguments,\n",
    "the first one is our function space `V`, the next is the boundary\n",
    "condition value and the third is the subdomain indicator which is\n",
    "information stored in the mesh.\n",
    "\n",
    "At this point we are ready to create a\n",
    ":pyFunction &lt;dolfin.cpp.function.Function&gt; `u` to store the\n",
    "solution and call the solve function with the arguments `a == L`, `u`,\n",
    "`[bc0, bc1, bc2, bc3]`, as follows:"
   ]
  },
  {
   "cell_type": "code",
   "execution_count": null,
   "metadata": {
    "attributes": {
     "classes": [
      "sourceCode"
     ],
     "id": ""
    }
   },
   "outputs": [],
   "source": [
    "# Compute solution\n",
    "u = Function(V)\n",
    "solve(a == L, u, [bc0, bc1, bc2, bc3])"
   ]
  },
  {
   "cell_type": "markdown",
   "metadata": {},
   "source": [
    "When we have solved the problem, we save the solution to file and plot\n",
    "it."
   ]
  },
  {
   "cell_type": "code",
   "execution_count": null,
   "metadata": {
    "attributes": {
     "classes": [
      "sourceCode"
     ],
     "id": ""
    }
   },
   "outputs": [],
   "source": [
    "# Write solution to file\n",
    "File(\"u.pvd\") << u\n",
    "\n",
    "# Plot solution\n",
    "plot(u, interactive=True)"
   ]
  },
  {
   "cell_type": "markdown",
   "metadata": {},
   "source": [
    "## Complete code"
   ]
  }
 ],
 "metadata": {},
 "nbformat": 4,
 "nbformat_minor": 0
}
