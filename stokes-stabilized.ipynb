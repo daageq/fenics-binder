{
 "cells": [
  {
   "cell_type": "markdown",
   "metadata": {},
   "source": [
    "# Stokes equations with stabilized first order elements\n",
    "\n",
    "## Implementation\n",
    "\n",
    "First, the :pydolfin module is imported:"
   ]
  },
  {
   "cell_type": "code",
   "execution_count": null,
   "metadata": {
    "attributes": {
     "classes": [
      "sourceCode"
     ],
     "id": ""
    }
   },
   "outputs": [],
   "source": [
    "from dolfin import *"
   ]
  },
  {
   "cell_type": "markdown",
   "metadata": {},
   "source": [
    "In this example, different boundary conditions are prescribed on\n",
    "different parts of the boundaries. This information must be made\n",
    "available to the solver. One way of doing this, is to tag the different\n",
    "sub-regions with different (integer) labels. DOLFIN provides a class\n",
    ":pyMeshFunction &lt;dolfin.cpp.mesh.MeshFunction&gt; which is useful for\n",
    "these types of operations: instances of this class represent functions\n",
    "over mesh entities (such as over cells or over facets). Mesh and mesh\n",
    "functions can be read from file in the following way:"
   ]
  },
  {
   "cell_type": "code",
   "execution_count": null,
   "metadata": {
    "attributes": {
     "classes": [
      "sourceCode"
     ],
     "id": ""
    }
   },
   "outputs": [],
   "source": [
    "# Load mesh and subdomains\n",
    "mesh = Mesh(\"dolfin_fine.xml.gz\")\n",
    "sub_domains = MeshFunction(\"size_t\", mesh, \"dolfin_fine_subdomains.xml.gz\")"
   ]
  },
  {
   "cell_type": "markdown",
   "metadata": {},
   "source": [
    "Next, we define a :pyMixedFunctionSpace\n",
    "&lt;dolfin.functions.functionspace.MixedFunctionSpace&gt; composed of a\n",
    ":pyVectorFunctionSpace\n",
    "&lt;dolfin.functions.functionspace.VectorFunctionSpace&gt; and a\n",
    ":pyFunctionSpace &lt;dolfin.cpp.function.FunctionSpace&gt;, both of\n",
    "continuous piecewise linears."
   ]
  },
  {
   "cell_type": "code",
   "execution_count": null,
   "metadata": {
    "attributes": {
     "classes": [
      "sourceCode"
     ],
     "id": ""
    }
   },
   "outputs": [],
   "source": [
    "# Define function spaces\n",
    "scalar = FunctionSpace(mesh, \"CG\", 1)\n",
    "vector = VectorFunctionSpace(mesh, \"CG\", 1)\n",
    "system = vector * scalar"
   ]
  },
  {
   "cell_type": "markdown",
   "metadata": {},
   "source": [
    "Now that we have our mixed function space and marked subdomains defining\n",
    "the boundaries, we create functions for the boundary conditions and\n",
    "define boundary conditions:"
   ]
  },
  {
   "cell_type": "code",
   "execution_count": null,
   "metadata": {
    "attributes": {
     "classes": [
      "sourceCode"
     ],
     "id": ""
    }
   },
   "outputs": [],
   "source": [
    "# Create functions for boundary conditions\n",
    "noslip = Constant((0, 0))\n",
    "inflow = Expression((\"-sin(x[1]*pi)\", \"0\"))\n",
    "zero   = Constant(0)\n",
    "\n",
    "# No-slip boundary condition for velocity\n",
    "bc0 = DirichletBC(system.sub(0), noslip, sub_domains, 0)\n",
    "\n",
    "# Inflow boundary condition for velocity\n",
    "bc1 = DirichletBC(system.sub(0), inflow, sub_domains, 1)\n",
    "\n",
    "# Collect boundary conditions\n",
    "bcs = [bc0, bc1]"
   ]
  },
  {
   "cell_type": "markdown",
   "metadata": {},
   "source": [
    "Here, we have given four arguments to :pyDirichletBC\n",
    "&lt;dolfin.cpp.fem.DirichletBC&gt;. The first specifies the\n",
    ":pyFunctionSpace &lt;dolfin.cpp.function.FunctionSpace&gt;. Since we\n",
    "have a :pyMixedFunctionSpace\n",
    "&lt;dolfin.functions.functionspace.MixedFunctionSpace&gt;, we write\n",
    "system.sub(0) for the :pyVectorFunctionSpace\n",
    "&lt;dolfin.functions.functionspace.VectorFunctionSpace&gt;, and\n",
    "system.sub(1) for the :pyFunctionSpace\n",
    "&lt;dolfin.cpp.function.FunctionSpace&gt;. The second argument specifies\n",
    "the value on the Dirichlet boundary. The two last arguments specify the\n",
    "marking of the subdomains; sub\\_domains contains the subdomain markers\n",
    "and the number given as the last argument is the subdomain index.\n",
    "\n",
    "The bilinear and linear forms corresponding to the stabilized weak mixed\n",
    "formulation of the Stokes equations are defined as follows:"
   ]
  },
  {
   "cell_type": "code",
   "execution_count": null,
   "metadata": {
    "attributes": {
     "classes": [
      "sourceCode"
     ],
     "id": ""
    }
   },
   "outputs": [],
   "source": [
    "# Define variational problem\n",
    "(v, q) = TestFunctions(system)\n",
    "(u, p) = TrialFunctions(system)\n",
    "f = Constant((0, 0))\n",
    "h = CellSize(mesh)\n",
    "beta  = 0.2\n",
    "delta = beta*h*h\n",
    "a = (inner(grad(v), grad(u)) - div(v)*p + q*div(u) + \\\n",
    "    delta*inner(grad(q), grad(p)))*dx\n",
    "L = inner(v + delta*grad(q), f)*dx"
   ]
  },
  {
   "cell_type": "markdown",
   "metadata": {},
   "source": [
    "To compute the solution we use the bilinear and linear forms, and the\n",
    "boundary condition, but we also need to create a :pyFunction\n",
    "&lt;dolfin.cpp.function.Function&gt; to store the solution(s). The\n",
    "(full) solution will be stored in `w`, which we initialize using the\n",
    "MixedFunctionSpace system. The actual computation is performed by\n",
    "calling solve with the arguments `a`, `L` and `bcs`. The separate\n",
    "components `u` and `p` of the solution can be extracted by calling the\n",
    ":pysplit\n",
    "&lt;dolfin.functions.function.Function.split&gt; function."
   ]
  },
  {
   "cell_type": "code",
   "execution_count": null,
   "metadata": {
    "attributes": {
     "classes": [
      "sourceCode"
     ],
     "id": ""
    }
   },
   "outputs": [],
   "source": [
    "# Compute solution\n",
    "w = Function(system)\n",
    "solve(a == L, w, bcs)\n",
    "u, p = w.split()"
   ]
  },
  {
   "cell_type": "markdown",
   "metadata": {},
   "source": [
    "Finally, we can store to file and plot the solutions."
   ]
  },
  {
   "cell_type": "code",
   "execution_count": null,
   "metadata": {
    "attributes": {
     "classes": [
      "sourceCode"
     ],
     "id": ""
    }
   },
   "outputs": [],
   "source": [
    "# Save solution in VTK format\n",
    "ufile_pvd = File(\"velocity.pvd\")\n",
    "ufile_pvd << u\n",
    "pfile_pvd = File(\"pressure.pvd\")\n",
    "pfile_pvd << p\n",
    "\n",
    "# Plot solution\n",
    "plot(u)\n",
    "plot(p)\n",
    "interactive()"
   ]
  },
  {
   "cell_type": "markdown",
   "metadata": {},
   "source": [
    "## Complete code"
   ]
  }
 ],
 "metadata": {
  "kernelspec": {
   "display_name": "Python 2 (fenics)",
   "language": "python",
   "name": "fenics"
  }
 },
 "nbformat": 4,
 "nbformat_minor": 0
}
