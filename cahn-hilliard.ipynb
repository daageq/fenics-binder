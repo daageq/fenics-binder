{
 "cells": [
  {
   "cell_type": "markdown",
   "metadata": {},
   "source": [
    "# Cahn-Hilliard equation\n",
    "\n",
    "This demo is implemented in a single Python file,\n",
    "demo\\_cahn-hilliard.py, which contains both the variational forms and\n",
    "the solver.\n",
    "\n",
    "## Implementation\n",
    "\n",
    "This demo is implemented in the demo\\_cahn-hilliard.py file.\n",
    "\n",
    "First, the Python module :pyrandom and the :pydolfin module are\n",
    "imported:"
   ]
  },
  {
   "cell_type": "code",
   "execution_count": null,
   "metadata": {
    "attributes": {
     "classes": [
      "sourceCode"
     ],
     "id": ""
    }
   },
   "outputs": [],
   "source": [
    "import random\n",
    "from dolfin import *"
   ]
  },
  {
   "cell_type": "markdown",
   "metadata": {},
   "source": [
    "A class which will be used to represent the initial conditions is then\n",
    "created:"
   ]
  },
  {
   "cell_type": "code",
   "execution_count": null,
   "metadata": {
    "attributes": {
     "classes": [
      "sourceCode"
     ],
     "id": ""
    }
   },
   "outputs": [],
   "source": [
    "# Class representing the intial conditions\n",
    "class InitialConditions(Expression):\n",
    "    def __init__(self):\n",
    "        random.seed(2 + MPI.rank(mpi_comm_world()))\n",
    "    def eval(self, values, x):\n",
    "        values[0] = 0.63 + 0.02*(0.5 - random.random())\n",
    "        values[1] = 0.0\n",
    "    def value_shape(self):\n",
    "        return (2,)"
   ]
  },
  {
   "cell_type": "markdown",
   "metadata": {},
   "source": [
    "It is a subclass of :pyExpression\n",
    "&lt;dolfin.functions.expression.Expression&gt;. In the constructor\n",
    "(`__init__`), the random number generator is seeded. If the program is\n",
    "run in parallel, the random number generator is seeded using the rank\n",
    "(process number) to ensure a different sequence of numbers on each\n",
    "process. The function `eval` returns values for a function of dimension\n",
    "two. For the first component of the function, a randomized value is\n",
    "returned. The method `value_shape` declares that the\n",
    ":pyExpression &lt;dolfin.functions.expression.Expression&gt; is vector\n",
    "valued with dimension two.\n",
    "\n",
    "A class which will represent the Cahn-Hilliard in an abstract from for\n",
    "use in the Newton solver is now defined. It is a subclass of\n",
    ":pyNonlinearProblem &lt;dolfin.cpp.NonlinearProblem&gt;."
   ]
  },
  {
   "cell_type": "code",
   "execution_count": null,
   "metadata": {
    "attributes": {
     "classes": [
      "sourceCode"
     ],
     "id": ""
    }
   },
   "outputs": [],
   "source": [
    "# Class for interfacing with the Newton solver\n",
    "class CahnHilliardEquation(NonlinearProblem):\n",
    "    def __init__(self, a, L):\n",
    "        NonlinearProblem.__init__(self)\n",
    "        self.L = L\n",
    "        self.a = a\n",
    "    def F(self, b, x):\n",
    "        assemble(self.L, tensor=b)\n",
    "    def J(self, A, x):\n",
    "        assemble(self.a, tensor=A)"
   ]
  },
  {
   "cell_type": "markdown",
   "metadata": {},
   "source": [
    "The constructor (`__init__`) stores references to the bilinear (`a`) and\n",
    "linear (`L`) forms. These will used to compute the Jacobian matrix and\n",
    "the residual vector, respectively, for use in a Newton solver. The\n",
    "function `F` and `J` are virtual member functions of :pyNonlinearProblem\n",
    "&lt;dolfin.cpp.NonlinearProblem&gt;. The function `F` computes the\n",
    "residual vector `b`, and the function `J` computes the Jacobian matrix\n",
    "`A`.\n",
    "\n",
    "Next, various model parameters are defined:"
   ]
  },
  {
   "cell_type": "code",
   "execution_count": null,
   "metadata": {
    "attributes": {
     "classes": [
      "sourceCode"
     ],
     "id": ""
    }
   },
   "outputs": [],
   "source": [
    "# Model parameters\n",
    "lmbda  = 1.0e-02  # surface parameter\n",
    "dt     = 5.0e-06  # time step\n",
    "theta  = 0.5      # time stepping family, e.g. theta=1 -> backward Euler, theta=0.5 -> Crank-Nicolson"
   ]
  },
  {
   "cell_type": "markdown",
   "metadata": {},
   "source": [
    "It is possible to pass arguments that control aspects of the generated\n",
    "code to the form compiler. The lines"
   ]
  },
  {
   "cell_type": "code",
   "execution_count": null,
   "metadata": {
    "attributes": {
     "classes": [
      "sourceCode"
     ],
     "id": ""
    }
   },
   "outputs": [],
   "source": [
    "# Form compiler options\n",
    "parameters[\"form_compiler\"][\"optimize\"]     = True\n",
    "parameters[\"form_compiler\"][\"cpp_optimize\"] = True"
   ]
  },
  {
   "cell_type": "markdown",
   "metadata": {},
   "source": [
    "tell the form to apply optimization strategies in the code generation\n",
    "phase and the use compiler optimization flags when compiling the\n",
    "generated C++ code. Using the option `[\"optimize\"] = True` will\n",
    "generally result in faster code (sometimes orders of magnitude faster\n",
    "for certain operations, depending on the equation), but it may take\n",
    "considerably longer to generate the code and the generation phase may\n",
    "use considerably more memory).\n",
    "\n",
    "A unit square mesh with 97 (= 96 + 1) vertices in each direction is\n",
    "created, and on this mesh a :pyFunctionSpace\n",
    "&lt;dolfin.functions.functionspace.FunctionSpace&gt; $V$ and a\n",
    ":pyMixedFunctionSpace\n",
    "&lt;dolfin.functions.functionspace.MixedFunctionSpace&gt; space $ME =\n",
    "V \\times V$ are defined:"
   ]
  },
  {
   "cell_type": "code",
   "execution_count": null,
   "metadata": {
    "attributes": {
     "classes": [
      "sourceCode"
     ],
     "id": ""
    }
   },
   "outputs": [],
   "source": [
    "# Create mesh and define function spaces\n",
    "mesh = UnitSquareMesh(96, 96)\n",
    "V = FunctionSpace(mesh, \"Lagrange\", 1)\n",
    "ME = V*V"
   ]
  },
  {
   "cell_type": "markdown",
   "metadata": {},
   "source": [
    "The space `V` involves first-order continuous Lagrange basis functions.\n",
    "The mixed space is created using the `*` operator.\n",
    "\n",
    "Trial and test functions of the space `ME` are now defined:"
   ]
  },
  {
   "cell_type": "code",
   "execution_count": null,
   "metadata": {
    "attributes": {
     "classes": [
      "sourceCode"
     ],
     "id": ""
    }
   },
   "outputs": [],
   "source": [
    "# Define trial and test functions\n",
    "du    = TrialFunction(ME)\n",
    "q, v  = TestFunctions(ME)"
   ]
  },
  {
   "cell_type": "markdown",
   "metadata": {},
   "source": [
    "For the test functions, :pyTestFunctions\n",
    "&lt;dolfin.functions.function.TestFunctions&gt; (note the 's' at the\n",
    "end) is used to define the scalar test functions `q` and `v`. The\n",
    ":pyTrialFunction &lt;dolfin.functions.function.TrialFunction&gt; `du`\n",
    "has dimension two. Some mixed objects of the\n",
    ":pyFunction &lt;dolfin.functions.function.Function&gt; class on `ME` are\n",
    "defined to represent $u = (c_{n+1}, \\mu_{n+1})$ and\n",
    "$u0 = (c_{n}, \\mu_{n})$, and these are then split into sub-functions:"
   ]
  },
  {
   "cell_type": "code",
   "execution_count": null,
   "metadata": {
    "attributes": {
     "classes": [
      "sourceCode"
     ],
     "id": ""
    }
   },
   "outputs": [],
   "source": [
    "# Define functions\n",
    "u   = Function(ME)  # current solution\n",
    "u0  = Function(ME)  # solution from previous converged step\n",
    "\n",
    "# Split mixed functions\n",
    "dc, dmu = split(du)\n",
    "c,  mu  = split(u)\n",
    "c0, mu0 = split(u0)"
   ]
  },
  {
   "cell_type": "markdown",
   "metadata": {},
   "source": [
    "The line `c, mu = split(u)` permits direct access to the components of a\n",
    "mixed function. Note that `c` and `mu` are references for components of\n",
    "`u`, and not copies.\n",
    "\n",
    "Initial conditions are created by using the class defined at the\n",
    "beginning of the demo and then interpolating the initial conditions into\n",
    "a finite element space:"
   ]
  },
  {
   "cell_type": "code",
   "execution_count": null,
   "metadata": {
    "attributes": {
     "classes": [
      "sourceCode"
     ],
     "id": ""
    }
   },
   "outputs": [],
   "source": [
    "# Create intial conditions and interpolate\n",
    "u_init = InitialConditions()\n",
    "u.interpolate(u_init)\n",
    "u0.interpolate(u_init)"
   ]
  },
  {
   "cell_type": "markdown",
   "metadata": {},
   "source": [
    "The first line creates an object of type `InitialConditions`. The\n",
    "following two lines make `u` and `u0` interpolants of `u_init` (since\n",
    "`u` and `u0` are finite element functions, they may not be able to\n",
    "represent a given function exactly, but the function can be approximated\n",
    "by interpolating it in a finite element space).\n",
    "\n",
    "The chemical potential $df/dc$ is computed using automated\n",
    "differentiation:"
   ]
  },
  {
   "cell_type": "code",
   "execution_count": null,
   "metadata": {
    "attributes": {
     "classes": [
      "sourceCode"
     ],
     "id": ""
    }
   },
   "outputs": [],
   "source": [
    "# Compute the chemical potential df/dc\n",
    "c = variable(c)\n",
    "f    = 100*c**2*(1-c)**2\n",
    "dfdc = diff(f, c)"
   ]
  },
  {
   "cell_type": "markdown",
   "metadata": {},
   "source": [
    "The first line declares that `c` is a variable that some function can be\n",
    "differentiated with respect to. The next line is the function $f$\n",
    "defined in the problem statement, and the third line performs the\n",
    "differentiation of `f` with respect to the variable `c`.\n",
    "\n",
    "It is convenient to introduce an expression for $\\mu_{n+\\theta}$"
   ]
  },
  {
   "cell_type": "code",
   "execution_count": null,
   "metadata": {
    "attributes": {
     "classes": [
      "sourceCode"
     ],
     "id": ""
    }
   },
   "outputs": [],
   "source": [
    "# mu_(n+theta)\n",
    "mu_mid = (1.0-theta)*mu0 + theta*mu"
   ]
  },
  {
   "cell_type": "markdown",
   "metadata": {},
   "source": [
    "which is then used in the definition of the variational forms:"
   ]
  },
  {
   "cell_type": "code",
   "execution_count": null,
   "metadata": {
    "attributes": {
     "classes": [
      "sourceCode"
     ],
     "id": ""
    }
   },
   "outputs": [],
   "source": [
    "# Weak statement of the equations\n",
    "L0 = c*q*dx - c0*q*dx + dt*dot(grad(mu_mid), grad(q))*dx\n",
    "L1 = mu*v*dx - dfdc*v*dx - lmbda*dot(grad(c), grad(v))*dx\n",
    "L = L0 + L1"
   ]
  },
  {
   "cell_type": "markdown",
   "metadata": {},
   "source": [
    "This is a statement of the time-discrete equations presented as part of\n",
    "the problem statement, using UFL syntax. The linear forms for the two\n",
    "equations can be summed into one form `L`, and then the directional\n",
    "derivative of `L` can be computed to form the bilinear form which\n",
    "represents the Jacobian matrix:"
   ]
  },
  {
   "cell_type": "code",
   "execution_count": null,
   "metadata": {
    "attributes": {
     "classes": [
      "sourceCode"
     ],
     "id": ""
    }
   },
   "outputs": [],
   "source": [
    "# Compute directional derivative about u in the direction of du (Jacobian)\n",
    "a = derivative(L, u, du)"
   ]
  },
  {
   "cell_type": "markdown",
   "metadata": {},
   "source": [
    "The DOLFIN Newton solver requires a :pyNonlinearProblem\n",
    "&lt;dolfin.cpp.NonlinearProblem&gt; object to solve a system of\n",
    "nonlinear equations. Here, we are using the class\n",
    "`CahnHilliardEquation`, which was declared at the beginning of the file,\n",
    "and which is a sub-class of :pyNonlinearProblem\n",
    "&lt;dolfin.cpp.NonlinearProblem&gt;. We need to instantiate objects of\n",
    "both `CahnHilliardEquation` and :pyNewtonSolver\n",
    "&lt;dolfin.cpp.NewtonSolver&gt;:"
   ]
  },
  {
   "cell_type": "code",
   "execution_count": null,
   "metadata": {
    "attributes": {
     "classes": [
      "sourceCode"
     ],
     "id": ""
    }
   },
   "outputs": [],
   "source": [
    "# Create nonlinear problem and Newton solver\n",
    "problem = CahnHilliardEquation(a, L)\n",
    "solver = NewtonSolver()\n",
    "solver.parameters[\"linear_solver\"] = \"lu\"\n",
    "solver.parameters[\"convergence_criterion\"] = \"incremental\"\n",
    "solver.parameters[\"relative_tolerance\"] = 1e-6"
   ]
  },
  {
   "cell_type": "markdown",
   "metadata": {},
   "source": [
    "The string `\"lu\"` passed to the Newton solver indicated that an LU\n",
    "solver should be used. The setting of\n",
    "`parameters[\"convergence_criterion\"] = \"incremental\"` specifies that the\n",
    "Newton solver should compute a norm of the solution increment to check\n",
    "for convergence (the other possibility is to use `\"residual\"`, or to\n",
    "provide a user-defined check). The tolerance for convergence is\n",
    "specified by `parameters[\"relative_tolerance\"] = 1e-6`.\n",
    "\n",
    "To run the solver and save the output to a VTK file for later\n",
    "visualization, the solver is advanced in time from $t_{n}$ to $t_{n+1}$\n",
    "until a terminal time $T$ is reached:"
   ]
  },
  {
   "cell_type": "code",
   "execution_count": null,
   "metadata": {
    "attributes": {
     "classes": [
      "sourceCode"
     ],
     "id": ""
    }
   },
   "outputs": [],
   "source": [
    "# Output file\n",
    "file = File(\"output.pvd\", \"compressed\")\n",
    "\n",
    "# Step in time\n",
    "t = 0.0\n",
    "T = 50*dt\n",
    "while (t < T):\n",
    "    t += dt\n",
    "    u0.vector()[:] = u.vector()\n",
    "    solver.solve(problem, u.vector())\n",
    "    file << (u.split()[0], t)"
   ]
  },
  {
   "cell_type": "markdown",
   "metadata": {},
   "source": [
    "The string `\"compressed\"` indicates that the output data should be\n",
    "compressed to reduce the file size. Within the time stepping loop, the\n",
    "solution vector associated with `u` is copied to `u0` at the beginning\n",
    "of each time step, and the nonlinear problem is solved by calling\n",
    ":pysolver.solve(problem, u.vector())\n",
    "&lt;dolfin.cpp.NewtonSolver.solve&gt;, with the new solution vector\n",
    "returned in :pyu.vector() &lt;dolfin.cpp.Function.vector&gt;. The `c`\n",
    "component of the solution (the first component of `u`) is then written\n",
    "to file at every time step.\n",
    "\n",
    "Finally, the last computed solution for $c$ is plotted to the screen:"
   ]
  },
  {
   "cell_type": "code",
   "execution_count": null,
   "metadata": {
    "attributes": {
     "classes": [
      "sourceCode"
     ],
     "id": ""
    }
   },
   "outputs": [],
   "source": [
    "plot(u.split()[0])\n",
    "interactive()"
   ]
  },
  {
   "cell_type": "markdown",
   "metadata": {},
   "source": [
    "The line `interactive()` holds the plot (waiting for a keyboard action).\n",
    "\n",
    "## Complete code"
   ]
  }
 ],
 "metadata": {
  "kernelspec": {
   "display_name": "Python 2 (fenics)",
   "language": "python",
   "name": "fenics"
  }
 },
 "nbformat": 4,
 "nbformat_minor": 0
}
