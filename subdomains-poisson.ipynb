{
 "cells": [
  {
   "cell_type": "markdown",
   "metadata": {},
   "source": [
    "# Poisson equation with multiple subdomains\n",
    "\n",
    "This demo is implemented in a single Python file,\n",
    "demo\\_subdomains-poisson.py, which contains both the variational forms\n",
    "and the solver. We suggest that you familiarize yourself with the\n",
    "Poisson demo\n",
    "&lt;demo\\_pde\\_poisson\\_python\\_documentation&gt; before studying this\n",
    "example, as some of the more standard steps will be described in less\n",
    "detail.\n",
    "\n",
    "## Implementation\n",
    "\n",
    "This description goes through the implementation (in\n",
    "demo\\_subdomains-poisson.py) of a solver for the above described\n",
    "equation.\n",
    "\n",
    "In this example, different boundary conditions are prescribed on\n",
    "different parts of the boundaries, and different parts of the interior\n",
    "have different material properties. This information must be made\n",
    "available to the solver. One way of doing this, is to tag the different\n",
    "subregions with different (integer) labels, and later integrate over the\n",
    "specified regions. DOLFIN provides a class\n",
    ":pyMeshFunction &lt;dolfin.cpp.MeshFunction&gt; which is useful for\n",
    "these types of operations: instances of this class represent functions\n",
    "over mesh entities (such as over cells or over facets). Mesh functions\n",
    "can be read from file or, if explicit formulae for the domains are\n",
    "known, they can be constructed by way of instances of the\n",
    ":pySubDomain &lt;dolfin.cpp.SubDomain&gt; class. The latter is the case\n",
    "here, so we begin by defining the left, right, top and bottom\n",
    "boundaries, and the interior obstacle domain using the\n",
    ":pySubDomain &lt;dolfin.cpp.SubDomain&gt; class and creating instances\n",
    "of these classes."
   ]
  },
  {
   "cell_type": "code",
   "execution_count": null,
   "metadata": {
    "attributes": {
     "classes": [
      "sourceCode"
     ],
     "id": ""
    }
   },
   "outputs": [],
   "source": [
    "from dolfin import *\n",
    "\n",
    "# Create classes for defining parts of the boundaries and the interior\n",
    "# of the domain\n",
    "class Left(SubDomain):\n",
    "    def inside(self, x, on_boundary):\n",
    "        return near(x[0], 0.0)\n",
    "\n",
    "class Right(SubDomain):\n",
    "    def inside(self, x, on_boundary):\n",
    "        return near(x[0], 1.0)\n",
    "\n",
    "class Bottom(SubDomain):\n",
    "    def inside(self, x, on_boundary):\n",
    "        return near(x[1], 0.0)\n",
    "\n",
    "class Top(SubDomain):\n",
    "    def inside(self, x, on_boundary):\n",
    "        return near(x[1], 1.0)\n",
    "\n",
    "class Obstacle(SubDomain):\n",
    "    def inside(self, x, on_boundary):\n",
    "        return (between(x[1], (0.5, 0.7)) and between(x[0], (0.2, 1.0)))\n",
    "\n",
    "# Initialize sub-domain instances\n",
    "left = Left()\n",
    "top = Top()\n",
    "right = Right()\n",
    "bottom = Bottom()\n",
    "obstacle = Obstacle()"
   ]
  },
  {
   "cell_type": "markdown",
   "metadata": {},
   "source": [
    "Note that the DOLFIN functions :pynear &lt;dolfin.cpp.near&gt; and\n",
    ":pybetween &lt;dolfin.cpp.between&gt; provide robust ways of testing\n",
    "whether a coordinate is (to within machine precision) close to a given\n",
    "numerical value and in a range of values, respectively.\n",
    "\n",
    "We next define a mesh of the domain:"
   ]
  },
  {
   "cell_type": "code",
   "execution_count": null,
   "metadata": {
    "attributes": {
     "classes": [
      "sourceCode"
     ],
     "id": ""
    }
   },
   "outputs": [],
   "source": [
    "mesh = UnitSquareMesh(64, 64)"
   ]
  },
  {
   "cell_type": "markdown",
   "metadata": {},
   "source": [
    "The above subdomains are defined with the sole purpose of populating\n",
    "mesh functions. (For more complicated geometries, the mesh functions\n",
    "would typically be provided by other means.) The classes\n",
    ":pyCellFunction &lt;dolfin.cpp.CellFunction&gt; and\n",
    ":pyFacetFunction &lt;dolfin.cpp.FacetFunction&gt; are specialized\n",
    "versions of the more general :pyMeshFunction\n",
    "&lt;dolfin.cpp.MeshFunction&gt;. :pyCellFunction\n",
    "&lt;dolfin.cpp.CellFunction&gt; represents a function with a value for\n",
    "each cell of a mesh, while :pyFacetFunction\n",
    "&lt;dolfin.cpp.FacetFunction&gt; represents a function with a value for\n",
    "each facet. We define a :pyCellFunction\n",
    "&lt;dolfin.cpp.CellFunction&gt; to indicate which cells that correspond\n",
    "to the different interior subregions $\\Omega_0$ and $\\Omega_1$. Those in\n",
    "the interior rectangle will be tagged by 1, while the remainder is\n",
    "tagged by 0. We can set all the values of a\n",
    ":pyMeshFunction &lt;dolfin.cpp.MeshFunction&gt; to a given value using\n",
    "the :pyset\\_all\n",
    "&lt;dolfin.cpp.MeshFunctionInt.set\\_all&gt; method. So, in order to\n",
    "accomplish what we want, we can set all values to 0 first, and then we\n",
    "can use the `obstacle` instance to mark the cells identified as inside\n",
    "the obstacle region by 1 (thus overwriting the previous value):"
   ]
  },
  {
   "cell_type": "code",
   "execution_count": null,
   "metadata": {
    "attributes": {
     "classes": [
      "sourceCode"
     ],
     "id": ""
    }
   },
   "outputs": [],
   "source": [
    "# Initialize mesh function for interior domains\n",
    "domains = CellFunction(\"size_t\", mesh)\n",
    "domains.set_all(0)\n",
    "obstacle.mark(domains, 1)"
   ]
  },
  {
   "cell_type": "markdown",
   "metadata": {},
   "source": [
    "We can do the same for the boundaries using a :pyFacetFunction\n",
    "&lt;dolfin.cpp.FacetFunction&gt;. We first tag all the edges by `0`,\n",
    "then the edges on the left by `1`, on the top by `2`, on the right by\n",
    "`3` and on the bottom by `4`:"
   ]
  },
  {
   "cell_type": "code",
   "execution_count": null,
   "metadata": {
    "attributes": {
     "classes": [
      "sourceCode"
     ],
     "id": ""
    }
   },
   "outputs": [],
   "source": [
    "# Initialize mesh function for boundary domains\n",
    "boundaries = FacetFunction(\"size_t\", mesh)\n",
    "boundaries.set_all(0)\n",
    "left.mark(boundaries, 1)\n",
    "top.mark(boundaries, 2)\n",
    "right.mark(boundaries, 3)\n",
    "bottom.mark(boundaries, 4)"
   ]
  },
  {
   "cell_type": "markdown",
   "metadata": {},
   "source": [
    "Now that the geometry is defined and labeled, we can move on to defining\n",
    "the input source functions:"
   ]
  },
  {
   "cell_type": "code",
   "execution_count": null,
   "metadata": {
    "attributes": {
     "classes": [
      "sourceCode"
     ],
     "id": ""
    }
   },
   "outputs": [],
   "source": [
    "# Define input data\n",
    "a0 = Constant(1.0)\n",
    "a1 = Constant(0.01)\n",
    "g_L = Expression(\"- 10*exp(- pow(x[1] - 0.5, 2))\")\n",
    "g_R = Constant(\"1.0\")\n",
    "f = Constant(1.0)"
   ]
  },
  {
   "cell_type": "markdown",
   "metadata": {},
   "source": [
    "Here, `a0` and `a1` represent the values of the coefficient $a$ in the\n",
    "two regions of the domain, `g_L` and `g_R` represent the values of the\n",
    "Neumann boundary condition on the left and right boundaries\n",
    "respectively, and `f` represents the body source.\n",
    "\n",
    "We may now move on to define the variational equation. As usual, we\n",
    "start by defining a finite element function space and basis functions on\n",
    "this space:"
   ]
  },
  {
   "cell_type": "code",
   "execution_count": null,
   "metadata": {
    "attributes": {
     "classes": [
      "sourceCode"
     ],
     "id": ""
    }
   },
   "outputs": [],
   "source": [
    "# Define function space and basis functions\n",
    "V = FunctionSpace(mesh, \"CG\", 2)\n",
    "u = TrialFunction(V)\n",
    "v = TestFunction(V)"
   ]
  },
  {
   "cell_type": "markdown",
   "metadata": {},
   "source": [
    "With this function space, we can define the essential (Dirichlet)\n",
    "boundary conditions on the top and bottom boundaries. These boundaries\n",
    "correspond to the facets tagged by `2` and `4`, respectively, in the\n",
    "`boundaries` facet function:"
   ]
  },
  {
   "cell_type": "code",
   "execution_count": null,
   "metadata": {
    "attributes": {
     "classes": [
      "sourceCode"
     ],
     "id": ""
    }
   },
   "outputs": [],
   "source": [
    "# Define Dirichlet boundary conditions at top and bottom boundaries\n",
    "bcs = [DirichletBC(V, 5.0, boundaries, 2),\n",
    "       DirichletBC(V, 0.0, boundaries, 4)]"
   ]
  },
  {
   "cell_type": "markdown",
   "metadata": {},
   "source": [
    "DOLFIN predefines the \"measures\" `dx`, `ds` and `dS` representing\n",
    "integration over cells, exterior facets (that is, facets on the\n",
    "boundary) and interior facets, respectively. These measures can take an\n",
    "additional integer argument. In fact, `dx` defaults to `dx(0)`, `ds`\n",
    "defaults to `ds(0)`, and `dS` defaults to `dS(0)`. Integration over\n",
    "subregions can be specified by measures with different integer labels as\n",
    "arguments. However, we also need to map the geometry information stored\n",
    "in the mesh functions to these measures. The easiest way of\n",
    "accomplishing this is to define new measures with the mesh functions as\n",
    "additional input:"
   ]
  },
  {
   "cell_type": "code",
   "execution_count": null,
   "metadata": {
    "attributes": {
     "classes": [
      "sourceCode"
     ],
     "id": ""
    }
   },
   "outputs": [],
   "source": [
    "# Define new measures associated with the interior domains and\n",
    "# exterior boundaries\n",
    "dx = Measure('dx', domain=mesh, subdomain_data=domains)\n",
    "ds = Measure('ds', domain=mesh, subdomain_data=boundaries)"
   ]
  },
  {
   "cell_type": "markdown",
   "metadata": {},
   "source": [
    "We can now define the variational forms corresponding to the variational\n",
    "problem above using these measures and the tags for the different\n",
    "subregions. For simplicity, we define the full form first, and then\n",
    "extract the left- and right-hand sides using the UFL functions :pylhs\n",
    "and :pyrhs afterwards. We can then\n",
    ":pysolve &lt;dolfin.fem.solving.solve&gt; as usual:"
   ]
  },
  {
   "cell_type": "code",
   "execution_count": null,
   "metadata": {
    "attributes": {
     "classes": [
      "sourceCode"
     ],
     "id": ""
    }
   },
   "outputs": [],
   "source": [
    "# Define variational form\n",
    "F = (inner(a0*grad(u), grad(v))*dx(0) + inner(a1*grad(u), grad(v))*dx(1)\n",
    "     - g_L*v*ds(1) - g_R*v*ds(3)\n",
    "     - f*v*dx(0) - f*v*dx(1))\n",
    "\n",
    "# Separate left and right hand sides of equation\n",
    "a, L = lhs(F), rhs(F)\n",
    "\n",
    "# Solve problem\n",
    "u = Function(V)\n",
    "solve(a == L, u, bcs)"
   ]
  },
  {
   "cell_type": "markdown",
   "metadata": {},
   "source": [
    "Now, we can also evaluate various integrals of the solution or derived\n",
    "quantities of the solution over different regions, here are some\n",
    "examples:"
   ]
  },
  {
   "cell_type": "code",
   "execution_count": null,
   "metadata": {
    "attributes": {
     "classes": [
      "sourceCode"
     ],
     "id": ""
    }
   },
   "outputs": [],
   "source": [
    "# Evaluate integral of normal gradient over top boundary\n",
    "n = FacetNormal(mesh)\n",
    "m1 = dot(grad(u), n)*ds(2)\n",
    "v1 = assemble(m1)\n",
    "print(\"\\int grad(u) * n ds(2) = \", v1)\n",
    "\n",
    "# Evaluate integral of u over the obstacle\n",
    "m2 = u*dx(1)\n",
    "v2 = assemble(m2)\n",
    "print(\"\\int u dx(1) = \", v2)"
   ]
  },
  {
   "cell_type": "markdown",
   "metadata": {},
   "source": [
    "We also plot the solution and its gradient:"
   ]
  },
  {
   "cell_type": "code",
   "execution_count": null,
   "metadata": {
    "attributes": {
     "classes": [
      "sourceCode"
     ],
     "id": ""
    }
   },
   "outputs": [],
   "source": [
    "# Plot solution and gradient\n",
    "plot(u, title=\"u\")\n",
    "plot(grad(u), title=\"Projected grad(u)\")\n",
    "interactive()"
   ]
  },
  {
   "cell_type": "markdown",
   "metadata": {},
   "source": [
    "## Complete code"
   ]
  }
 ],
 "metadata": {
  "kernelspec": {
   "display_name": "Python 2 (fenics)",
   "language": "python",
   "name": "python3"
  }
 },
 "nbformat": 4,
 "nbformat_minor": 0
}
