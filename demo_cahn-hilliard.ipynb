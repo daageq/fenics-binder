{
 "cells": [
  {
   "cell_type": "markdown",
   "metadata": {},
   "source": [
    "Cahn-Hilliard equation\n",
    "======================\n",
    "\n",
    "This demo is implemented in a single Python file,\n",
    "demo\\_cahn-hilliard.py, which contains both the variational forms and\n",
    "the solver.\n",
    "\n",
    "This example demonstrates the solution of a particular nonlinear\n",
    "time-dependent fourth-order equation, known as the Cahn-Hilliard\n",
    "equation. In particular it demonstrates the use of\n",
    "\n",
    "-   The built-in Newton solver\n",
    "-   Advanced use of the base class `NonlinearProblem`\n",
    "-   Automatic linearisation\n",
    "-   A mixed finite element method\n",
    "-   The $\\theta$-method for time-dependent equations\n",
    "-   User-defined Expressions as Python classes\n",
    "-   Form compiler options\n",
    "-   Interpolation of functions\n",
    "\n",
    "Equation and problem definition\n",
    "-------------------------------\n",
    "\n",
    "The Cahn-Hilliard equation is a parabolic equation and is typically used\n",
    "to model phase separation in binary mixtures. It involves first-order\n",
    "time derivatives, and second- and fourth-order spatial derivatives. The\n",
    "equation reads:\n",
    "\n",
    "$$\\frac{\\partial c}{\\partial t} - \\nabla \\cdot M \\left(\\nabla\\left(\\frac{d f}{d c}\n",
    "          - \\lambda \\nabla^{2}c\\right)\\right) &= 0 \\quad {\\rm in} \\ \\Omega, \\\\\n",
    "M\\left(\\nabla\\left(\\frac{d f}{d c} - \\lambda \\nabla^{2}c\\right)\\right) \\cdot n &= 0 \\quad {\\rm on} \\ \\partial\\Omega, \\\\\n",
    "M \\lambda \\nabla c \\cdot n &= 0 \\quad {\\rm on} \\ \\partial\\Omega.$$\n",
    "\n",
    "where $c$ is the unknown field, the function $f$ is usually non-convex\n",
    "in $c$ (a fourth-order polynomial is commonly used), $n$ is the outward\n",
    "directed boundary normal, and $M$ is a scalar parameter.\n",
    "\n",
    "### Mixed form\n",
    "\n",
    "The Cahn-Hilliard equation is a fourth-order equation, so casting it in\n",
    "a weak form would result in the presence of second-order spatial\n",
    "derivatives, and the problem could not be solved using a standard\n",
    "Lagrange finite element basis. A solution is to rephrase the problem as\n",
    "two coupled second-order equations:\n",
    "\n",
    "$$\\frac{\\partial c}{\\partial t} - \\nabla \\cdot M \\nabla\\mu  &= 0 \\quad {\\rm in} \\ \\Omega, \\\\\n",
    "\\mu -  \\frac{d f}{d c} + \\lambda \\nabla^{2}c &= 0 \\quad {\\rm in} \\ \\Omega.$$\n",
    "\n",
    "The unknown fields are now $c$ and $\\mu$. The weak (variational) form of\n",
    "the problem reads: find $(c, \\mu) \\in V\n",
    "\\times V$ such that\n",
    "\n",
    "$$\\int_{\\Omega} \\frac{\\partial c}{\\partial t} q \\, {\\rm d} x + \\int_{\\Omega} M \\nabla\\mu \\cdot \\nabla q \\, {\\rm d} x\n",
    "       &= 0 \\quad \\forall \\ q \\in V,  \\\\\n",
    "\\int_{\\Omega} \\mu v \\, {\\rm d} x - \\int_{\\Omega} \\frac{d f}{d c} v \\, {\\rm d} x - \\int_{\\Omega} \\lambda \\nabla c \\cdot \\nabla v \\, {\\rm d} x\n",
    "       &= 0 \\quad \\forall \\ v \\in V.$$\n",
    "\n",
    "### Time discretisation\n",
    "\n",
    "Before being able to solve this problem, the time derivative must be\n",
    "dealt with. Apply the $\\theta$-method to the mixed weak form of the\n",
    "equation:\n",
    "\n",
    "$$\\int_{\\Omega} \\frac{c_{n+1} - c_{n}}{dt} q \\, {\\rm d} x + \\int_{\\Omega} M \\nabla \\mu_{n+\\theta} \\cdot \\nabla q \\, {\\rm d} x\n",
    "       &= 0 \\quad \\forall \\ q \\in V  \\\\\n",
    "\\int_{\\Omega} \\mu_{n+1} v  \\, {\\rm d} x - \\int_{\\Omega} \\frac{d f_{n+1}}{d c} v  \\, {\\rm d} x - \\int_{\\Omega} \\lambda \\nabla c_{n+1} \\cdot \\nabla v \\, {\\rm d} x\n",
    "       &= 0 \\quad \\forall \\ v \\in V$$\n",
    "\n",
    "where $dt = t_{n+1} - t_{n}$ and $\\mu_{n+\\theta} =\n",
    "(1-\\theta) \\mu_{n} + \\theta \\mu_{n+1}$. The task is: given $c_{n}$ and\n",
    "$\\mu_{n}$, solve the above equation to find $c_{n+1}$ and $\\mu_{n+1}$.\n",
    "\n",
    "### Demo parameters\n",
    "\n",
    "The following domains, functions and time stepping parameters are used\n",
    "in this demo:\n",
    "\n",
    "-   $\\Omega = (0, 1) \\times (0, 1)$ (unit square)\n",
    "-   $f = 100 c^{2} (1-c)^{2}$\n",
    "-   $\\lambda = 1 \\times 10^{-2}$\n",
    "-   $M = 1$\n",
    "-   $dt = 5 \\times 10^{-6}$\n",
    "-   $\\theta = 0.5$\n",
    "\n",
    "Implementation\n",
    "--------------\n",
    "\n",
    "This demo is implemented in the demo\\_cahn-hilliard.py file.\n",
    "\n",
    "First, the Python module :pyrandom and the :pydolfin module are\n",
    "imported:"
   ]
  },
  {
   "cell_type": "code",
   "execution_count": null,
   "metadata": {},
   "outputs": [],
   "source": [
    "import random\n",
    "from dolfin import *"
   ]
  },
  {
   "cell_type": "markdown",
   "metadata": {},
   "source": [
    "Specifying matplotlib as backend:"
   ]
  },
  {
   "cell_type": "code",
   "execution_count": null,
   "metadata": {},
   "outputs": [],
   "source": [
    "%matplotlib inline\n",
    "import matplotlib.pyplot as plt\n",
    "parameters[\"plotting_backend\"]=\"matplotlib\""
   ]
  },
  {
   "cell_type": "markdown",
   "metadata": {},
   "source": [
    "A class which will be used to represent the initial conditions is then\n",
    "created:"
   ]
  },
  {
   "cell_type": "code",
   "execution_count": null,
   "metadata": {},
   "outputs": [],
   "source": [
    "# Class representing the intial conditions\n",
    "class InitialConditions(Expression):\n",
    "    def __init__(self, **kwargs):\n",
    "        random.seed(2 + MPI.rank(mpi_comm_world()))\n",
    "    def eval(self, values, x):\n",
    "        values[0] = 0.63 + 0.02*(0.5 - random.random())\n",
    "        values[1] = 0.0\n",
    "    def value_shape(self):\n",
    "        return (2,)"
   ]
  },
  {
   "cell_type": "markdown",
   "metadata": {},
   "source": [
    "It is a subclass of :pyExpression\n",
    "&lt;dolfin.functions.expression.Expression&gt;. In the constructor\n",
    "(`__init__`), the random number generator is seeded. If the program is\n",
    "run in parallel, the random number generator is seeded using the rank\n",
    "(process number) to ensure a different sequence of numbers on each\n",
    "process. The function `eval` returns values for a function of dimension\n",
    "two. For the first component of the function, a randomized value is\n",
    "returned. The method `value_shape` declares that the\n",
    ":pyExpression &lt;dolfin.functions.expression.Expression&gt; is vector\n",
    "valued with dimension two.\n",
    "\n",
    "A class which will represent the Cahn-Hilliard in an abstract from for\n",
    "use in the Newton solver is now defined. It is a subclass of\n",
    ":pyNonlinearProblem &lt;dolfin.cpp.NonlinearProblem&gt;. :"
   ]
  },
  {
   "cell_type": "code",
   "execution_count": null,
   "metadata": {},
   "outputs": [],
   "source": [
    "# Class for interfacing with the Newton solver\n",
    "class CahnHilliardEquation(NonlinearProblem):\n",
    "    def __init__(self, a, L):\n",
    "        NonlinearProblem.__init__(self)\n",
    "        self.L = L\n",
    "        self.a = a\n",
    "    def F(self, b, x):\n",
    "        assemble(self.L, tensor=b)\n",
    "    def J(self, A, x):\n",
    "        assemble(self.a, tensor=A)"
   ]
  },
  {
   "cell_type": "markdown",
   "metadata": {},
   "source": [
    "The constructor (`__init__`) stores references to the bilinear (`a`) and\n",
    "linear (`L`) forms. These will used to compute the Jacobian matrix and\n",
    "the residual vector, respectively, for use in a Newton solver. The\n",
    "function `F` and `J` are virtual member functions of :pyNonlinearProblem\n",
    "&lt;dolfin.cpp.NonlinearProblem&gt;. The function `F` computes the\n",
    "residual vector `b`, and the function `J` computes the Jacobian matrix\n",
    "`A`.\n",
    "\n",
    "Next, various model parameters are defined:"
   ]
  },
  {
   "cell_type": "code",
   "execution_count": null,
   "metadata": {},
   "outputs": [],
   "source": [
    "# Model parameters\n",
    "lmbda  = 1.0e-02  # surface parameter\n",
    "dt     = 5.0e-06  # time step\n",
    "theta  = 0.5      # time stepping family, e.g. theta=1 -> backward Euler, theta=0.5 -> Crank-Nicolson"
   ]
  },
  {
   "cell_type": "markdown",
   "metadata": {},
   "source": [
    "It is possible to pass arguments that control aspects of the generated\n",
    "code to the form compiler. The lines :"
   ]
  },
  {
   "cell_type": "code",
   "execution_count": null,
   "metadata": {},
   "outputs": [],
   "source": [
    "# Form compiler options\n",
    "parameters[\"form_compiler\"][\"optimize\"]     = True\n",
    "parameters[\"form_compiler\"][\"cpp_optimize\"] = True"
   ]
  },
  {
   "cell_type": "markdown",
   "metadata": {},
   "source": [
    "tell the form to apply optimization strategies in the code generation\n",
    "phase and the use compiler optimization flags when compiling the\n",
    "generated C++ code. Using the option `[\"optimize\"] = True` will\n",
    "generally result in faster code (sometimes orders of magnitude faster\n",
    "for certain operations, depending on the equation), but it may take\n",
    "considerably longer to generate the code and the generation phase may\n",
    "use considerably more memory).\n",
    "\n",
    "A unit square mesh with 97 (= 96 + 1) vertices in each direction is\n",
    "created, and on this mesh a :pyFunctionSpace\n",
    "&lt;dolfin.functions.functionspace.FunctionSpace&gt; `ME` is built using\n",
    "a pair of linear Lagrangian elements. :"
   ]
  },
  {
   "cell_type": "code",
   "execution_count": null,
   "metadata": {},
   "outputs": [],
   "source": [
    "# Create mesh and build function space\n",
    "mesh = UnitSquareMesh(96, 96)\n",
    "P1 = FiniteElement(\"Lagrange\", mesh.ufl_cell(), 1)\n",
    "ME = FunctionSpace(mesh, P1*P1)"
   ]
  },
  {
   "cell_type": "markdown",
   "metadata": {},
   "source": [
    "Trial and test functions of the space `ME` are now defined:"
   ]
  },
  {
   "cell_type": "code",
   "execution_count": null,
   "metadata": {},
   "outputs": [],
   "source": [
    "# Define trial and test functions\n",
    "du    = TrialFunction(ME)\n",
    "q, v  = TestFunctions(ME)"
   ]
  },
  {
   "cell_type": "markdown",
   "metadata": {},
   "source": [
    "For the test functions, :pyTestFunctions\n",
    "&lt;dolfin.functions.function.TestFunctions&gt; (note the 's' at the\n",
    "end) is used to define the scalar test functions `q` and `v`. The\n",
    ":pyTrialFunction &lt;dolfin.functions.function.TrialFunction&gt; `du`\n",
    "has dimension two. Some mixed objects of the\n",
    ":pyFunction &lt;dolfin.functions.function.Function&gt; class on `ME` are\n",
    "defined to represent $u = (c_{n+1}, \\mu_{n+1})$ and\n",
    "$u0 = (c_{n}, \\mu_{n})$, and these are then split into sub-functions:"
   ]
  },
  {
   "cell_type": "code",
   "execution_count": null,
   "metadata": {},
   "outputs": [],
   "source": [
    "# Define functions\n",
    "u   = Function(ME)  # current solution\n",
    "u0  = Function(ME)  # solution from previous converged step\n",
    "\n",
    "# Split mixed functions\n",
    "dc, dmu = split(du)\n",
    "c,  mu  = split(u)\n",
    "c0, mu0 = split(u0)"
   ]
  },
  {
   "cell_type": "markdown",
   "metadata": {},
   "source": [
    "The line `c, mu = split(u)` permits direct access to the components of a\n",
    "mixed function. Note that `c` and `mu` are references for components of\n",
    "`u`, and not copies.\n",
    "\n",
    "Initial conditions are created by using the class defined at the\n",
    "beginning of the demo and then interpolating the initial conditions into\n",
    "a finite element space:"
   ]
  },
  {
   "cell_type": "code",
   "execution_count": null,
   "metadata": {},
   "outputs": [],
   "source": [
    "# Create intial conditions and interpolate\n",
    "u_init = InitialConditions(degree=1)\n",
    "u.interpolate(u_init)\n",
    "u0.interpolate(u_init)"
   ]
  },
  {
   "cell_type": "markdown",
   "metadata": {},
   "source": [
    "The first line creates an object of type `InitialConditions`. The\n",
    "following two lines make `u` and `u0` interpolants of `u_init` (since\n",
    "`u` and `u0` are finite element functions, they may not be able to\n",
    "represent a given function exactly, but the function can be approximated\n",
    "by interpolating it in a finite element space).\n",
    "\n",
    "The chemical potential $df/dc$ is computed using automated\n",
    "differentiation:"
   ]
  },
  {
   "cell_type": "code",
   "execution_count": null,
   "metadata": {},
   "outputs": [],
   "source": [
    "# Compute the chemical potential df/dc\n",
    "c = variable(c)\n",
    "f    = 100*c**2*(1-c)**2\n",
    "dfdc = diff(f, c)"
   ]
  },
  {
   "cell_type": "markdown",
   "metadata": {},
   "source": [
    "The first line declares that `c` is a variable that some function can be\n",
    "differentiated with respect to. The next line is the function $f$\n",
    "defined in the problem statement, and the third line performs the\n",
    "differentiation of `f` with respect to the variable `c`.\n",
    "\n",
    "It is convenient to introduce an expression for $\\mu_{n+\\theta}$:"
   ]
  },
  {
   "cell_type": "code",
   "execution_count": null,
   "metadata": {},
   "outputs": [],
   "source": [
    "# mu_(n+theta)\n",
    "mu_mid = (1.0-theta)*mu0 + theta*mu"
   ]
  },
  {
   "cell_type": "markdown",
   "metadata": {},
   "source": [
    "which is then used in the definition of the variational forms:"
   ]
  },
  {
   "cell_type": "code",
   "execution_count": null,
   "metadata": {},
   "outputs": [],
   "source": [
    "# Weak statement of the equations\n",
    "L0 = c*q*dx - c0*q*dx + dt*dot(grad(mu_mid), grad(q))*dx\n",
    "L1 = mu*v*dx - dfdc*v*dx - lmbda*dot(grad(c), grad(v))*dx\n",
    "L = L0 + L1"
   ]
  },
  {
   "cell_type": "markdown",
   "metadata": {},
   "source": [
    "This is a statement of the time-discrete equations presented as part of\n",
    "the problem statement, using UFL syntax. The linear forms for the two\n",
    "equations can be summed into one form `L`, and then the directional\n",
    "derivative of `L` can be computed to form the bilinear form which\n",
    "represents the Jacobian matrix:"
   ]
  },
  {
   "cell_type": "code",
   "execution_count": null,
   "metadata": {},
   "outputs": [],
   "source": [
    "# Compute directional derivative about u in the direction of du (Jacobian)\n",
    "a = derivative(L, u, du)"
   ]
  },
  {
   "cell_type": "markdown",
   "metadata": {},
   "source": [
    "The DOLFIN Newton solver requires a :pyNonlinearProblem\n",
    "&lt;dolfin.cpp.NonlinearProblem&gt; object to solve a system of\n",
    "nonlinear equations. Here, we are using the class\n",
    "`CahnHilliardEquation`, which was declared at the beginning of the file,\n",
    "and which is a sub-class of :pyNonlinearProblem\n",
    "&lt;dolfin.cpp.NonlinearProblem&gt;. We need to instantiate objects of\n",
    "both `CahnHilliardEquation` and :pyNewtonSolver\n",
    "&lt;dolfin.cpp.NewtonSolver&gt;:"
   ]
  },
  {
   "cell_type": "code",
   "execution_count": null,
   "metadata": {},
   "outputs": [],
   "source": [
    "# Create nonlinear problem and Newton solver\n",
    "problem = CahnHilliardEquation(a, L)\n",
    "solver = NewtonSolver()\n",
    "solver.parameters[\"linear_solver\"] = \"lu\"\n",
    "solver.parameters[\"convergence_criterion\"] = \"incremental\"\n",
    "solver.parameters[\"relative_tolerance\"] = 1e-6"
   ]
  },
  {
   "cell_type": "markdown",
   "metadata": {},
   "source": [
    "The string `\"lu\"` passed to the Newton solver indicated that an LU\n",
    "solver should be used. The setting of\n",
    "`parameters[\"convergence_criterion\"] = \"incremental\"` specifies that the\n",
    "Newton solver should compute a norm of the solution increment to check\n",
    "for convergence (the other possibility is to use `\"residual\"`, or to\n",
    "provide a user-defined check). The tolerance for convergence is\n",
    "specified by `parameters[\"relative_tolerance\"] = 1e-6`.\n",
    "\n",
    "To run the solver and save the output to a VTK file for later\n",
    "visualization, the solver is advanced in time from $t_{n}$ to $t_{n+1}$\n",
    "until a terminal time $T$ is reached:"
   ]
  },
  {
   "cell_type": "code",
   "execution_count": null,
   "metadata": {},
   "outputs": [],
   "source": [
    "# Output file\n",
    "file = File(\"output.pvd\", \"compressed\")\n",
    "\n",
    "# Step in time\n",
    "t = 0.0\n",
    "T = 50*dt\n",
    "while (t < T):\n",
    "    t += dt\n",
    "    u0.vector()[:] = u.vector()\n",
    "    solver.solve(problem, u.vector())\n",
    "    file << (u.split()[0], t)"
   ]
  },
  {
   "cell_type": "markdown",
   "metadata": {},
   "source": [
    "The string `\"compressed\"` indicates that the output data should be\n",
    "compressed to reduce the file size. Within the time stepping loop, the\n",
    "solution vector associated with `u` is copied to `u0` at the beginning\n",
    "of each time step, and the nonlinear problem is solved by calling\n",
    ":pysolver.solve(problem, u.vector())\n",
    "&lt;dolfin.cpp.NewtonSolver.solve&gt;, with the new solution vector\n",
    "returned in :pyu.vector() &lt;dolfin.cpp.Function.vector&gt;. The `c`\n",
    "component of the solution (the first component of `u`) is then written\n",
    "to file at every time step.\n",
    "\n",
    "Finally, the last computed solution for $c$ is plotted to the screen:"
   ]
  },
  {
   "cell_type": "code",
   "execution_count": null,
   "metadata": {},
   "outputs": [],
   "source": [
    "plt.figure()\n",
    "plot(u.split()[0])\n",
    "interactive()"
   ]
  },
  {
   "cell_type": "markdown",
   "metadata": {},
   "source": [
    "The line `interactive()` holds the plot (waiting for a keyboard action)."
   ]
  }
 ],
 "metadata": {},
 "nbformat": 4,
 "nbformat_minor": 1
}
