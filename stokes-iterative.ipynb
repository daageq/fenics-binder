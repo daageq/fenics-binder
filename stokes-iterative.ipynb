{
 "cells": [
  {
   "cell_type": "markdown",
   "metadata": {},
   "source": [
    "# Stokes equations\n",
    "\n",
    "This demo is implemented in a single Python file,\n",
    "demo\\_stokes-iterative.py, which contains both the variational forms and\n",
    "the solver.\n",
    "\n",
    "## Implementation\n",
    "\n",
    "This description goes through the implementation (in\n",
    "demo\\_stokes-iterative.py) of a solver for the above described Stokes\n",
    "equations. Some of the standard steps will be described in less detail,\n",
    "so before reading this, we suggest that you are familiarize with the\n",
    "Poisson demo\n",
    "&lt;demo\\_pde\\_poisson\\_python\\_documentation&gt; (for the very basics)\n",
    "and the Mixed Poisson demo\n",
    "&lt;demo\\_pde\\_mixed-poisson\\_python\\_documentation&gt; (for how to deal\n",
    "with mixed function spaces). Also, the Navier--Stokes demo\n",
    "&lt;demo\\_pde\\_navier\\_stokes\\_python\\_documentation&gt; illustrates how\n",
    "to use iterative solvers in a more implicit manner (typically only\n",
    "suitable for positive-definite systems of equations).\n",
    "\n",
    "The Stokes equations as formulated above result in a system of linear\n",
    "equations that is not positive-definite. Standard iterative linear\n",
    "solvers typically fail to converge for such systems. Some care must\n",
    "therefore be taken in preconditioning the systems of equations.\n",
    "Moreover, not all of the linear algebra backends support this. We\n",
    "therefore start by checking that either \"PETSc\" or \"Tpetra\" (from\n",
    "Trilinos) is available. We also try to pick MINRES Krylov subspace\n",
    "method which is suitable for symmetric indefinite problems. If not\n",
    "available, costly QMR method is choosen."
   ]
  },
  {
   "cell_type": "code",
   "execution_count": null,
   "metadata": {
    "attributes": {
     "classes": [
      "sourceCode"
     ],
     "id": ""
    }
   },
   "outputs": [],
   "source": [
    "from dolfin import *\n",
    "\n",
    "# Test for PETSc or Tpetra\n",
    "if not has_linear_algebra_backend(\"PETSc\") and not has_linear_algebra_backend(\"Tpetra\"):\n",
    "    info(\"DOLFIN has not been configured with Trilinos or PETSc. Exiting.\")\n",
    "    exit()\n",
    "\n",
    "if not has_krylov_solver_preconditioner(\"amg\"):\n",
    "    info(\"Sorry, this demo is only available when DOLFIN is compiled with AMG \"\n",
    "         \"preconditioner, Hypre or ML.\")\n",
    "    exit()\n",
    "\n",
    "if has_krylov_solver_method(\"minres\"):\n",
    "    krylov_method = \"minres\"\n",
    "elif has_krylov_solver_method(\"tfqmr\"):\n",
    "    krylov_method = \"tfqmr\"\n",
    "else:\n",
    "    info(\"Default linear algebra backend was not compiled with MINRES or TFQMR \"\n",
    "         \"Krylov subspace method. Terminating.\")\n",
    "    exit()"
   ]
  },
  {
   "cell_type": "markdown",
   "metadata": {},
   "source": [
    "Next, we define the mesh (a :pyUnitCubeMesh\n",
    "&lt;dolfin.cpp.UnitCubeMesh&gt;) and a :pyMixedFunctionSpace\n",
    "&lt;dolfin.functions.functionspace.MixedFunctionSpace&gt; composed of a\n",
    ":pyVectorFunctionSpace\n",
    "&lt;dolfin.functions.functionspace.VectorFunctionSpace&gt; of continuous\n",
    "piecewise quadratics and a :pyFunctionSpace\n",
    "&lt;dolfin.functions.functionspace.FunctionSpace&gt; of continuous\n",
    "piecewise linears. (This mixed finite element space is known as the\n",
    "Taylor--Hood elements and is a stable, standard element pair for the\n",
    "Stokes equations.)"
   ]
  },
  {
   "cell_type": "code",
   "execution_count": null,
   "metadata": {
    "attributes": {
     "classes": [
      "sourceCode"
     ],
     "id": ""
    }
   },
   "outputs": [],
   "source": [
    "# Load mesh\n",
    "mesh = UnitCubeMesh(16, 16, 16)\n",
    "\n",
    "# Define function spaces\n",
    "V = VectorFunctionSpace(mesh, \"CG\", 2)\n",
    "Q = FunctionSpace(mesh, \"CG\", 1)\n",
    "W = V * Q"
   ]
  },
  {
   "cell_type": "markdown",
   "metadata": {},
   "source": [
    "Next, we define the boundary conditions."
   ]
  },
  {
   "cell_type": "code",
   "execution_count": null,
   "metadata": {
    "attributes": {
     "classes": [
      "sourceCode"
     ],
     "id": ""
    }
   },
   "outputs": [],
   "source": [
    "# Boundaries\n",
    "def right(x, on_boundary): return x[0] > (1.0 - DOLFIN_EPS)\n",
    "def left(x, on_boundary): return x[0] < DOLFIN_EPS\n",
    "def top_bottom(x, on_boundary):\n",
    "    return x[1] > 1.0 - DOLFIN_EPS or x[1] < DOLFIN_EPS\n",
    "\n",
    "# No-slip boundary condition for velocity\n",
    "noslip = Constant((0.0, 0.0, 0.0))\n",
    "bc0 = DirichletBC(W.sub(0), noslip, top_bottom)\n",
    "\n",
    "# Inflow boundary condition for velocity\n",
    "inflow = Expression((\"-sin(x[1]*pi)\", \"0.0\", \"0.0\"))\n",
    "bc1 = DirichletBC(W.sub(0), inflow, right)\n",
    "\n",
    "# Collect boundary conditions\n",
    "bcs = [bc0, bc1]"
   ]
  },
  {
   "cell_type": "markdown",
   "metadata": {},
   "source": [
    "The bilinear and linear forms corresponding to the weak mixed\n",
    "formulation of the Stokes equations are defined as follows:"
   ]
  },
  {
   "cell_type": "code",
   "execution_count": null,
   "metadata": {
    "attributes": {
     "classes": [
      "sourceCode"
     ],
     "id": ""
    }
   },
   "outputs": [],
   "source": [
    "# Define variational problem\n",
    "(u, p) = TrialFunctions(W)\n",
    "(v, q) = TestFunctions(W)\n",
    "f = Constant((0.0, 0.0, 0.0))\n",
    "a = inner(grad(u), grad(v))*dx + div(v)*p*dx + q*div(u)*dx\n",
    "L = inner(f, v)*dx"
   ]
  },
  {
   "cell_type": "markdown",
   "metadata": {},
   "source": [
    "We can now use the same :pyTrialFunctions\n",
    "&lt;dolfin.functions.function.TrialFunction&gt; and\n",
    ":pyTestFunctions &lt;dolfin.functions.function.TestFunction&gt; to\n",
    "define the preconditioner matrix. We first define the form corresponding\n",
    "to the expression for the preconditioner (given in the initial\n",
    "description above):"
   ]
  },
  {
   "cell_type": "code",
   "execution_count": null,
   "metadata": {
    "attributes": {
     "classes": [
      "sourceCode"
     ],
     "id": ""
    }
   },
   "outputs": [],
   "source": [
    "# Form for use in constructing preconditioner matrix\n",
    "b = inner(grad(u), grad(v))*dx + p*q*dx"
   ]
  },
  {
   "cell_type": "markdown",
   "metadata": {},
   "source": [
    "Next, we want to assemble the matrix corresponding to the bilinear form\n",
    "and the vector corresponding to the linear form of the Stokes equations.\n",
    "Moreover, we want to apply the specified boundary conditions to the\n",
    "linear system. However, :pyassembling\n",
    "&lt;dolfin.fem.assembling.assemble&gt; the matrix and vector and\n",
    "applying a :pyDirichletBC &lt;dolfin.fem.bcs.DirichletBC&gt; separately\n",
    "will possibly result in a non-symmetric system of equations. Instead, we\n",
    "can use the :pyassemble\\_system\n",
    "&lt;dolfin.fem.assembling.assemble\\_system&gt; function to assemble both\n",
    "the matrix `A`, the vector `bb`, and apply the boundary conditions `bcs`\n",
    "in a symmetric fashion:"
   ]
  },
  {
   "cell_type": "code",
   "execution_count": null,
   "metadata": {
    "attributes": {
     "classes": [
      "sourceCode"
     ],
     "id": ""
    }
   },
   "outputs": [],
   "source": [
    "# Assemble system\n",
    "A, bb = assemble_system(a, L, bcs)"
   ]
  },
  {
   "cell_type": "markdown",
   "metadata": {},
   "source": [
    "We do the same for the preconditioner matrix `P` using the linear form\n",
    "`L` as a dummy form:"
   ]
  },
  {
   "cell_type": "code",
   "execution_count": null,
   "metadata": {
    "attributes": {
     "classes": [
      "sourceCode"
     ],
     "id": ""
    }
   },
   "outputs": [],
   "source": [
    "# Assemble preconditioner system\n",
    "P, btmp = assemble_system(b, L, bcs)"
   ]
  },
  {
   "cell_type": "markdown",
   "metadata": {},
   "source": [
    "Next, we specify the iterative solver we want to use, in this case a\n",
    ":pyKrylovSolver &lt;dolfin.cpp.KrylovSolver&gt;. We associate the\n",
    "left-hand side matrix `A` and the preconditioner matrix `P` with the\n",
    "solver by calling :pysolver.set\\_operators\n",
    "&lt;dolfin.cpp.GenericLinearSolver.set\\_operators&gt;."
   ]
  },
  {
   "cell_type": "code",
   "execution_count": null,
   "metadata": {
    "attributes": {
     "classes": [
      "sourceCode"
     ],
     "id": ""
    }
   },
   "outputs": [],
   "source": [
    "# Create Krylov solver and AMG preconditioner\n",
    "solver = KrylovSolver(krylov_method, \"amg\")\n",
    "\n",
    "# Associate operator (A) and preconditioner matrix (P)\n",
    "solver.set_operators(A, P)"
   ]
  },
  {
   "cell_type": "markdown",
   "metadata": {},
   "source": [
    "We are now almost ready to solve the linear system of equations. It\n",
    "remains to specify a :pyVector &lt;dolfin.cpp.Vector&gt; for storing the\n",
    "result. For easy manipulation later, we can define a\n",
    ":pyFunction &lt;dolfin.functions.function.Function&gt; and use the\n",
    "vector associated with this Function. The call to\n",
    ":pysolver.solve &lt;dolfin.cpp.KrylovSolver.solve&gt; then looks as\n",
    "follows"
   ]
  },
  {
   "cell_type": "code",
   "execution_count": null,
   "metadata": {
    "attributes": {
     "classes": [
      "sourceCode"
     ],
     "id": ""
    }
   },
   "outputs": [],
   "source": [
    "# Solve\n",
    "U = Function(W)\n",
    "solver.solve(U.vector(), bb)"
   ]
  },
  {
   "cell_type": "markdown",
   "metadata": {},
   "source": [
    "Finally, we can play with the result in different ways:"
   ]
  },
  {
   "cell_type": "code",
   "execution_count": null,
   "metadata": {
    "attributes": {
     "classes": [
      "sourceCode"
     ],
     "id": ""
    }
   },
   "outputs": [],
   "source": [
    "# Get sub-functions\n",
    "u, p = U.split()\n",
    "\n",
    "# Save solution in VTK format\n",
    "ufile_pvd = File(\"velocity.pvd\")\n",
    "ufile_pvd << u\n",
    "pfile_pvd = File(\"pressure.pvd\")\n",
    "pfile_pvd << p\n",
    "\n",
    "# Plot solution\n",
    "plot(u)\n",
    "plot(p)\n",
    "interactive()"
   ]
  },
  {
   "cell_type": "markdown",
   "metadata": {},
   "source": [
    "## Complete code"
   ]
  }
 ],
 "metadata": {},
 "nbformat": 4,
 "nbformat_minor": 0
}
