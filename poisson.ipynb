{
 "cells": [
  {
   "cell_type": "markdown",
   "metadata": {},
   "source": [
    "# Poisson equation\n",
    "\n",
    "This demo is implemented in a single Python file, demo\\_poisson.py,\n",
    "which contains both the variational forms and the solver.\n",
    "\n",
    "## Implementation\n",
    "\n",
    "This description goes through the implementation (in demo\\_poisson.py)\n",
    "of a solver for the above described Poisson equation step-by-step.\n",
    "\n",
    "First, the :pydolfin module is imported:"
   ]
  },
  {
   "cell_type": "code",
   "execution_count": null,
   "metadata": {
    "attributes": {
     "classes": [
      "sourceCode"
     ],
     "id": ""
    }
   },
   "outputs": [],
   "source": [
    "from dolfin import *"
   ]
  },
  {
   "cell_type": "markdown",
   "metadata": {},
   "source": [
    "We begin by defining a mesh of the domain and a finite element function\n",
    "space $V$ relative to this mesh. As the unit square is a very standard\n",
    "domain, we can use a built-in mesh provided by the class\n",
    ":pyUnitSquareMesh &lt;dolfin.cpp.UnitSquareMesh&gt;. In order to create\n",
    "a mesh consisting of 32 x 32 squares with each square divided into two\n",
    "triangles, we do as follows"
   ]
  },
  {
   "cell_type": "code",
   "execution_count": null,
   "metadata": {
    "attributes": {
     "classes": [
      "sourceCode"
     ],
     "id": ""
    }
   },
   "outputs": [],
   "source": [
    "# Create mesh and define function space\n",
    "mesh = UnitSquareMesh(32, 32)\n",
    "V = FunctionSpace(mesh, \"Lagrange\", 1)"
   ]
  },
  {
   "cell_type": "markdown",
   "metadata": {},
   "source": [
    "The second argument to :pyFunctionSpace\n",
    "&lt;dolfin.functions.functionspace.FunctionSpace&gt; is the finite\n",
    "element family, while the third argument specifies the polynomial\n",
    "degree. Thus, in this case, our space `V` consists of first-order,\n",
    "continuous Lagrange finite element functions (or in order words,\n",
    "continuous piecewise linear polynomials).\n",
    "\n",
    "Next, we want to consider the Dirichlet boundary condition. A simple\n",
    "Python function, returning a boolean, can be used to define the\n",
    "subdomain for the Dirichlet boundary condition ($\\Gamma_D$). The\n",
    "function should return `True` for those points inside the subdomain and\n",
    "`False` for the points outside. In our case, we want to say that the\n",
    "points $(x, y)$ such that $x = 0$ or $x = 1$ are inside on the inside of\n",
    "$\\Gamma_D$. (Note that because of rounding-off errors, it is often wise\n",
    "to instead specify $x <\n",
    "\\epsilon$ or $x > 1 - \\epsilon$ where $\\epsilon$ is a small number (such\n",
    "as machine precision).)"
   ]
  },
  {
   "cell_type": "code",
   "execution_count": null,
   "metadata": {
    "attributes": {
     "classes": [
      "sourceCode"
     ],
     "id": ""
    }
   },
   "outputs": [],
   "source": [
    "# Define Dirichlet boundary (x = 0 or x = 1)\n",
    "def boundary(x):\n",
    "    return x[0] < DOLFIN_EPS or x[0] > 1.0 - DOLFIN_EPS"
   ]
  },
  {
   "cell_type": "markdown",
   "metadata": {},
   "source": [
    "Now, the Dirichlet boundary condition can be created using the class\n",
    ":pyDirichletBC &lt;dolfin.fem.bcs.DirichletBC&gt;. A\n",
    ":pyDirichletBC &lt;dolfin.fem.bcs.DirichletBC&gt; takes three arguments:\n",
    "the function space the boundary condition applies to, the value of the\n",
    "boundary condition, and the part of the boundary on which the condition\n",
    "applies. In our example, the function space is `V`, the value of the\n",
    "boundary condition (0.0) can represented using a\n",
    ":pyConstant &lt;dolfin.functions.constant.Constant&gt; and the Dirichlet\n",
    "boundary is defined immediately above. The definition of the Dirichlet\n",
    "boundary condition then looks as follows:"
   ]
  },
  {
   "cell_type": "code",
   "execution_count": null,
   "metadata": {
    "attributes": {
     "classes": [
      "sourceCode"
     ],
     "id": ""
    }
   },
   "outputs": [],
   "source": [
    "# Define boundary condition\n",
    "u0 = Constant(0.0)\n",
    "bc = DirichletBC(V, u0, boundary)"
   ]
  },
  {
   "cell_type": "markdown",
   "metadata": {},
   "source": [
    "Next, we want to express the variational problem. First, we need to\n",
    "specify the trial function $u$ and the test function $v$, both living in\n",
    "the function space $V$. We do this by defining a\n",
    ":pyTrialFunction &lt;dolfin.functions.function.TrialFunction&gt; and a\n",
    ":pyTestFunction\n",
    "&lt;dolfin.functions.function.TrialFunction&gt; on the previously\n",
    "defined :pyFunctionSpace\n",
    "&lt;dolfin.functions.functionspace.FunctionSpace&gt; `V`.\n",
    "\n",
    "Further, the source $f$ and the boundary normal derivative $g$ are\n",
    "involved in the variational forms, and hence we must specify these. Both\n",
    "$f$ and $g$ are given by simple mathematical formulas, and can be easily\n",
    "declared using the\n",
    ":pyExpression &lt;dolfin.functions.expression.Expression&gt; class. Note\n",
    "that the strings defining `f` and `g` use C++ syntax since, for\n",
    "efficiency, DOLFIN will generate and compile C++ code for these\n",
    "expressions at run-time.\n",
    "\n",
    "With these ingredients, we can write down the bilinear form `a` and the\n",
    "linear form `L` (using UFL operators). In summary, this reads"
   ]
  },
  {
   "cell_type": "code",
   "execution_count": null,
   "metadata": {
    "attributes": {
     "classes": [
      "sourceCode"
     ],
     "id": ""
    }
   },
   "outputs": [],
   "source": [
    "# Define variational problem\n",
    "u = TrialFunction(V)\n",
    "v = TestFunction(V)\n",
    "f = Expression(\"10*exp(-(pow(x[0] - 0.5, 2) + pow(x[1] - 0.5, 2)) / 0.02)\")\n",
    "g = Expression(\"sin(5*x[0])\")\n",
    "a = inner(grad(u), grad(v))*dx\n",
    "L = f*v*dx + g*v*ds"
   ]
  },
  {
   "cell_type": "markdown",
   "metadata": {},
   "source": [
    "Now, we have specified the variational forms and can consider the\n",
    "solution of the variational problem. First, we need to define a\n",
    ":pyFunction &lt;dolfin.functions.function.Function&gt; `u` to represent\n",
    "the solution. (Upon initialization, it is simply set to the zero\n",
    "function.) A :pyFunction\n",
    "&lt;dolfin.functions.function.Function&gt; represents a function living\n",
    "in a finite element function space. Next, we can call the :pysolve\n",
    "&lt;dolfin.fem.solving.solve&gt; function with the arguments `a == L`,\n",
    "`u` and `bc` as follows:"
   ]
  },
  {
   "cell_type": "code",
   "execution_count": null,
   "metadata": {
    "attributes": {
     "classes": [
      "sourceCode"
     ],
     "id": ""
    }
   },
   "outputs": [],
   "source": [
    "# Compute solution\n",
    "u = Function(V)\n",
    "solve(a == L, u, bc)"
   ]
  },
  {
   "cell_type": "markdown",
   "metadata": {},
   "source": [
    "The function `u` will be modified during the call to solve. The default\n",
    "settings for solving a variational problem have been used. However, the\n",
    "solution process can be controlled in much more detail if desired.\n",
    "\n",
    "A :pyFunction &lt;dolfin.functions.function.Function&gt; can be\n",
    "manipulated in various ways, in particular, it can be plotted and saved\n",
    "to file. Here, we output the solution to a `VTK` file (using the suffix\n",
    "`.pvd`) for later visualization and also plot it using the\n",
    ":pyplot &lt;dolfin.common.plot.plot&gt; command:"
   ]
  },
  {
   "cell_type": "code",
   "execution_count": null,
   "metadata": {
    "attributes": {
     "classes": [
      "sourceCode"
     ],
     "id": ""
    }
   },
   "outputs": [],
   "source": [
    "# Save solution in VTK format\n",
    "file = File(\"poisson.pvd\")\n",
    "file << u\n",
    "\n",
    "# Plot solution\n",
    "plot(u, interactive=True)"
   ]
  },
  {
   "cell_type": "markdown",
   "metadata": {},
   "source": [
    "## Complete code"
   ]
  }
 ],
 "metadata": {
  "kernelspec": {
   "display_name": "Python 2 (fenics)",
   "language": "python",
   "name": "python3"
  }
 },
 "nbformat": 4,
 "nbformat_minor": 0
}
