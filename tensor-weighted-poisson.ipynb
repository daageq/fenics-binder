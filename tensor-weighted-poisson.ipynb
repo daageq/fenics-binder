{
 "cells": [
  {
   "cell_type": "markdown",
   "metadata": {},
   "source": [
    "# Tensor-weighted Poisson\n",
    "\n",
    "This demo is implemented in two files; one file, generate\\_data.py , for\n",
    "generating data, and one file, demo\\_tensor-weighted-poisson.py , which\n",
    "contains both the vaiational form and the solver.\n",
    "\n",
    "## Implementation\n",
    "\n",
    "### Implementation of generate\\_data.py\n",
    "\n",
    "First, the :pydolfin module is imported:"
   ]
  },
  {
   "cell_type": "code",
   "execution_count": null,
   "metadata": {
    "attributes": {
     "classes": [
      "sourceCode"
     ],
     "id": ""
    }
   },
   "outputs": [],
   "source": [
    "from dolfin import *"
   ]
  },
  {
   "cell_type": "markdown",
   "metadata": {},
   "source": [
    "Then, we define a mesh of the domain. We use the built-in mesh, provided\n",
    "by the class :pyUnitSquareMesh\n",
    "&lt;dolfin.cpp.mesh.UnitSquareMesh&gt;. In order to create a mesh\n",
    "consisting of $32 \\times 32$ squares with each square divided into two\n",
    "triangles, we do as follows:"
   ]
  },
  {
   "cell_type": "code",
   "execution_count": null,
   "metadata": {
    "attributes": {
     "classes": [
      "sourceCode"
     ],
     "id": ""
    }
   },
   "outputs": [],
   "source": [
    "# Create mesh\n",
    "mesh = UnitSquareMesh(32, 32)"
   ]
  },
  {
   "cell_type": "markdown",
   "metadata": {},
   "source": [
    "Now, we create mesh functions to store the values of the conductivity\n",
    "matrix as it varies over the domain. Since the matrix is symmetric, we\n",
    "only create mesh functions for the upper triangular part of the matrix.\n",
    "In :pyMeshFunction &lt;dolfin.cpp.mesh.MeshFunction&gt; the first\n",
    "argument specifies the type of the mesh function, here we use \"double\".\n",
    "Other types allowed are \"int\", \"size\\_t\" and \"bool\". The two following\n",
    "arguments are optional; the first gives the mesh the\n",
    ":pyMeshFunction &lt;dolfin.cpp.mesh.MeshFunction&gt; is defined on, and\n",
    "the second the topological dimension of the mesh function."
   ]
  },
  {
   "cell_type": "code",
   "execution_count": null,
   "metadata": {
    "attributes": {
     "classes": [
      "sourceCode"
     ],
     "id": ""
    }
   },
   "outputs": [],
   "source": [
    "# Create mesh functions for c00, c01, c11\n",
    "c00 = MeshFunction(\"double\", mesh, 2)\n",
    "c01 = MeshFunction(\"double\", mesh, 2)\n",
    "c11 = MeshFunction(\"double\", mesh, 2)"
   ]
  },
  {
   "cell_type": "markdown",
   "metadata": {},
   "source": [
    "To set the values of the mesh functions, we go through all the cells in\n",
    "the mesh and check whether the midpoint value of the cell in the\n",
    "$x$-direction is less than 0.5 or not (in practice this means that we\n",
    "are checking which half of the unit square the cell is in). Then we set\n",
    "the correct values of the mesh functions, depending on which half we are\n",
    "in."
   ]
  },
  {
   "cell_type": "code",
   "execution_count": null,
   "metadata": {
    "attributes": {
     "classes": [
      "sourceCode"
     ],
     "id": ""
    }
   },
   "outputs": [],
   "source": [
    "# Iterate over mesh and set values\n",
    "for cell in cells(mesh):\n",
    "    if cell.midpoint().x() < 0.5:\n",
    "        c00[cell] = 1.0\n",
    "        c01[cell] = 0.3\n",
    "        c11[cell] = 2.0\n",
    "    else:\n",
    "        c00[cell] = 3.0\n",
    "        c01[cell] = 0.5\n",
    "        c11[cell] = 4.0"
   ]
  },
  {
   "cell_type": "markdown",
   "metadata": {},
   "source": [
    "Create files to store data and save to file:"
   ]
  },
  {
   "cell_type": "code",
   "execution_count": null,
   "metadata": {
    "attributes": {
     "classes": [
      "sourceCode"
     ],
     "id": ""
    }
   },
   "outputs": [],
   "source": [
    "# Store to file\n",
    "mesh_file = File(\"../unitsquare_32_32.xml.gz\")\n",
    "c00_file = File(\"../unitsquare_32_32_c00.xml.gz\")\n",
    "c01_file = File(\"../unitsquare_32_32_c01.xml.gz\")\n",
    "c11_file = File(\"../unitsquare_32_32_c11.xml.gz\")\n",
    "\n",
    "mesh_file << mesh\n",
    "c00_file << c00\n",
    "c01_file << c01\n",
    "c11_file << c11"
   ]
  },
  {
   "cell_type": "markdown",
   "metadata": {},
   "source": [
    "Plot the mesh functions using the `plot` function:"
   ]
  },
  {
   "cell_type": "code",
   "execution_count": null,
   "metadata": {
    "attributes": {
     "classes": [
      "sourceCode"
     ],
     "id": ""
    }
   },
   "outputs": [],
   "source": [
    "# Plot mesh functions\n",
    "plot(c00, title=\"C00\")\n",
    "plot(c01, title=\"C01\")\n",
    "plot(c11, title=\"C11\")\n",
    "\n",
    "interactive()"
   ]
  },
  {
   "cell_type": "markdown",
   "metadata": {},
   "source": [
    "### Implementation of tensor-weighted-poisson.py\n",
    "\n",
    "This description goes through the implementation (in\n",
    "demo\\_tensor-weighted-poisson.py ) of a solver for the above described\n",
    "Poisson equation step-by-step.\n",
    "\n",
    "First, the :pydolfin module is imported:"
   ]
  },
  {
   "cell_type": "code",
   "execution_count": null,
   "metadata": {
    "attributes": {
     "classes": [
      "sourceCode"
     ],
     "id": ""
    }
   },
   "outputs": [],
   "source": [
    "from dolfin import *"
   ]
  },
  {
   "cell_type": "markdown",
   "metadata": {},
   "source": [
    "We proceed by defining a mesh of the domain and a finite element\n",
    "function space $V$ relative to this mesh. We read the mesh file\n",
    "generated by generate\\_data.py and create the function space in the\n",
    "following way:"
   ]
  },
  {
   "cell_type": "code",
   "execution_count": null,
   "metadata": {
    "attributes": {
     "classes": [
      "sourceCode"
     ],
     "id": ""
    }
   },
   "outputs": [],
   "source": [
    "# Read mesh from file and create function space\n",
    "mesh = Mesh(\"../unitsquare_32_32.xml.gz\")\n",
    "V = FunctionSpace(mesh, \"Lagrange\", 1)"
   ]
  },
  {
   "cell_type": "markdown",
   "metadata": {},
   "source": [
    "The second argument to :pyFunctionSpace\n",
    "&lt;dolfin.cpp.function.FunctionSpace&gt; is the finite element family,\n",
    "while the third argument specifies the polynomial degree. Thus, in this\n",
    "case, our space `V` consists of first-order, continuous Lagrange finite\n",
    "element functions (or in order words, continuous piecewise linear\n",
    "polynomials).\n",
    "\n",
    "Next, we want to consider the Dirichlet boundary condition. A simple\n",
    "Python function, returning a boolean, can be used to define the\n",
    "subdomain for the Dirichlet boundary condition ($\\Gamma_D$). The\n",
    "function should return True for those points inside the subdomain and\n",
    "False for the points outside. In our case, we want to say that the\n",
    "points $(x, y)$ such that $x = 0$ or $x = 1$ are inside on the inside of\n",
    "$\\Gamma_D$. (Note that because of rounding-off errors, it is often wise\n",
    "to instead specify $x <\n",
    "\\epsilon$ or $x > 1 - \\epsilon$ where $\\epsilon$ is a small number (such\n",
    "as machine precision).)"
   ]
  },
  {
   "cell_type": "code",
   "execution_count": null,
   "metadata": {
    "attributes": {
     "classes": [
      "sourceCode"
     ],
     "id": ""
    }
   },
   "outputs": [],
   "source": [
    "# Define Dirichlet boundary (x = 0 or x = 1)\n",
    "def boundary(x):\n",
    "    return x[0] < DOLFIN_EPS or x[0] > 1.0 - DOLFIN_EPS"
   ]
  },
  {
   "cell_type": "markdown",
   "metadata": {},
   "source": [
    "Now, the Dirichlet boundary condition can be created using the class\n",
    ":pyDirichletBC &lt;dolfin.cpp.fem.DirichletBC&gt;. A\n",
    ":pyDirichletBC &lt;dolfin.cpp.fem.DirichletBC&gt; takes three arguments:\n",
    "the function space the boundary condition applies to, the value of the\n",
    "boundary condition, and the part of the boundary on which the condition\n",
    "applies. In our example, the function space is $V$. The value of the\n",
    "boundary condition $(0.0)$ can be represented using a :pyConstant\n",
    "&lt;dolfin.functions.constant.Constant&gt; and the Dirichlet boundary is\n",
    "defined immediately above. The definition of the Dirichlet boundary\n",
    "condition then looks as follows:"
   ]
  },
  {
   "cell_type": "code",
   "execution_count": null,
   "metadata": {
    "attributes": {
     "classes": [
      "sourceCode"
     ],
     "id": ""
    }
   },
   "outputs": [],
   "source": [
    "# Define boundary condition\n",
    "u0 = Constant(0.0)\n",
    "bc = DirichletBC(V, u0, boundary)"
   ]
  },
  {
   "cell_type": "markdown",
   "metadata": {},
   "source": [
    "Before we define the conductivity matrix, we create a string containing\n",
    "C++ code for evaluation of the conductivity. Later we will use this\n",
    "string when we create an :pyExpression\n",
    "&lt;dolfin.cpp.function.Expression&gt; containing the entries of the\n",
    "matrix."
   ]
  },
  {
   "cell_type": "code",
   "execution_count": null,
   "metadata": {
    "attributes": {
     "classes": [
      "sourceCode"
     ],
     "id": ""
    }
   },
   "outputs": [],
   "source": [
    "# Code for C++ evaluation of conductivity\n",
    "conductivity_code = \"\"\"\n",
    "\n",
    "class Conductivity : public Expression\n",
    "{\n",
    "public:\n",
    "\n",
    "  // Create expression with 3 components\n",
    "  Conductivity() : Expression(3) {}\n",
    "\n",
    "  // Function for evaluating expression on each cell\n",
    "  void eval(Array<double>& values, const Array<double>& x, const ufc::cell& cell) const\n",
    "  {\n",
    "    const uint D = cell.topological_dimension;\n",
    "    const uint cell_index = cell.index;\n",
    "    values[0] = (*c00)[cell_index];\n",
    "    values[1] = (*c01)[cell_index];\n",
    "    values[2] = (*c11)[cell_index];\n",
    "  }\n",
    "\n",
    "  // The data stored in mesh functions\n",
    "  std::shared_ptr<MeshFunction<double> > c00;\n",
    "  std::shared_ptr<MeshFunction<double> > c01;\n",
    "  std::shared_ptr<MeshFunction<double> > c11;\n",
    "\n",
    "};\n",
    "\"\"\""
   ]
  },
  {
   "cell_type": "markdown",
   "metadata": {},
   "source": [
    "We define the conductivity matrix by first creating mesh functions from\n",
    "the files we stored in generate\\_data.py. Here, the third argument in\n",
    ":pyMeshFunction\n",
    "&lt;dolfin.cpp.mesh.MeshFunction&gt; is the path to the data files.\n",
    "Then, we define an expression for the entries in the matrix where we\n",
    "give the C++ code as an argument for optimalization. Finally, we use the\n",
    "UFL function `as_matrix` to create the matrix consisting of the\n",
    "expressions."
   ]
  },
  {
   "cell_type": "code",
   "execution_count": null,
   "metadata": {
    "attributes": {
     "classes": [
      "sourceCode"
     ],
     "id": ""
    }
   },
   "outputs": [],
   "source": [
    "# Define conductivity expression and matrix\n",
    "c00 = MeshFunction(\"double\", mesh, \"../unitsquare_32_32_c00.xml.gz\")\n",
    "c01 = MeshFunction(\"double\", mesh, \"../unitsquare_32_32_c01.xml.gz\")\n",
    "c11 = MeshFunction(\"double\", mesh, \"../unitsquare_32_32_c11.xml.gz\")\n",
    "\n",
    "c = Expression(cppcode=conductivity_code)\n",
    "c.c00 = c00\n",
    "c.c01 = c01\n",
    "c.c11 = c11\n",
    "C = as_matrix(((c[0], c[1]), (c[1], c[2])))"
   ]
  },
  {
   "cell_type": "markdown",
   "metadata": {},
   "source": [
    "Next, we want to express the variational problem. First, we need to\n",
    "specify the trial function $u$ and the test function $v$, both living in\n",
    "the function space $V$. We do this by defining a\n",
    ":pyTrialFunction &lt;dolfin.functions.function.TrialFunction&gt; and a\n",
    ":pyTestFunction &lt;dolfin.functions.function.TestFunction&gt; on the\n",
    "previously defined :pyFunctionSpace\n",
    "&lt;dolfin.cpp.function.FunctionSpace&gt; $V$.\n",
    "\n",
    "Further, the source $f$ is involved in the variational form, and hence\n",
    "it must be must specified. Since $f$ is given by a simple mathematical\n",
    "formula, it can easily be declared using the\n",
    ":pyExpression &lt;dolfin.cpp.function.Expression&gt; class. Note that\n",
    "the string defining $f$ uses C++ syntax since, for efficiency, DOLFIN\n",
    "will generate and compile C++ code for these expressions at run-time.\n",
    "\n",
    "With these ingredients, we can write down the bilinear form $a$ and the\n",
    "linear form $L$ (using UFL operators). In summary, this reads:"
   ]
  },
  {
   "cell_type": "code",
   "execution_count": null,
   "metadata": {
    "attributes": {
     "classes": [
      "sourceCode"
     ],
     "id": ""
    }
   },
   "outputs": [],
   "source": [
    "# Define variational problem\n",
    "u = TrialFunction(V)\n",
    "v = TestFunction(V)\n",
    "f = Expression(\"10*exp(-(pow(x[0] - 0.5, 2) + pow(x[1] - 0.5, 2)) / 0.02)\")\n",
    "a = inner(C*grad(u), grad(v))*dx\n",
    "L = f*v*dx"
   ]
  },
  {
   "cell_type": "markdown",
   "metadata": {},
   "source": [
    "Now, we have specified the bilinear and linear forms and can consider\n",
    "the solution of the variational problem. First, we need to define a\n",
    ":pyFunction &lt;dolfin.cpp.function.Function&gt; `u` to represent the\n",
    "solution. (Upon initialization, it is simply set to the zero function.)\n",
    "A :pyFunction &lt;dolfin.cpp.function.Function&gt; represents a function\n",
    "living in a finite element function space. Next, we can call the\n",
    ":pysolve\n",
    "&lt;dolfin.cpp.fem.GenericAdaptiveVariationalSolver.solve&gt; function\n",
    "with the arguments `a == L`, `u` and `bc` as follows:"
   ]
  },
  {
   "cell_type": "code",
   "execution_count": null,
   "metadata": {
    "attributes": {
     "classes": [
      "sourceCode"
     ],
     "id": ""
    }
   },
   "outputs": [],
   "source": [
    "# Compute solution\n",
    "u = Function(V)\n",
    "solve(a == L, u, bc)"
   ]
  },
  {
   "cell_type": "markdown",
   "metadata": {},
   "source": [
    "The function `u` will be modified during the call to solve. The default\n",
    "settings for solving a variational problem have been used. However, the\n",
    "solution process can be controlled in much more detail if desired.\n",
    "\n",
    "A :pyFunction &lt;dolfin.cpp.function.Function&gt; can be manipulated in\n",
    "various ways, in particular, it can be plotted and saved to file. Here,\n",
    "we output the solution to a VTK file (using the suffix .pvd) for later\n",
    "visualization and also plot it using the\n",
    ":pyplot &lt;dolfin.cpp.io.VTKPlotter.plot&gt; command:"
   ]
  },
  {
   "cell_type": "code",
   "execution_count": null,
   "metadata": {
    "attributes": {
     "classes": [
      "sourceCode"
     ],
     "id": ""
    }
   },
   "outputs": [],
   "source": [
    "# Save solution in VTK format\n",
    "file = File(\"poisson.pvd\")\n",
    "file << u\n",
    "\n",
    "# Plot solution\n",
    "plot(u, interactive=True)"
   ]
  },
  {
   "cell_type": "markdown",
   "metadata": {},
   "source": [
    "## Complete code\n",
    "\n",
    "demo\\_tensor-weighted-poisson.py:\n",
    "\n",
    "generate\\_data.py:"
   ]
  }
 ],
 "metadata": {},
 "nbformat": 4,
 "nbformat_minor": 0
}
