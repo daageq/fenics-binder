{
 "cells": [
  {
   "cell_type": "markdown",
   "metadata": {},
   "source": [
    "Stable and unstable finite elements for the Maxwell eigenvalue problem\n",
    "======================================================================\n",
    "\n",
    "The Maxwell eigenvalue problem seeks eigenvalues $\\lambda$ and the\n",
    "corresponding nonzero vector-valued eigenfunctions $u$ satisfying the\n",
    "partial differential equation\n",
    "\n",
    "$$\\operatorname{curl}\\operatorname{curl} u = \\lambda u \\text{ in $\\Omega$}$$\n",
    "\n",
    "(we have simplified slightly by setting the material parameters equal to\n",
    "1). The PDE is to be supplemented with boundary conditions, which we\n",
    "take here to be the essential boundary condition\n",
    "\n",
    "$$u \\times n = 0 \\text{ on $\\partial\\Omega$}.$$\n",
    "\n",
    "The eigenvalues $\\lambda$ are all real and non-negative, but only the\n",
    "positive ones are of interest, since, if $\\lambda >0$, then it follows\n",
    "from the PDE that $\\operatorname{div} u = 0$, which is also a\n",
    "requirement of Maxwell's equations. There exist, in addition, an\n",
    "infinite-dimensional family of eigenfunctions with eigenvalue\n",
    "$\\lambda=0$, since for any smooth function $\\phi$ vanishing to second\n",
    "order on the boundary, $u=\\operatorname{grad}\\phi$ is such an\n",
    "eigenfunction. But these functions are not divergence-free and should\n",
    "not be considered Maxwell eigenfunctions.\n",
    "\n",
    "Model problem\n",
    "-------------\n",
    "\n",
    "In this demo we shall consider the Maxwell eigenvalue problem in two\n",
    "dimensions with the domain $\\Omega$ taken to be the square\n",
    "$(0,\\pi)\\times(0,\\pi)$, since in that case the exact eigenpairs have a\n",
    "simple analytic expression. They are\n",
    "\n",
    "$$u(x,y) = (\\sin m x, \\sin n y), \\quad \\lambda = m^2 + n^2,$$\n",
    "\n",
    "for any non-negative integers $m$ and $n,$ not both zero. Thus the\n",
    "eigenvalues are\n",
    "\n",
    "$$\\lambda = 1, 1, 2, 4, 4, 5, 5, 8, 9, 9, 10, 10, 13, 13, \\dots$$\n",
    "\n",
    "In the demo program we compute the 12 eigenvalues nearest 5.5, and so\n",
    "should obtain the first 12 numbers on this list, ranging from 1 to 10.\n",
    "\n",
    "The weak formulation and the finite element method\n",
    "--------------------------------------------------\n",
    "\n",
    "A weak formulation of the eigenvalue problem seeks $0\\ne u\\in\n",
    "H_0(\\operatorname{curl})$ and $\\lambda>0$ such that\n",
    "\n",
    "$$\\int_{\\Omega} \\operatorname{curl} u\\, \\operatorname{curl}v\\, {\\rm d} x\n",
    "= \\lambda \\int_{\\Omega} u v\\, {\\rm d} x \\quad \\forall \\ v\\in H_0(\\operatorname{curl}),$$\n",
    "\n",
    "where $H_0(\\operatorname{curl})$ is the space of square-integrable\n",
    "vector fields with square-integrable curl and satisfying the essential\n",
    "boundary condition. If we replace $H_0(\\operatorname{curl})$ in this\n",
    "formulation by a finite element subspace, we obtain a finite element\n",
    "method.\n",
    "\n",
    "Stable and unstable finite elements\n",
    "-----------------------------------\n",
    "\n",
    "We consider here two possible choices of finite element spaces. The\n",
    "first, the Nédélec edge elements, which are obtained in FEniCS as\n",
    "`FunctionSpace(mesh, 'H1curl', 1)`, are well suited to this problem and\n",
    "give an accurate discretization. The second choice is simply the\n",
    "vector-valued Lagrange piecewise linears:\n",
    "`VectorFunctionSpace(mesh, 'Lagrange', 1)`. To the uninitiated it\n",
    "usually comes as a surprise that the Lagrange elements do not provide an\n",
    "accurate discretization of the Maxwell eigenvalue problem: the computed\n",
    "eigenvalues do not converge to the true ones as the mesh is refined!\n",
    "This is a subtle matter connected to the stability theory of mixed\n",
    "finite element methods. See [this\n",
    "paper](http://umn.edu/~arnold/papers/icm2002.pdf) for details.\n",
    "\n",
    "While the Nédélec elements behave stably for any mesh, the failure of\n",
    "the Lagrange elements differs on different sorts of meshes. Here we\n",
    "compute with two structured meshes, the first obtained from a\n",
    "$40\\times 40$ grid of squares by dividing each with its\n",
    "positively-sloped diagonal, and the second the crossed mesh obtained by\n",
    "dividing each subsquare into four using both diagonals. The output from\n",
    "the first case is:"
   ]
  },
  {
   "cell_type": "code",
   "execution_count": null,
   "metadata": {
    "attributes": {
     "classes": [
      "sourceCode",
      "none"
     ],
     "id": ""
    }
   },
   "outputs": [],
   "source": [
    "diagonal mesh\n",
    "Nédélec:   [ 1.00  1.00  2.00  4.00  4.00  5.00  5.00  8.01  8.98  8.99  9.99  9.99]\n",
    "Lagrange:  [ 5.16  5.26  5.26  5.30  5.39  5.45  5.53  5.61  5.61  5.62  5.71  5.73]\n",
    "Exact:     [ 1.00  1.00  2.00  4.00  4.00  5.00  5.00  8.00  9.00  9.00 10.00 10.00]"
   ]
  },
  {
   "cell_type": "markdown",
   "metadata": {},
   "source": [
    "Note that the eigenvalues calculated using the Nédélec elements are all\n",
    "correct to within a fraction of a percent. But the 12 eigenvalues\n",
    "computed by the Lagrange elements are certainly all *wrong*, since they\n",
    "are far from being integers!\n",
    "\n",
    "On the crossed mesh, we obtain a different mode of failure:"
   ]
  },
  {
   "cell_type": "code",
   "execution_count": null,
   "metadata": {
    "attributes": {
     "classes": [
      "sourceCode",
      "none"
     ],
     "id": ""
    }
   },
   "outputs": [],
   "source": [
    "crossed mesh\n",
    "Nédélec:   [ 1.00  1.00  2.00  4.00  4.00  5.00  5.00  7.99  9.00  9.00 10.00 10.00]\n",
    "Lagrange:  [ 1.00  1.00  2.00  4.00  4.00  5.00  5.00  6.00  8.01  9.01  9.01 10.02]\n",
    "Exact:     [ 1.00  1.00  2.00  4.00  4.00  5.00  5.00  8.00  9.00  9.00 10.00 10.00]"
   ]
  },
  {
   "cell_type": "markdown",
   "metadata": {},
   "source": [
    "Again the Nédélec elements are accurate. The Lagrange elements also\n",
    "approximate most of the eigenvalues well, but they return a *totally\n",
    "spurious* value of 6.00 as well. If we were to compute more eigenvalues,\n",
    "more spurious ones would be returned. This mode of failure might be\n",
    "considered more dangerous, since it is harder to spot.\n",
    "\n",
    "The implementation\n",
    "------------------\n",
    "\n",
    "**Preamble.** First we import `dolfin` and `numpy` and make sure that\n",
    "dolfin has been configured with PETSc and SLEPc (since we depend on the\n",
    "SLEPc eigenvalue solver). :"
   ]
  },
  {
   "cell_type": "code",
   "execution_count": null,
   "metadata": {},
   "outputs": [],
   "source": [
    "from dolfin import *"
   ]
  },
  {
   "cell_type": "markdown",
   "metadata": {},
   "source": [
    "Specifying matplotlib as backend:"
   ]
  },
  {
   "cell_type": "code",
   "execution_count": null,
   "metadata": {},
   "outputs": [],
   "source": [
    "%matplotlib inline\n",
    "import matplotlib.pyplot as plt\n",
    "parameters[\"plotting_backend\"]=\"matplotlib\"  import numpy as np\n",
    "if not has_linear_algebra_backend(\"PETSc\"):\n",
    "    print(\"DOLFIN has not been configured with PETSc. Exiting.\")\n",
    "    exit()\n",
    "if not has_slepc():\n",
    "    print(\"DOLFIN has not been configured with SLEPc. Exiting.\")\n",
    "    exit()"
   ]
  },
  {
   "cell_type": "markdown",
   "metadata": {},
   "source": [
    "**Function eigenvalues.** The function `eigenvalues` takes the finite\n",
    "element space `V` and the essential boundary conditions `bcs` for it,\n",
    "and returns a requested set of Maxwell eigenvalues (specified in the\n",
    "code below) as a sorted numpy array:"
   ]
  },
  {
   "cell_type": "code",
   "execution_count": null,
   "metadata": {},
   "outputs": [],
   "source": [
    "def eigenvalues(V, bcs):"
   ]
  },
  {
   "cell_type": "markdown",
   "metadata": {},
   "source": [
    "We start by defining the bilinear forms on the right- and left-hand\n",
    "sides of the weak formulation:"
   ]
  },
  {
   "cell_type": "code",
   "execution_count": null,
   "metadata": {},
   "outputs": [],
   "source": [
    "#\n",
    "    # Define the bilinear forms on the right- and left-hand sides\n",
    "    u = TrialFunction(V)\n",
    "    v = TestFunction(V)\n",
    "    a = inner(curl(u), curl(v))*dx\n",
    "    b = inner(u, v)*dx"
   ]
  },
  {
   "cell_type": "markdown",
   "metadata": {},
   "source": [
    "Next we assemble the bilinear forms `a` and `b` into PETSc matrices `A`\n",
    "and `B`, so the eigenvalue problem is converted into a generalized\n",
    "matrix eigenvalue problem $Ax=\\lambda B x$. During the assembly step the\n",
    "essential boundary conditions are incorporated by modifying the rows and\n",
    "columns of the matrices corresponding to constrained boundary degrees of\n",
    "freedom. We use `assemble_system` rather than `assemble` to do the\n",
    "assembly, since it maintains the symmetry of the matrices.\n",
    "`assemble_system` is designed for source problems, rather than\n",
    "eigenvalue problems, and requires a right-hand side linear form, so we\n",
    "define a dummy form to feed it. :"
   ]
  },
  {
   "cell_type": "code",
   "execution_count": null,
   "metadata": {},
   "outputs": [],
   "source": [
    "#\n",
    "    # Assemble into PETSc matrices\n",
    "    dummy = v[0]*dx\n",
    "    A = PETScMatrix()\n",
    "    assemble_system(a, dummy, bcs, A_tensor=A)\n",
    "    B = PETScMatrix()\n",
    "    assemble_system(b, dummy, bcs, A_tensor=B)"
   ]
  },
  {
   "cell_type": "markdown",
   "metadata": {},
   "source": [
    "We zero out the rows of $B$ corresponding to constrained boundary\n",
    "degrees of freedom, so as not to introduce spurious eigenpairs with\n",
    "nonzero boundary DOFs. :"
   ]
  },
  {
   "cell_type": "code",
   "execution_count": null,
   "metadata": {},
   "outputs": [],
   "source": [
    "#\n",
    "    [bc.zero(B) for bc in bcs]"
   ]
  },
  {
   "cell_type": "markdown",
   "metadata": {},
   "source": [
    "Now we solve the generalized matrix eigenvalue problem using the SLEPc\n",
    "package. The behavior of the `SLEPcEigenSolver` is controlled by a\n",
    "parameter set (use `info(solver, True)` to see all possible parameters).\n",
    "We use parameters to set the eigensolution method to Krylov-Schur, which\n",
    "is good for computing a subset of the eigenvalues of a sparse matrix,\n",
    "and to tell SLEPc that the matrices `A` and `B` in the generalized\n",
    "eigenvalue problem are symmetric (Hermitian). :"
   ]
  },
  {
   "cell_type": "code",
   "execution_count": null,
   "metadata": {},
   "outputs": [],
   "source": [
    "#\n",
    "    solver = SLEPcEigenSolver(A, B)\n",
    "    solver.parameters[\"solver\"] = \"krylov-schur\"\n",
    "    solver.parameters[\"problem_type\"] = \"gen_hermitian\""
   ]
  },
  {
   "cell_type": "markdown",
   "metadata": {},
   "source": [
    "We specify that we want 12 eigenvalues nearest in magnitude to a target\n",
    "value of 5.5. Note that when the `spectrum` parameter is set to\n",
    "`target magnitude`, the `spectral_transform` parameter should be set to\n",
    "`shift-and-invert` and the `spectral_shift` parameter should be set\n",
    "equal to the target. :"
   ]
  },
  {
   "cell_type": "code",
   "execution_count": null,
   "metadata": {},
   "outputs": [],
   "source": [
    "#\n",
    "    solver.parameters[\"spectrum\"] = \"target magnitude\"\n",
    "    solver.parameters[\"spectral_transform\"] = \"shift-and-invert\"\n",
    "    solver.parameters[\"spectral_shift\"] = 5.5\n",
    "    neigs = 12\n",
    "    solver.solve(neigs)"
   ]
  },
  {
   "cell_type": "markdown",
   "metadata": {},
   "source": [
    "Finally we collect the computed eigenvalues in list which we convert to\n",
    "a numpy array and sort before returning. Note that we are not guaranteed\n",
    "to get the number of eigenvalues requested. The function\n",
    "`solver.get_number_converged()` reports the actual number of eigenvalues\n",
    "computed, which may be more or less than the number requested. :"
   ]
  },
  {
   "cell_type": "code",
   "execution_count": null,
   "metadata": {},
   "outputs": [],
   "source": [
    "#\n",
    "    # Return the computed eigenvalues in a sorted array\n",
    "    computed_eigenvalues = []\n",
    "    for i in range(min(neigs, solver.get_number_converged())):\n",
    "        r, _ = solver.get_eigenvalue(i) # ignore the imaginary part\n",
    "        computed_eigenvalues.append(r)\n",
    "    return np.sort(np.array(computed_eigenvalues))"
   ]
  },
  {
   "cell_type": "markdown",
   "metadata": {},
   "source": [
    "**Function print\\_eigenvalues.** Given just a mesh, the function\n",
    "`print_eigenvalues` calls the preceding function `eigenvalues` to solve\n",
    "the Maxwell eigenvalue problem for each of the two finite element\n",
    "spaces, Nédélec and Lagrange, and prints the results, together with the\n",
    "known exact eigenvalues:"
   ]
  },
  {
   "cell_type": "code",
   "execution_count": null,
   "metadata": {},
   "outputs": [],
   "source": [
    "def print_eigenvalues(mesh):"
   ]
  },
  {
   "cell_type": "markdown",
   "metadata": {},
   "source": [
    "First we define the Nédélec edge element space and the essential\n",
    "boundary conditions for it, and call `eigenvalues` to compute the\n",
    "eigenvalues. Since the degrees of freedom for the Nédélec space are\n",
    "tangential components on element edges, we simply need to constrain all\n",
    "the DOFs associated to boundary points to zero. :"
   ]
  },
  {
   "cell_type": "code",
   "execution_count": null,
   "metadata": {},
   "outputs": [],
   "source": [
    "#\n",
    "    nedelec_V   = FunctionSpace(mesh, \"N1curl\", 1)\n",
    "    nedelec_bcs = [DirichletBC(nedelec_V, Constant((0.0, 0.0)), DomainBoundary())]\n",
    "    nedelec_eig = eigenvalues(nedelec_V, nedelec_bcs)"
   ]
  },
  {
   "cell_type": "markdown",
   "metadata": {},
   "source": [
    "Then we do the same for the vector Lagrange elements. Since the Lagrange\n",
    "DOFs are both components of the vector, we must specify which component\n",
    "must vanish on which edges (the x-component on horizontal edges and the\n",
    "y-component on vertical edges). :"
   ]
  },
  {
   "cell_type": "code",
   "execution_count": null,
   "metadata": {},
   "outputs": [],
   "source": [
    "#\n",
    "    lagrange_V   = VectorFunctionSpace(mesh, \"Lagrange\", 1)\n",
    "    lagrange_bcs = [DirichletBC(lagrange_V.sub(1), 0, \"near(x[0], 0) || near(x[0], pi)\"),\n",
    "                    DirichletBC(lagrange_V.sub(0), 0, \"near(x[1], 0) || near(x[1], pi)\")]\n",
    "    lagrange_eig = eigenvalues(lagrange_V, lagrange_bcs)"
   ]
  },
  {
   "cell_type": "markdown",
   "metadata": {},
   "source": [
    "The true eigenvalues are just the 12 smallest numbers of the form\n",
    "$m^2 + n^2$, $m,n\\ge0$, not counting 0. :"
   ]
  },
  {
   "cell_type": "code",
   "execution_count": null,
   "metadata": {},
   "outputs": [],
   "source": [
    "#\n",
    "    true_eig = np.sort(np.array([float(m**2 + n**2) for m in range(6) for n in range(6)]))[1:13]"
   ]
  },
  {
   "cell_type": "markdown",
   "metadata": {},
   "source": [
    "Finally we print the results:"
   ]
  },
  {
   "cell_type": "code",
   "execution_count": null,
   "metadata": {},
   "outputs": [],
   "source": [
    "#\n",
    "    np.set_printoptions(formatter={'float': '{:5.2f}'.format})\n",
    "    print(\"Nedelec:  {}\".format(nedelec_eig))\n",
    "    print(\"Lagrange: {}\".format(lagrange_eig))\n",
    "    print(\"Exact:    {}\".format(true_eig))"
   ]
  },
  {
   "cell_type": "markdown",
   "metadata": {},
   "source": [
    "**Calling the functions.** To complete the program, we call\n",
    "`print_eigenvalues` for each of two different meshes :"
   ]
  },
  {
   "cell_type": "code",
   "execution_count": null,
   "metadata": {},
   "outputs": [],
   "source": [
    "mesh = RectangleMesh(Point(0, 0), Point(pi, pi), 40, 40)\n",
    "print(\"\\ndiagonal mesh\")\n",
    "print_eigenvalues(mesh)\n",
    "\n",
    "mesh = RectangleMesh(Point(0, 0), Point(pi, pi), 40, 40, \"crossed\")\n",
    "print(\"\\ncrossed mesh\")\n",
    "print_eigenvalues(mesh)"
   ]
  }
 ],
 "metadata": {},
 "nbformat": 4,
 "nbformat_minor": 1
}
