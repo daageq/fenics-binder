{
 "cells": [
  {
   "cell_type": "markdown",
   "metadata": {},
   "source": [
    "# Stokes equations with Mini elements\n",
    "\n",
    "This demo is implemented in a single Python file, demo\\_stokes-mini.py,\n",
    "which contains both the variational form and the solver.\n",
    "\n",
    "## Implementation\n",
    "\n",
    "This description goes through the implementation (in\n",
    "demo\\_stokes-mini.py) of a solver for the Stokes equation step-by-step.\n",
    "\n",
    "First, the :pydolfin module is imported:"
   ]
  },
  {
   "cell_type": "code",
   "execution_count": null,
   "metadata": {
    "attributes": {
     "classes": [
      "sourceCode"
     ],
     "id": ""
    }
   },
   "outputs": [],
   "source": [
    "from dolfin import *"
   ]
  },
  {
   "cell_type": "markdown",
   "metadata": {},
   "source": [
    "In this example, different boundary conditions are prescribed on\n",
    "different parts of the boundaries. This information must be made\n",
    "available to the solver. One way of doing this, is to tag the different\n",
    "sub-regions with different (integer) labels. DOLFIN provides a class\n",
    ":pyMeshFunction &lt;dolfin.cpp.mesh.MeshFunction&gt; which is useful for\n",
    "these types of operations: instances of this class represent a functions\n",
    "over mesh entities (such as over cells or over facets). Mesh and mesh\n",
    "functions can be read from file in the following way:"
   ]
  },
  {
   "cell_type": "code",
   "execution_count": null,
   "metadata": {
    "attributes": {
     "classes": [
      "sourceCode"
     ],
     "id": ""
    }
   },
   "outputs": [],
   "source": [
    "# Load mesh and subdomains\n",
    "mesh = Mesh(\"../dolfin_fine.xml.gz\")\n",
    "sub_domains = MeshFunction(\"size_t\", mesh, \"../dolfin_fine_subdomains.xml.gz\")"
   ]
  },
  {
   "cell_type": "markdown",
   "metadata": {},
   "source": [
    "Next, we define a :pyMixedFunctionSpace\n",
    "&lt;dolfin.functions.functionspace.MixedFunctionSpace&gt; composed of a\n",
    ":pyVectorFunctionSpace\n",
    "&lt;dolfin.functions.functionspace.VectorFunctionSpace&gt; of the linear\n",
    "vector Lagrange elements enriched with the cubic vector Bubble elements\n",
    "and a :pyFunctionSpace\n",
    "&lt;dolfin.cpp.function.FunctionSpace&gt; of continuous piecewise\n",
    "linears. (This mixed finite element space is known as the Mini space\n",
    "where we have the vector Bubble element for the velocity approximation.)"
   ]
  },
  {
   "cell_type": "code",
   "execution_count": null,
   "metadata": {
    "attributes": {
     "classes": [
      "sourceCode"
     ],
     "id": ""
    }
   },
   "outputs": [],
   "source": [
    "# Define function spaces\n",
    "P1 = VectorFunctionSpace(mesh, \"Lagrange\", 1)\n",
    "B  = VectorFunctionSpace(mesh, \"Bubble\", 3)\n",
    "Q  = FunctionSpace(mesh, \"CG\",  1)\n",
    "V = P1 + B\n",
    "Mini = V*Q"
   ]
  },
  {
   "cell_type": "markdown",
   "metadata": {},
   "source": [
    "Now that we have our mixed function space and marked subdomains defining\n",
    "the boundaries, we define boundary conditions:"
   ]
  },
  {
   "cell_type": "code",
   "execution_count": null,
   "metadata": {
    "attributes": {
     "classes": [
      "sourceCode"
     ],
     "id": ""
    }
   },
   "outputs": [],
   "source": [
    "# No-slip boundary condition for velocity\n",
    "# NOTE: Projection here is inefficient workaround of issue #489, FFC issue #69\n",
    "noslip = project(Constant((0, 0)), V)\n",
    "bc0 = DirichletBC(Mini.sub(0), noslip, sub_domains, 0)\n",
    "\n",
    "# Inflow boundary condition for velocity\n",
    "# NOTE: Projection here is inefficient workaround of issue #489, FFC issue #69\n",
    "inflow = project(Expression((\"-sin(x[1]*pi)\", \"0.0\")), V)\n",
    "bc1 = DirichletBC(Mini.sub(0), inflow, sub_domains, 1)\n",
    "\n",
    "# Collect boundary conditions\n",
    "bcs = [bc0, bc1]"
   ]
  },
  {
   "cell_type": "markdown",
   "metadata": {},
   "source": [
    "Here, we have given four arguments in the call of\n",
    ":pyDirichletBC &lt;dolfin.cpp.fem.DirichletBC&gt;. The first specifies\n",
    "the :pyFunctionSpace\n",
    "&lt;dolfin.cpp.function.FunctionSpace&gt;. Since we have a\n",
    ":pyMixedFunctionSpace\n",
    "&lt;dolfin.functions.functionspace.MixedFunctionSpace&gt;, we write\n",
    "W.sub(0) for the function space V, and W.sub(1) for Q. The second\n",
    "argument specifies the value on the Dirichlet boundary. The two last\n",
    "arguments specify the marking of the subdomains; `sub_domains` contains\n",
    "the subdomain markers and the number given as the last argument is the\n",
    "subdomain index.\n",
    "\n",
    "The bilinear and linear forms corresponding to the weak mixed\n",
    "formulation of the Stokes equations are defined as follows:"
   ]
  },
  {
   "cell_type": "code",
   "execution_count": null,
   "metadata": {
    "attributes": {
     "classes": [
      "sourceCode"
     ],
     "id": ""
    }
   },
   "outputs": [],
   "source": [
    "# Define variational problem\n",
    "(u, p) = TrialFunctions(Mini)\n",
    "(v, q) = TestFunctions(Mini)\n",
    "f = Constant((0, 0))\n",
    "a = (inner(grad(u), grad(v)) - div(v)*p + q*div(u))*dx\n",
    "L = inner(f, v)*dx"
   ]
  },
  {
   "cell_type": "markdown",
   "metadata": {},
   "source": [
    "To compute the solution we use the bilinear and linear forms, and the\n",
    "boundary condition, but we also need to create a :pyFunction\n",
    "&lt;dolfin.cpp.function.Function&gt; to store the solution(s). The\n",
    "(full) solution will be stored in `w`, which we initialize using the\n",
    ":pyMixedFunctionSpace\n",
    "&lt;dolfin.functions.functionspace.MixedFunctionSpace&gt; `W`. The\n",
    "actual computation is performed by calling solve with the arguments `a`,\n",
    "`L`, `w` and `bcs`. The separate components `u` and `p` of the solution\n",
    "can be extracted by calling the :pysplit\n",
    "&lt;dolfin.functions.function.Function.split&gt; function. Here we use\n",
    "an optional argument True in the split function to specify that we want\n",
    "a deep copy. If no argument is given we will get a shallow copy. We want\n",
    "a deep copy for further computations on the coefficient vectors."
   ]
  },
  {
   "cell_type": "code",
   "execution_count": null,
   "metadata": {
    "attributes": {
     "classes": [
      "sourceCode"
     ],
     "id": ""
    }
   },
   "outputs": [],
   "source": [
    "# Compute solution\n",
    "w = Function(Mini)\n",
    "solve(a == L, w, bcs)\n",
    "\n",
    "# Split the mixed solution using deepcopy\n",
    "# (needed for further computation on coefficient vector)\n",
    "(u, p) = w.split(True)"
   ]
  },
  {
   "cell_type": "markdown",
   "metadata": {},
   "source": [
    "We may be interested in the $L^2$ norms of u and p, they can be\n",
    "calculated and printed by writing"
   ]
  },
  {
   "cell_type": "code",
   "execution_count": null,
   "metadata": {
    "attributes": {
     "classes": [
      "sourceCode"
     ],
     "id": ""
    }
   },
   "outputs": [],
   "source": [
    "print(\"Norm of velocity coefficient vector: %.15g\" % u.vector().norm(\"l2\"))\n",
    "print(\"Norm of pressure coefficient vector: %.15g\" % p.vector().norm(\"l2\"))"
   ]
  },
  {
   "cell_type": "markdown",
   "metadata": {},
   "source": [
    "One can also split functions using shallow copies (which is enough when\n",
    "we just plot the result) by writing"
   ]
  },
  {
   "cell_type": "code",
   "execution_count": null,
   "metadata": {
    "attributes": {
     "classes": [
      "sourceCode"
     ],
     "id": ""
    }
   },
   "outputs": [],
   "source": [
    "# Split the mixed solution using a shallow copy\n",
    "(u, p) = w.split()"
   ]
  },
  {
   "cell_type": "markdown",
   "metadata": {},
   "source": [
    "Finally, we can store to file and plot the solutions."
   ]
  },
  {
   "cell_type": "code",
   "execution_count": null,
   "metadata": {
    "attributes": {
     "classes": [
      "sourceCode"
     ],
     "id": ""
    }
   },
   "outputs": [],
   "source": [
    "# Save solution in VTK format\n",
    "ufile_pvd = File(\"velocity.pvd\")\n",
    "ufile_pvd << u\n",
    "pfile_pvd = File(\"pressure.pvd\")\n",
    "pfile_pvd << p\n",
    "\n",
    "# Plot solution\n",
    "plot(u)\n",
    "plot(p)\n",
    "interactive()"
   ]
  },
  {
   "cell_type": "markdown",
   "metadata": {},
   "source": [
    "## Complete code"
   ]
  }
 ],
 "metadata": {},
 "nbformat": 4,
 "nbformat_minor": 0
}
