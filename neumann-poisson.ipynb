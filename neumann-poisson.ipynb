{
 "cells": [
  {
   "cell_type": "markdown",
   "metadata": {},
   "source": [
    "# Poisson equation with pure Neumann boundary conditions\n",
    "\n",
    "This demo is implemented in a single Python file,\n",
    "demo\\_neumann-poisson.py, which contains both the variational form and\n",
    "the solver.\n",
    "\n",
    "## Implementation\n",
    "\n",
    "This description goes through the implementation in\n",
    "demo\\_neumann-poisson.py of a solver for the above described Poisson\n",
    "equation step-by-step.\n",
    "\n",
    "First, the :pydolfin module is imported:"
   ]
  },
  {
   "cell_type": "code",
   "execution_count": null,
   "metadata": {
    "attributes": {
     "classes": [
      "sourceCode"
     ],
     "id": ""
    }
   },
   "outputs": [],
   "source": [
    "from dolfin import *"
   ]
  },
  {
   "cell_type": "markdown",
   "metadata": {},
   "source": [
    "We proceed by defining a mesh of the domain. We use a built-in mesh\n",
    "provided by the class :pyUnitSquareMesh\n",
    "&lt;dolfin.cpp.UnitSquareMesh&gt;. In order to create a mesh consisting\n",
    "of $64 \\times 64$ squares with each square divided into two triangles,\n",
    "we do as follows:"
   ]
  },
  {
   "cell_type": "code",
   "execution_count": null,
   "metadata": {
    "attributes": {
     "classes": [
      "sourceCode"
     ],
     "id": ""
    }
   },
   "outputs": [],
   "source": [
    "# Create mesh\n",
    "mesh = UnitSquareMesh(64, 64)"
   ]
  },
  {
   "cell_type": "markdown",
   "metadata": {},
   "source": [
    "Next, we need to define the function spaces. We define the two function\n",
    "spaces $V$ and $R$ separately, before combining these into a mixed\n",
    "function space $W$:"
   ]
  },
  {
   "cell_type": "code",
   "execution_count": null,
   "metadata": {
    "attributes": {
     "classes": [
      "sourceCode"
     ],
     "id": ""
    }
   },
   "outputs": [],
   "source": [
    "# Define function spaces and mixed (product) space\n",
    "V = FunctionSpace(mesh, \"CG\", 1)\n",
    "R = FunctionSpace(mesh, \"R\", 0)\n",
    "W = V * R"
   ]
  },
  {
   "cell_type": "markdown",
   "metadata": {},
   "source": [
    "The second argument to :pyFunctionSpace\n",
    "&lt;dolfin.functions.functionspace.FunctionSpace&gt; specifies the type\n",
    "of finite element family, while the third argument specifies the\n",
    "polynomial degree. The UFL user manual contains a list of all available\n",
    "finite element families and more details. The \\* operator creates a\n",
    "mixed (product) space $W$ from the two separate spaces $V$ and $R$.\n",
    "Hence,\n",
    "\n",
    "$$W = \\{ (v, d) \\ \\text{such that} \\ v \\in V, d \\in R \\}.$$\n",
    "\n",
    "Now, we want to define the variational problem, but first we need to\n",
    "specify the trial functions (the unknowns) and the test functions. This\n",
    "can be done using\n",
    ":pyTrialFunctions&lt;dolfin.functions.function.TrialFunction&gt; and\n",
    ":pyTestFunctions\n",
    "&lt;dolfin.functions.function.TestFunction&gt;. It only remains to\n",
    "define the source function $f$, before we define the bilinear and linear\n",
    "forms. It is given by a simple mathematical formula, and can easily be\n",
    "declared using the :pyExpression\n",
    "&lt;dolfin.functions.expression.Expression&gt; class. Note that the\n",
    "string defining `f` uses C++ syntax since, for efficiency, DOLFIN will\n",
    "generate and compile C++ code for these expressions at run-time. The\n",
    "following code shows how this is done and defines the variational\n",
    "problem:"
   ]
  },
  {
   "cell_type": "code",
   "execution_count": null,
   "metadata": {
    "attributes": {
     "classes": [
      "sourceCode"
     ],
     "id": ""
    }
   },
   "outputs": [],
   "source": [
    "# Define variational problem\n",
    "(u, c) = TrialFunction(W)\n",
    "(v, d) = TestFunctions(W)\n",
    "f = Expression(\"10*exp(-(pow(x[0] - 0.5, 2) + pow(x[1] - 0.5, 2)) / 0.02)\")\n",
    "g = Expression(\"-sin(5*x[0])\")\n",
    "a = (inner(grad(u), grad(v)) + c*v + u*d)*dx\n",
    "L = f*v*dx + g*v*ds"
   ]
  },
  {
   "cell_type": "markdown",
   "metadata": {},
   "source": [
    "Since we have natural (Neumann) boundary conditions in this problem, we\n",
    "don´t have to implement boundary conditions. This is because Neumann\n",
    "boundary conditions are default in DOLFIN.\n",
    "\n",
    "To compute the solution we use the bilinear form, the linear forms, and\n",
    "the boundary condition, but we also need to create a\n",
    ":pyFunction &lt;dolfin.functions.function.Function&gt; to store the\n",
    "solution(s). The (full) solution will be stored in `w`, which we\n",
    "initialize using the\n",
    ":pyFunctionSpace&lt;dolfin.functions.functionspace.FunctionSpace&gt;\n",
    "`W`. The actual computation is performed by calling\n",
    ":pysolve&lt;dolfin.fem.solving.solve&gt;. The separate components `u`\n",
    "and `c` of the solution can be extracted by calling the split function.\n",
    "Finally, we plot the solutions to examine the result."
   ]
  },
  {
   "cell_type": "code",
   "execution_count": null,
   "metadata": {
    "attributes": {
     "classes": [
      "sourceCode"
     ],
     "id": ""
    }
   },
   "outputs": [],
   "source": [
    "# Compute solution\n",
    "w = Function(W)\n",
    "solve(a == L, w)\n",
    "(u, c) = w.split()\n",
    "\n",
    "# Plot solution\n",
    "plot(u, interactive=True)"
   ]
  },
  {
   "cell_type": "markdown",
   "metadata": {},
   "source": [
    "## Complete code"
   ]
  }
 ],
 "metadata": {},
 "nbformat": 4,
 "nbformat_minor": 0
}
