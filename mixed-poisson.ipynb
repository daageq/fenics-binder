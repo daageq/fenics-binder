{
 "cells": [
  {
   "cell_type": "markdown",
   "metadata": {},
   "source": [
    "# Mixed formulation for Poisson equation\n",
    "\n",
    "This demo is implemented in a single Python file,\n",
    "demo\\_mixed-poisson.py, which contains both the variational forms and\n",
    "the solver.\n",
    "\n",
    "## Implementation\n",
    "\n",
    "This demo is implemented in the demo\\_mixed-poisson.py file.\n",
    "\n",
    "First, the :pydolfin module is imported:"
   ]
  },
  {
   "cell_type": "code",
   "execution_count": null,
   "metadata": {
    "attributes": {
     "classes": [
      "sourceCode"
     ],
     "id": ""
    }
   },
   "outputs": [],
   "source": [
    "from dolfin import *"
   ]
  },
  {
   "cell_type": "markdown",
   "metadata": {},
   "source": [
    "Then, we need to create a :pyMesh &lt;dolfin.cpp.Mesh&gt; covering the\n",
    "unit square. In this example, we will let the mesh consist of 32 x 32\n",
    "squares with each square divided into two triangles:"
   ]
  },
  {
   "cell_type": "code",
   "execution_count": null,
   "metadata": {
    "attributes": {
     "classes": [
      "sourceCode"
     ],
     "id": ""
    }
   },
   "outputs": [],
   "source": [
    "# Create mesh\n",
    "mesh = UnitSquareMesh(32, 32)"
   ]
  },
  {
   "cell_type": "markdown",
   "metadata": {},
   "source": [
    "Next, we need to define the function spaces. We define the two function\n",
    "spaces $\\Sigma_h$ and $V_h$ separately, before combining these into a\n",
    "mixed function space:"
   ]
  },
  {
   "cell_type": "code",
   "execution_count": null,
   "metadata": {
    "attributes": {
     "classes": [
      "sourceCode"
     ],
     "id": ""
    }
   },
   "outputs": [],
   "source": [
    "# Define function spaces and mixed (product) space\n",
    "BDM = FunctionSpace(mesh, \"BDM\", 1)\n",
    "DG = FunctionSpace(mesh, \"DG\", 0)\n",
    "W = BDM * DG"
   ]
  },
  {
   "cell_type": "markdown",
   "metadata": {},
   "source": [
    "The second argument to :pyFunctionSpace\n",
    "&lt;dolfin.functions.functionspace.FunctionSpace&gt; specifies the type\n",
    "of finite element family, while the third argument specifies the\n",
    "polynomial degree. The UFL user manual contains a list of all available\n",
    "finite element families and more details. The \\* operator creates a\n",
    "mixed (product) space `W` from the two separate spaces `BDM` and `DG`.\n",
    "Hence,\n",
    "\n",
    "$$W = \\{ (\\tau, v) \\ \\text{such that} \\ \\tau \\in BDM, v \\in DG \\}.$$\n",
    "\n",
    "Next, we need to specify the trial functions (the unknowns) and the test\n",
    "functions on this space. This can be done as follows"
   ]
  },
  {
   "cell_type": "code",
   "execution_count": null,
   "metadata": {
    "attributes": {
     "classes": [
      "sourceCode"
     ],
     "id": ""
    }
   },
   "outputs": [],
   "source": [
    "# Define trial and test functions\n",
    "(sigma, u) = TrialFunctions(W)\n",
    "(tau, v) = TestFunctions(W)"
   ]
  },
  {
   "cell_type": "markdown",
   "metadata": {},
   "source": [
    "In order to define the variational form, it only remains to define the\n",
    "source function $f$. This is done just as for the Poisson\n",
    "demo &lt;demo\\_pde\\_poisson\\_python\\_documentation&gt;:"
   ]
  },
  {
   "cell_type": "code",
   "execution_count": null,
   "metadata": {
    "attributes": {
     "classes": [
      "sourceCode"
     ],
     "id": ""
    }
   },
   "outputs": [],
   "source": [
    "# Define source function\n",
    "f = Expression(\"10*exp(-(pow(x[0] - 0.5, 2) + pow(x[1] - 0.5, 2)) / 0.02)\")"
   ]
  },
  {
   "cell_type": "markdown",
   "metadata": {},
   "source": [
    "We are now ready to define the variational forms a and L. Since,\n",
    "$u_0 = 0$ in this example, the boundary term on the right-hand side\n",
    "vanishes."
   ]
  },
  {
   "cell_type": "code",
   "execution_count": null,
   "metadata": {
    "attributes": {
     "classes": [
      "sourceCode"
     ],
     "id": ""
    }
   },
   "outputs": [],
   "source": [
    "# Define variational form\n",
    "a = (dot(sigma, tau) + div(tau)*u + div(sigma)*v)*dx\n",
    "L = - f*v*dx"
   ]
  },
  {
   "cell_type": "markdown",
   "metadata": {},
   "source": [
    "It only remains to prescribe the boundary condition for the flux.\n",
    "Essential boundary conditions are specified through the class\n",
    ":pyDirichletBC &lt;dolfin.fem.bcs.DirichletBC&gt; which takes three\n",
    "arguments: the function space the boundary condition is supposed to be\n",
    "applied to, the data for the boundary condition, and the relevant part\n",
    "of the boundary.\n",
    "\n",
    "We want to apply the boundary condition to the first subspace of the\n",
    "mixed space. Subspaces of a :pyMixedFunctionSpace\n",
    "&lt;dolfin.functions.functionspace.MixedFunctionSpace&gt; can be\n",
    "accessed by the method :pysub\n",
    "&lt;dolfin.functions.functionspace.FunctionSpaceBase.sub&gt;. In our\n",
    "case, this reads `W.sub(0)`. (Do *not* use the separate space `BDM` as\n",
    "this would mess up the numbering.)\n",
    "\n",
    "Next, we need to construct the data for the boundary condition. An\n",
    "essential boundary condition is handled by replacing degrees of freedom\n",
    "by the degrees of freedom evaluated at the given data. The $BDM$ finite\n",
    "element spaces are vector-valued spaces and hence the degrees of freedom\n",
    "act on vector-valued objects. The effect is that the user is required to\n",
    "construct a $G$ such that $G\n",
    "\\cdot n = g$. Such a $G$ can be constructed by letting $G\n",
    "= g n$. In particular, it can be created by subclassing the\n",
    ":pyExpression &lt;dolfin.functions.expression.Expression&gt; class.\n",
    "Overloading the `eval_cell` method (instead of the usual `eval`) allows\n",
    "us to extract more geometry information such as the facet normals. Since\n",
    "this is a vector-valued expression, we also need to overload the\n",
    "`value_shape` method."
   ]
  },
  {
   "cell_type": "code",
   "execution_count": null,
   "metadata": {
    "attributes": {
     "classes": [
      "sourceCode"
     ],
     "id": ""
    }
   },
   "outputs": [],
   "source": [
    "# Define function G such that G \\cdot n = g\n",
    "class BoundarySource(Expression):\n",
    "       def __init__(self, mesh):\n",
    "           self.mesh = mesh\n",
    "       def eval_cell(self, values, x, ufc_cell):\n",
    "           cell = Cell(self.mesh, ufc_cell.index)\n",
    "           n = cell.normal(ufc_cell.local_facet)\n",
    "           g = sin(5*x[0])\n",
    "           values[0] = g*n[0]\n",
    "           values[1] = g*n[1]\n",
    "       def value_shape(self):\n",
    "           return (2,)\n",
    "\n",
    " G = BoundarySource(mesh)"
   ]
  },
  {
   "cell_type": "markdown",
   "metadata": {},
   "source": [
    "Specifying the relevant part of the boundary can be done as for the\n",
    "Poisson demo (but now the top and bottom of the unit square is the\n",
    "essential boundary):"
   ]
  },
  {
   "cell_type": "code",
   "execution_count": null,
   "metadata": {
    "attributes": {
     "classes": [
      "sourceCode"
     ],
     "id": ""
    }
   },
   "outputs": [],
   "source": [
    "# Define essential boundary\n",
    "def boundary(x):\n",
    "    return x[1] < DOLFIN_EPS or x[1] > 1.0 - DOLFIN_EPS"
   ]
  },
  {
   "cell_type": "markdown",
   "metadata": {},
   "source": [
    "Now, all the pieces are in place for the construction of the essential\n",
    "boundary condition:"
   ]
  },
  {
   "cell_type": "code",
   "execution_count": null,
   "metadata": {
    "attributes": {
     "classes": [
      "sourceCode"
     ],
     "id": ""
    }
   },
   "outputs": [],
   "source": [
    "bc = DirichletBC(W.sub(0), G, boundary)"
   ]
  },
  {
   "cell_type": "markdown",
   "metadata": {},
   "source": [
    "To compute the solution we use the bilinear and linear forms, and the\n",
    "boundary condition, but we also need to create a :pyFunction\n",
    "&lt;dolfin.functions.function.Function&gt; to store the solution(s). The\n",
    "(full) solution will be stored in the `w`, which we initialise using the\n",
    ":pyFunctionSpace\n",
    "&lt;dolfin.functions.functionspace.FunctionSpace&gt; `W`. The actual\n",
    "computation is performed by calling :pysolve\n",
    "&lt;dolfin.fem.solving.solve&gt;. The separate components `sigma` and\n",
    "`u` of the solution can be extracted by calling the :pysplit\n",
    "&lt;dolfin.functions.function.Function.split&gt; function. Finally, we\n",
    "plot the solutions to examine the result."
   ]
  },
  {
   "cell_type": "code",
   "execution_count": null,
   "metadata": {
    "attributes": {
     "classes": [
      "sourceCode"
     ],
     "id": ""
    }
   },
   "outputs": [],
   "source": [
    "# Compute solution\n",
    "w = Function(W)\n",
    "solve(a == L, w, bc)\n",
    "(sigma, u) = w.split()\n",
    "\n",
    "# Plot sigma and u\n",
    "plot(sigma)\n",
    "plot(u)\n",
    "interactive()"
   ]
  },
  {
   "cell_type": "markdown",
   "metadata": {},
   "source": [
    "## Complete code"
   ]
  }
 ],
 "metadata": {
  "kernelspec": {
   "display_name": "Python 2 (fenics)",
   "language": "python",
   "name": "fenics"
  }
 },
 "nbformat": 4,
 "nbformat_minor": 0
}
