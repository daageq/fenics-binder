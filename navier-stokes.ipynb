{
 "cells": [
  {
   "cell_type": "markdown",
   "metadata": {},
   "source": [
    "# Incompressible Navier-Stokes equations\n",
    "\n",
    "This demo is implemented in a single Python file,\n",
    "demo\\_navier-stokes.py, which contains both the variational forms and\n",
    "the solver.\n",
    "\n",
    "## Implementation\n",
    "\n",
    "This demo is implemented in the demo\\_navier-stokes.py file.\n",
    "\n",
    "First, the :pydolfin module is imported:"
   ]
  },
  {
   "cell_type": "code",
   "execution_count": null,
   "metadata": {
    "attributes": {
     "classes": [
      "sourceCode"
     ],
     "id": ""
    }
   },
   "outputs": [],
   "source": [
    "from dolfin import *"
   ]
  },
  {
   "cell_type": "markdown",
   "metadata": {},
   "source": [
    "For the parallel case, we turn off log messages from processes other\n",
    "than the the root process to avoid excessive output:"
   ]
  },
  {
   "cell_type": "code",
   "execution_count": null,
   "metadata": {
    "attributes": {
     "classes": [
      "sourceCode"
     ],
     "id": ""
    }
   },
   "outputs": [],
   "source": [
    "# Print log messages only from the root process in parallel\n",
    "parameters[\"std_out_all_processes\"] = False;"
   ]
  },
  {
   "cell_type": "markdown",
   "metadata": {},
   "source": [
    "We then load the mesh for the L-shaped domain from file:"
   ]
  },
  {
   "cell_type": "code",
   "execution_count": null,
   "metadata": {
    "attributes": {
     "classes": [
      "sourceCode"
     ],
     "id": ""
    }
   },
   "outputs": [],
   "source": [
    "# Load mesh from file\n",
    "mesh = Mesh(\"../lshape.xml.gz\")"
   ]
  },
  {
   "cell_type": "markdown",
   "metadata": {},
   "source": [
    "We next define a pair of function spaces $V$ and $Q$ for the velocity\n",
    "and pressure, and trial and test functions on these spaces:"
   ]
  },
  {
   "cell_type": "code",
   "execution_count": null,
   "metadata": {
    "attributes": {
     "classes": [
      "sourceCode"
     ],
     "id": ""
    }
   },
   "outputs": [],
   "source": [
    "# Define function spaces (P2-P1)\n",
    "V = VectorFunctionSpace(mesh, \"Lagrange\", 2)\n",
    "Q = FunctionSpace(mesh, \"Lagrange\", 1)\n",
    "\n",
    "# Define trial and test functions\n",
    "u = TrialFunction(V)\n",
    "p = TrialFunction(Q)\n",
    "v = TestFunction(V)\n",
    "q = TestFunction(Q)"
   ]
  },
  {
   "cell_type": "markdown",
   "metadata": {},
   "source": [
    "The time step, the length of the time interval, and the kinematic\n",
    "viscosity are defined by:"
   ]
  },
  {
   "cell_type": "code",
   "execution_count": null,
   "metadata": {
    "attributes": {
     "classes": [
      "sourceCode"
     ],
     "id": ""
    }
   },
   "outputs": [],
   "source": [
    "# Set parameter values\n",
    "dt = 0.01\n",
    "T = 3\n",
    "nu = 0.01"
   ]
  },
  {
   "cell_type": "markdown",
   "metadata": {},
   "source": [
    "The time-dependent pressure boundary condition can be defined using the\n",
    ":pyExpression &lt;dolfin.functions.expression.Expression&gt; class:"
   ]
  },
  {
   "cell_type": "code",
   "execution_count": null,
   "metadata": {
    "attributes": {
     "classes": [
      "sourceCode"
     ],
     "id": ""
    }
   },
   "outputs": [],
   "source": [
    "# Define time-dependent pressure boundary condition\n",
    "p_in = Expression(\"sin(3.0*t)\", t=0.0)"
   ]
  },
  {
   "cell_type": "markdown",
   "metadata": {},
   "source": [
    "Note that the variable `t` is not automatically updated during\n",
    "time-stepping, so we must remember to manually update the value of the\n",
    "current time in each time step.\n",
    "\n",
    "We may now define the boundary conditions for the velocity and pressure.\n",
    "We define one no-slip boundary condition for the velocity and a pair of\n",
    "boundary conditions for the pressure at the inflow and outflow\n",
    "boundaries:"
   ]
  },
  {
   "cell_type": "code",
   "execution_count": null,
   "metadata": {
    "attributes": {
     "classes": [
      "sourceCode"
     ],
     "id": ""
    }
   },
   "outputs": [],
   "source": [
    "# Define boundary conditions\n",
    "noslip  = DirichletBC(V, (0, 0),\n",
    "                      \"on_boundary && \\\n",
    "                       (x[0] < DOLFIN_EPS | x[1] < DOLFIN_EPS | \\\n",
    "                       (x[0] > 0.5 - DOLFIN_EPS && x[1] > 0.5 - DOLFIN_EPS))\")\n",
    "inflow  = DirichletBC(Q, p_in, \"x[1] > 1.0 - DOLFIN_EPS\")\n",
    "outflow = DirichletBC(Q, 0, \"x[0] > 1.0 - DOLFIN_EPS\")\n",
    "bcu = [noslip]\n",
    "bcp = [inflow, outflow]"
   ]
  },
  {
   "cell_type": "markdown",
   "metadata": {},
   "source": [
    "We collect the boundary conditions in the two lists `bcu` and `bcp` so\n",
    "that we may easily iterate over them below when we apply the boundary\n",
    "conditions. This makes it easy to add new boundary conditions or use\n",
    "this demo program to solve the Navier-Stokes equations on other\n",
    "geometries.\n",
    "\n",
    "We next define the functions and the coefficients that will be used\n",
    "below:"
   ]
  },
  {
   "cell_type": "code",
   "execution_count": null,
   "metadata": {
    "attributes": {
     "classes": [
      "sourceCode"
     ],
     "id": ""
    }
   },
   "outputs": [],
   "source": [
    "# Create functions\n",
    "u0 = Function(V)\n",
    "u1 = Function(V)\n",
    "p1 = Function(Q)\n",
    "\n",
    "# Define coefficients\n",
    "k = Constant(dt)\n",
    "f = Constant((0, 0))"
   ]
  },
  {
   "cell_type": "markdown",
   "metadata": {},
   "source": [
    "Note that one may use the time step `dt` directly in the form. However,\n",
    "by using the :pyConstant\n",
    "&lt;dolfin.functions.constant.Constant&gt; class, we may freely change\n",
    "the size of the time step without triggering regeneration of code.\n",
    "\n",
    "The next step is now to define the variational problems for the three\n",
    "steps of Chorin's method. We do this by defining a pair of bilinear and\n",
    "linear forms for each step:"
   ]
  },
  {
   "cell_type": "code",
   "execution_count": null,
   "metadata": {
    "attributes": {
     "classes": [
      "sourceCode"
     ],
     "id": ""
    }
   },
   "outputs": [],
   "source": [
    "# Tentative velocity step\n",
    "F1 = (1/k)*inner(u - u0, v)*dx + inner(grad(u0)*u0, v)*dx + \\\n",
    "     nu*inner(grad(u), grad(v))*dx - inner(f, v)*dx\n",
    "a1 = lhs(F1)\n",
    "L1 = rhs(F1)\n",
    "\n",
    "# Pressure update\n",
    "a2 = inner(grad(p), grad(q))*dx\n",
    "L2 = -(1/k)*div(u1)*q*dx\n",
    "\n",
    "# Velocity update\n",
    "a3 = inner(u, v)*dx\n",
    "L3 = inner(u1, v)*dx - k*inner(grad(p1), v)*dx"
   ]
  },
  {
   "cell_type": "markdown",
   "metadata": {},
   "source": [
    "Since the bilinear forms do not depend on any coefficients that change\n",
    "during time-stepping, the corresponding matrices remain constant. We may\n",
    "therefore assemble these before the time-stepping begins:"
   ]
  },
  {
   "cell_type": "code",
   "execution_count": null,
   "metadata": {
    "attributes": {
     "classes": [
      "sourceCode"
     ],
     "id": ""
    }
   },
   "outputs": [],
   "source": [
    "# Assemble matrices\n",
    "A1 = assemble(a1)\n",
    "A2 = assemble(a2)\n",
    "A3 = assemble(a3)\n",
    "\n",
    "# Use amg preconditioner if available\n",
    "prec = \"amg\" if has_krylov_solver_preconditioner(\"amg\") else \"default\""
   ]
  },
  {
   "cell_type": "markdown",
   "metadata": {},
   "source": [
    "During time-stepping, we will store the solution in VTK format (readable\n",
    "by MayaVi and Paraview). We therefore create a pair of files that can be\n",
    "used to store the solution. Specifying the `.pvd` suffix signals that\n",
    "the solution should be stored in VTK format:"
   ]
  },
  {
   "cell_type": "code",
   "execution_count": null,
   "metadata": {
    "attributes": {
     "classes": [
      "sourceCode"
     ],
     "id": ""
    }
   },
   "outputs": [],
   "source": [
    "# Create files for storing solution\n",
    "ufile = File(\"results/velocity.pvd\")\n",
    "pfile = File(\"results/pressure.pvd\")"
   ]
  },
  {
   "cell_type": "markdown",
   "metadata": {},
   "source": [
    "The time-stepping loop is now implemented as follows:"
   ]
  },
  {
   "cell_type": "code",
   "execution_count": null,
   "metadata": {
    "attributes": {
     "classes": [
      "sourceCode"
     ],
     "id": ""
    }
   },
   "outputs": [],
   "source": [
    "# Time-stepping\n",
    "t = dt\n",
    "while t < T + DOLFIN_EPS:\n",
    "\n",
    "    # Update pressure boundary condition\n",
    "    p_in.t = t"
   ]
  },
  {
   "cell_type": "markdown",
   "metadata": {},
   "source": [
    "We remember to update the current time for the time-dependent pressure\n",
    "boundary value.\n",
    "\n",
    "For each of the three steps of Chorin's method, we assemble the\n",
    "right-hand side, apply boundary conditions and solve a linear system.\n",
    "Note the different use of preconditioners. Incomplete LU factorization\n",
    "is used for the computation of the tentative velocity and the velocity\n",
    "update, while algebraic multigrid is used for the pressure equation if\n",
    "available:"
   ]
  },
  {
   "cell_type": "code",
   "execution_count": null,
   "metadata": {
    "attributes": {
     "classes": [
      "sourceCode"
     ],
     "id": ""
    }
   },
   "outputs": [],
   "source": [
    "# Compute tentative velocity step\n",
    "begin(\"Computing tentative velocity\")\n",
    "b1 = assemble(L1)\n",
    "[bc.apply(A1, b1) for bc in bcu]\n",
    "solve(A1, u1.vector(), b1, \"bicgstab\", \"default\")\n",
    "end()\n",
    "\n",
    "# Pressure correction\n",
    "begin(\"Computing pressure correction\")\n",
    "b2 = assemble(L2)\n",
    "[bc.apply(A2, b2) for bc in bcp]\n",
    "[bc.apply(p1.vector()) for bc in bcp]\n",
    "solve(A2, p1.vector(), b2, \"bicgstab\", prec)\n",
    "end()\n",
    "\n",
    "# Velocity correction\n",
    "begin(\"Computing velocity correction\")\n",
    "b3 = assemble(L3)\n",
    "[bc.apply(A3, b3) for bc in bcu]\n",
    "solve(A3, u1.vector(), b3, \"bicgstab\", \"default\")\n",
    "end()"
   ]
  },
  {
   "cell_type": "markdown",
   "metadata": {},
   "source": [
    "Note the use of `begin` and `end`; these improve the readability of the\n",
    "output from the program by adding indentation to diagnostic messages.\n",
    "\n",
    "At the end of the time-stepping loop, we plot the solution, store the\n",
    "solution to file, and update values for the next time step:"
   ]
  },
  {
   "cell_type": "code",
   "execution_count": null,
   "metadata": {
    "attributes": {
     "classes": [
      "sourceCode"
     ],
     "id": ""
    }
   },
   "outputs": [],
   "source": [
    "# Plot solution\n",
    "plot(p1, title=\"Pressure\", rescale=True)\n",
    "plot(u1, title=\"Velocity\", rescale=True)\n",
    "\n",
    "# Save to file\n",
    "ufile << u1\n",
    "pfile << p1\n",
    "\n",
    "# Move to next time step\n",
    "u0.assign(u1)\n",
    "t += dt"
   ]
  },
  {
   "cell_type": "markdown",
   "metadata": {},
   "source": [
    "Finally, we call the `interactive` function to signal that the plot\n",
    "window should be kept open and allow us to interact with (zoom, rotate)\n",
    "the solution.\n",
    "\n",
    "## Complete code"
   ]
  }
 ],
 "metadata": {
  "kernelspec": {
   "display_name": "Python 2 (fenics)",
   "language": "python",
   "name": "fenics"
  }
 },
 "nbformat": 4,
 "nbformat_minor": 0
}
