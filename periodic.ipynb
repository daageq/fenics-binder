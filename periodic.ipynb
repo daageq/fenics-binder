{
 "cells": [
  {
   "cell_type": "markdown",
   "metadata": {},
   "source": [
    "# Poisson equation with periodic boundary conditions\n",
    "\n",
    "This demo is implemented in a single Python file, demo\\_periodic.py,\n",
    "which contains both the variational form and the solver.\n",
    "\n",
    "## Implementation\n",
    "\n",
    "This demo is implemented in a single file, demo\\_periodic.py.\n",
    "\n",
    "First, the :pydolfin module is imported"
   ]
  },
  {
   "cell_type": "code",
   "execution_count": null,
   "metadata": {
    "attributes": {
     "classes": [
      "sourceCode"
     ],
     "id": ""
    }
   },
   "outputs": [],
   "source": [
    "from dolfin import *"
   ]
  },
  {
   "cell_type": "markdown",
   "metadata": {},
   "source": [
    "A subclass of :pyExpression &lt;dolfin.cpp.function.Expression&gt;,\n",
    "`Source`, is created for the source term `f`. The function\n",
    ":pyeval() &lt;dolfin.cpp.fem.BasisFunction.eval&gt; returns values for a\n",
    "function at the given point `x`."
   ]
  },
  {
   "cell_type": "code",
   "execution_count": null,
   "metadata": {
    "attributes": {
     "classes": [
      "sourceCode"
     ],
     "id": ""
    }
   },
   "outputs": [],
   "source": [
    "# Source term\n",
    "class Source(Expression):\n",
    "    def eval(self, values, x):\n",
    "        dx = x[0] - 0.5\n",
    "        dy = x[1] - 0.5\n",
    "        values[0] = x[0]*sin(5.0*DOLFIN_PI*x[1]) + 1.0*exp(-(dx*dx + dy*dy)/0.02)"
   ]
  },
  {
   "cell_type": "markdown",
   "metadata": {},
   "source": [
    "To define the boundaries, we create subclasses of the class\n",
    ":pySubDomain &lt;dolfin.cpp.mesh.SubDomain&gt;. A simple Python\n",
    "function, returning a boolean, can be used to define the subdomain for\n",
    "the Dirichlet boundary condition ($\\Gamma_D$). The function should\n",
    "return True for those points inside the subdomain and False for the\n",
    "points outside. In our case, we want to say that the points $(x, y)$\n",
    "such that $y = 0$ or $y = 1$ are inside of $\\Gamma_D$. (Note that\n",
    "because of round-off errors, it is often wise to instead specify\n",
    "$y < \\epsilon$ or $y > 1 -\n",
    "\\epsilon$ where $\\epsilon$ is a small number (such as machine\n",
    "precision).)"
   ]
  },
  {
   "cell_type": "code",
   "execution_count": null,
   "metadata": {
    "attributes": {
     "classes": [
      "sourceCode"
     ],
     "id": ""
    }
   },
   "outputs": [],
   "source": [
    "# Sub domain for Dirichlet boundary condition\n",
    "class DirichletBoundary(SubDomain):\n",
    "    def inside(self, x, on_boundary):\n",
    "        return bool((x[1] < DOLFIN_EPS or x[1] > (1.0 - DOLFIN_EPS)) and on_boundary)"
   ]
  },
  {
   "cell_type": "markdown",
   "metadata": {},
   "source": [
    "The periodic boundary is defined by PeriodicBoundary and we define what\n",
    "is inside the boundary in the same way as in DirichletBoundary. The\n",
    "function `map` maps a coordinate `x` in domain `H` to a coordinate `y`\n",
    "in the domain `G`, it is used for periodic boundary conditions, so that\n",
    "the right boundary of the domain is mapped to the left boundary. When\n",
    "the class is defined, we create the boundary by making an instance of\n",
    "the class."
   ]
  },
  {
   "cell_type": "code",
   "execution_count": null,
   "metadata": {
    "attributes": {
     "classes": [
      "sourceCode"
     ],
     "id": ""
    }
   },
   "outputs": [],
   "source": [
    "# Sub domain for Periodic boundary condition\n",
    "class PeriodicBoundary(SubDomain):\n",
    "\n",
    "    # Left boundary is \"target domain\" G\n",
    "    def inside(self, x, on_boundary):\n",
    "        return bool(x[0] < DOLFIN_EPS and x[0] > -DOLFIN_EPS and on_boundary)\n",
    "\n",
    "    # Map right boundary (H) to left boundary (G)\n",
    "    def map(self, x, y):\n",
    "        y[0] = x[0] - 1.0\n",
    "        y[1] = x[1]\n",
    "\n",
    "# Create periodic boundary condition\n",
    "pbc = PeriodicBoundary()"
   ]
  },
  {
   "cell_type": "markdown",
   "metadata": {},
   "source": [
    "A 2D mesh is created using the built-in class\n",
    ":pyUnitSquareMesh &lt;dolfin.cpp.mesh.UnitSquareMesh&gt;, and we define\n",
    "a finite element function space relative to this space. Notice the\n",
    "fourth argument of :pyFunctionSpace\n",
    "&lt;dolfin.cpp.function.FunctionSpace&gt;. It specifies that all\n",
    "functions in `V` have periodic boundaries defined by `pbc`. Also notice\n",
    "that in order for periodic boundary conditions to work correctly it is\n",
    "necessary that the mesh nodes on the periodic boundaries match up. This\n",
    "is automatically satisfied for\n",
    ":pyUnitSquareMesh &lt;dolfin.cpp.mesh.UnitSquareMesh&gt; but may require\n",
    "extra care with more general meshes (especially externally generated\n",
    "ones)."
   ]
  },
  {
   "cell_type": "code",
   "execution_count": null,
   "metadata": {
    "attributes": {
     "classes": [
      "sourceCode"
     ],
     "id": ""
    }
   },
   "outputs": [],
   "source": [
    "# Create mesh and finite element\n",
    "mesh = UnitSquareMesh(32, 32)\n",
    "V = FunctionSpace(mesh, \"CG\", 1, constrained_domain=pbc)"
   ]
  },
  {
   "cell_type": "markdown",
   "metadata": {},
   "source": [
    "Now, we create the Dirichlet boundary condition using the class\n",
    ":pyDirichletBC &lt;dolfin.cpp.fem.DirichletBC&gt;. A\n",
    ":pyDirichletBC &lt;:py:class:DirichletBC\n",
    "&lt;dolfin.cpp.fem.DirichletBC&gt;\\` takes three arguments: the function\n",
    "space the boundary condition applies to, the value of the boundary\n",
    "condition, and the part of the boundary on which the condition applies.\n",
    "In our example, the function space is `V`, the value of the boundary\n",
    "condition (0.0) can be represented using a\n",
    ":pyConstant &lt;dolfin.functions.constant.Constant&gt; and the Dirichlet\n",
    "boundary is defined by the class DirichletBoundary. The definition of\n",
    "the Dirichlet boundary condition then looks as follows:"
   ]
  },
  {
   "cell_type": "code",
   "execution_count": null,
   "metadata": {
    "attributes": {
     "classes": [
      "sourceCode"
     ],
     "id": ""
    }
   },
   "outputs": [],
   "source": [
    "# Create Dirichlet boundary condition\n",
    "u0 = Constant(0.0)\n",
    "dbc = DirichletBoundary()\n",
    "bc0 = DirichletBC(V, u0, dbc)"
   ]
  },
  {
   "cell_type": "markdown",
   "metadata": {},
   "source": [
    "When all boundary conditions are defined and created we can collect them\n",
    "in a list:"
   ]
  },
  {
   "cell_type": "code",
   "execution_count": null,
   "metadata": {
    "attributes": {
     "classes": [
      "sourceCode"
     ],
     "id": ""
    }
   },
   "outputs": [],
   "source": [
    "# Collect boundary conditions\n",
    "bcs = [bc0]"
   ]
  },
  {
   "cell_type": "markdown",
   "metadata": {},
   "source": [
    "Here only the Dirichlet boundary condition is put into the list because\n",
    "the periodic boundary condition is already applied in the definition of\n",
    "the function space. Next, we want to express the variational problem.\n",
    "First, we need to specify the trial function u and the test function v,\n",
    "both living in the function space V. We do this by defining a\n",
    ":pyTrialFunction\n",
    "&lt;dolfin.functions.function.TrialFunction&gt; and a\n",
    ":pyTestFunction &lt;dolfin.functions.function.TestFunction&gt; on the\n",
    "previously defined :pyFunctionSpace\n",
    "&lt;dolfin.cpp.function.FunctionSpace&gt; V. The source function f is\n",
    "created by making an instance of Source. With these ingredients, we can\n",
    "write down the bilinear form a and the linear form L (using UFL\n",
    "operators). In summary, this reads"
   ]
  },
  {
   "cell_type": "code",
   "execution_count": null,
   "metadata": {
    "attributes": {
     "classes": [
      "sourceCode"
     ],
     "id": ""
    }
   },
   "outputs": [],
   "source": [
    "# Define variational problem\n",
    "u = TrialFunction(V)\n",
    "v = TestFunction(V)\n",
    "f = Source()\n",
    "a = dot(grad(u), grad(v))*dx\n",
    "L = f*v*dx"
   ]
  },
  {
   "cell_type": "markdown",
   "metadata": {},
   "source": [
    "Now, we have specified the variational form and can consider the\n",
    "solution of the variational problem. First, we need to define a\n",
    ":pyFunction &lt;dolfin.cpp.function.Function&gt; u to represent the\n",
    "solution. (Upon initialization, it is simply set to the zero function.)\n",
    "A Function represents a function living in a finite element function\n",
    "space. Next, we can call the solve function with the arguments a == L, u\n",
    "and bcs as follows:"
   ]
  },
  {
   "cell_type": "code",
   "execution_count": null,
   "metadata": {
    "attributes": {
     "classes": [
      "sourceCode"
     ],
     "id": ""
    }
   },
   "outputs": [],
   "source": [
    "# Compute solution\n",
    "u = Function(V)\n",
    "solve(a == L, u, bcs)"
   ]
  },
  {
   "cell_type": "markdown",
   "metadata": {},
   "source": [
    "The function u will be modified during the call to solve. The default\n",
    "settings for solving a variational problem have been used. However, the\n",
    "solution process can be controlled in much more detail if desired.\n",
    "\n",
    "A :pyFunction &lt;dolfin.cpp.function.Function&gt; can be manipulated in\n",
    "various ways, in particular, it can be plotted and saved to file. Here,\n",
    "we output the solution to a VTK file (using the suffix .pvd) for later\n",
    "visualization and also plot it using the plot command:"
   ]
  },
  {
   "cell_type": "code",
   "execution_count": null,
   "metadata": {
    "attributes": {
     "classes": [
      "sourceCode"
     ],
     "id": ""
    }
   },
   "outputs": [],
   "source": [
    "# Save solution to file\n",
    "file = File(\"periodic.pvd\")\n",
    "file << u\n",
    "\n",
    "# Plot solution\n",
    "plot(u, interactive=True)"
   ]
  },
  {
   "cell_type": "markdown",
   "metadata": {},
   "source": [
    "## Complete code"
   ]
  }
 ],
 "metadata": {
  "kernelspec": {
   "display_name": "Python 2 (fenics)",
   "language": "python",
   "name": "python3"
  }
 },
 "nbformat": 4,
 "nbformat_minor": 0
}
